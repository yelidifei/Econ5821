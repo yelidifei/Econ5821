{
 "cells": [
  {
   "cell_type": "markdown",
   "metadata": {
    "slideshow": {
     "slide_type": "slide"
    }
   },
   "source": [
    "# Git and Github\n",
    "\n",
    "Zhentao Shi"
   ]
  },
  {
   "cell_type": "markdown",
   "metadata": {
    "slideshow": {
     "slide_type": "slide"
    }
   },
   "source": [
    "## Version Control\n",
    "\n",
    "* [Git](https://git-scm.com/) <img src=\"https://git-scm.com/images/logos/downloads/Git-Icon-1788C.png\" width=\"100\">\n",
    "  - coding projects\n",
    "  - long documents\n",
    "  - \n",
    "add git icon use markdown\n",
    "\n",
    "\n",
    "\n",
    "* [Github](https://github.com/) <img src=\"https://github.githubassets.com/images/modules/logos_page/GitHub-Mark.png\" width=\"100\">\n",
    "  - online copy\n",
    "  - collaboration\n",
    "\n"
   ]
  },
  {
   "cell_type": "markdown",
   "metadata": {
    "slideshow": {
     "slide_type": "slide"
    }
   },
   "source": [
    "## Full-Length Tutorials\n",
    "\n",
    "* [Atlassian Online Tutorial](https://www.atlassian.com/git/tutorials) \n",
    "* [Happy Git with R](https://happygitwithr.com/)\n",
    "* [Pro Git](http://git-scm.com/book/en/v2)\n",
    "\n",
    "Short tutorials are listed at the end of the slides as reading assignments."
   ]
  },
  {
   "cell_type": "markdown",
   "metadata": {
    "slideshow": {
     "slide_type": "slide"
    }
   },
   "source": [
    "## Interfaces\n",
    "\n",
    "* Command line interface (CLI)\n",
    "* Graphic user interface\n",
    "  - [SourceTree](https://www.sourcetreeapp.com/)"
   ]
  },
  {
   "cell_type": "markdown",
   "metadata": {
    "slideshow": {
     "slide_type": "slide"
    }
   },
   "source": [
    "## Linux\n",
    "\n",
    "* GUI for PC\n",
    "* Command line for cloud compting\n",
    "  * E.g: [CUHK SCRP](https://scrp-login.econ.cuhk.edu.hk/)\n",
    "\n",
    "insert a linux icon here\n",
    "\n",
    "<img src=\"https://www.freepnglogos.com/uploads/linux-png/linux-logo-png-transparent-svg-vector-bie-supply-1.png\"\n",
    " width=\"100\">\n",
    "\n",
    "\n",
    "\n"
   ]
  },
  {
   "cell_type": "markdown",
   "metadata": {
    "slideshow": {
     "slide_type": "subslide"
    }
   },
   "source": [
    "* `mkdir`: make directory\n",
    "* `cd`: change directory\n",
    "* `ls`: display files\n",
    "* `cp`: copy a file\n",
    "* `nano`: open a file in a text editor called \"nano\"\n",
    "* `uname`: name of the system\n",
    "* `R`: Open R  \n",
    "  "
   ]
  },
  {
   "cell_type": "markdown",
   "metadata": {
    "slideshow": {
     "slide_type": "slide"
    }
   },
   "source": [
    "## Basic Commands\n",
    "\n",
    "### Identity\n",
    "\n",
    "* `git config --global user.name <name>`\n",
    "* `git config --global user.email <email>`\n",
    "\n"
   ]
  },
  {
   "cell_type": "markdown",
   "metadata": {
    "slideshow": {
     "slide_type": "slide"
    }
   },
   "source": [
    "### Local\n",
    "\n",
    "* .gitignore\n",
    "* `git help <command>` gets help for a git command\n",
    "* `git init`  creates a new git repo, with data stored in the `.git` directory\n",
    "* `git status` inspects the contents of the working directory and staging area.\n",
    "* `git add filename` adds files to the staging area from working directory.\n",
    "* `git add filename1 filename2` adds multiple files to the staging area."
   ]
  },
  {
   "cell_type": "markdown",
   "metadata": {
    "slideshow": {
     "slide_type": "subslide"
    }
   },
   "source": [
    "* `git commit` stores changes from the staging area to the repository.\n",
    "* `git commit -m \"Commit Message\"` The commit message must be in the quotation marks.\n",
    "* `git log` displays historical commits stored chronologically in the repository.\n",
    "* `git tag -a v1.0 -m 'message' [optional:commit-id]`"
   ]
  },
  {
   "cell_type": "markdown",
   "metadata": {
    "slideshow": {
     "slide_type": "slide"
    }
   },
   "source": [
    "#### Eraser-like features\n",
    "\n",
    "The latest commit is called **HEAD** commit\n",
    "* `git show HEAD`  displays view the HEAD commit.\n",
    "* `git checkout HEAD filename` restores the file in the working directory to what you made in last commit.\n",
    "* `git reset HEAD filename` unstages the file from committing in the staging area. It does not discard file changes from the working directory; it just removes them from the staging area.\n",
    "* `git reset SHA` works by using **the first 7 characters** of the SHA of a previous commit."
   ]
  },
  {
   "cell_type": "markdown",
   "metadata": {
    "slideshow": {
     "slide_type": "slide"
    }
   },
   "source": [
    "#### Branch\n",
    "\n",
    "Branches can be created for new project features.\n",
    "\n",
    "The ultimate goal is to merge that feature into the master branch.\n",
    "\n",
    "* `git branch` displays the current branch.\n",
    "* `git branch brach_name` creates a new branch\n",
    "* `git checkout branch_name` switches to a branch\n",
    "* `git merge branch_name` merges the branch"
   ]
  },
  {
   "cell_type": "markdown",
   "metadata": {
    "slideshow": {
     "slide_type": "slide"
    }
   },
   "source": [
    "## Github\n",
    "\n",
    "* Cloud git services: \n",
    "  * github\n",
    "  * bitbucket\n",
    "  * gitlab\n",
    "  * gitee (China) ...\n",
    "  \n",
    "  "
   ]
  },
  {
   "cell_type": "markdown",
   "metadata": {
    "slideshow": {
     "slide_type": "fragment"
    }
   },
   "source": [
    "* Github most popular\n",
    "  * Free Pro account for students "
   ]
  },
  {
   "cell_type": "markdown",
   "metadata": {
    "slideshow": {
     "slide_type": "subslide"
    }
   },
   "source": [
    "### Remote\n",
    "\n",
    "* `git clone https://github.com/user_name/repo_name`\n",
    "* `git remote add origin` adds the origin remote's URL.\n",
    "* `git remote -v` lists git project's remote copies.\n",
    "* `git push origin master` uploads local commits to the remote repository.\n",
    "* `git pull` downloads the remote copy and merge.\n",
    "* `git fetch` fetches the remote copy to the local hard disk."
   ]
  },
  {
   "cell_type": "markdown",
   "metadata": {
    "slideshow": {
     "slide_type": "subslide"
    }
   },
   "source": [
    "## Collaboration \n",
    "\n",
    "Collaboration typically works as the following:\n",
    "\n",
    "1. Fetch, pull, and merge changes from a remote repository;\n",
    "2. Create a branch to work on a new project feature;\n",
    "3. Develop the feature on your branch and commit your work;\n",
    "4. Fetch and merge from the remote again (in case other collaborators have uploaded new commits while you were working);\n",
    "5. Push your branch up to the remote for review."
   ]
  },
  {
   "cell_type": "markdown",
   "metadata": {
    "slideshow": {
     "slide_type": "subslide"
    }
   },
   "source": [
    "#### Conflict\n",
    "\n",
    "* Collaborators working separately on the same line of a file may easily encounter conflicts. \n",
    "* If so, `git pull` will not merge changes from the remote into local repo. \n",
    "* Need to resolve the conflicts"
   ]
  },
  {
   "cell_type": "markdown",
   "metadata": {
    "slideshow": {
     "slide_type": "slide"
    }
   },
   "source": [
    "## Markdown\n",
    "\n",
    "* Text only. \n",
    "* Simple syntax.\n",
    "* [Cheat sheet](https://www.markdownguide.org/cheat-sheet/)"
   ]
  },
  {
   "cell_type": "markdown",
   "metadata": {
    "slideshow": {
     "slide_type": "skip"
    }
   },
   "source": [
    "## IDE\n",
    "\n",
    "* [RStudio](https://rstudio.com/) <img src=\"https://www.rstudio.com/wp-content/uploads/2018/10/RStudio-Logo-Flat.png\" width=\"100\">\n",
    "\n",
    "\n",
    "* [VS Code](https://code.visualstudio.com/) <img src=\"https://upload.wikimedia.org/wikipedia/commons/thumb/2/2d/Visual_Studio_Code_1.18_icon.svg/1200px-Visual_Studio_Code_1.18_icon.svg.png\" width=\"100\">\n"
   ]
  },
  {
   "cell_type": "markdown",
   "metadata": {
    "slideshow": {
     "slide_type": "slide"
    }
   },
   "source": [
    "## VS Code\n",
    "\n",
    "\n",
    "* [VS Code](https://code.visualstudio.com/) <img src=\"https://upload.wikimedia.org/wikipedia/commons/thumb/2/2d/Visual_Studio_Code_1.18_icon.svg/1200px-Visual_Studio_Code_1.18_icon.svg.png\" width=\"100\">\n",
    "\n",
    "* Powerful tools\n",
    "\n",
    "![Copilot](https://upload.wikimedia.org/wikipedia/commons/8/8a/GitHub_Copilot_logo.svg)\n",
    "\n",
    "* Add-on integration\n"
   ]
  },
  {
   "cell_type": "markdown",
   "metadata": {
    "slideshow": {
     "slide_type": "slide"
    }
   },
   "source": [
    "## Exercises\n",
    "\n",
    "1. Initial a git repo in a folder (either local or on SCRP)\n",
    "2. Create an md file called `hello.md`, and write \"Hello World!\" in it.\n",
    "3. Commit the changes.\n",
    "4. Register a github account (if you haven't done so).\n",
    "5. Push the latest commit to github."
   ]
  },
  {
   "cell_type": "markdown",
   "metadata": {
    "slideshow": {
     "slide_type": "slide"
    }
   },
   "source": [
    "## Readings\n",
    "\n",
    "As a fundamental tool for coding, there are plenty of excellent tutorials online.\n",
    "\n",
    "<!-- * Grant McDermott's lecture notes: [Git](https://raw.githack.com/uo-ec510-2020-spring/lectures/master/02-git/02-git.html#1), [Shell](https://raw.githack.com/uo-ec510-2020-spring/lectures/master/03-shell/03-shell.html#1) -->\n",
    "* Youtube videos\n",
    "  * 10-min [video](https://www.youtube.com/watch?v=q4CQBuZ4IGo) in Chinese.\n",
    "  * 1-hour [video](https://www.youtube.com/watch?v=RGOj5yH7evk) for beginners.\n"
   ]
  },
  {
   "cell_type": "markdown",
   "metadata": {
    "slideshow": {
     "slide_type": "fragment"
    }
   },
   "source": [
    "\n",
    "**Extra reading**\n",
    "\n",
    "* [The Missing Semester of Your CS Education](https://missing.csail.mit.edu/)\n"
   ]
  },
  {
   "cell_type": "markdown",
   "metadata": {
    "slideshow": {
     "slide_type": "fragment"
    }
   },
   "source": [
    "\n",
    "**Final words**: \n",
    "Don't expect you can be a Git guru in one day.\n",
    "It is learning by doing."
   ]
  }
 ],
 "metadata": {
  "celltoolbar": "Slideshow",
  "kernelspec": {
   "display_name": "R",
   "language": "R",
   "name": "ir"
  },
  "language_info": {
   "codemirror_mode": "r",
   "file_extension": ".r",
   "mimetype": "text/x-r-source",
   "name": "R",
   "pygments_lexer": "r",
   "version": "4.3.1"
  },
  "rise": {
   "theme": "serif"
  }
 },
 "nbformat": 4,
 "nbformat_minor": 4
}
