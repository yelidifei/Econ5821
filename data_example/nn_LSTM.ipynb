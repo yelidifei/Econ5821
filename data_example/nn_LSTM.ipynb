{
 "cells": [
  {
   "cell_type": "markdown",
   "metadata": {},
   "source": [
    "# Time Series Forcasting with LSTM"
   ]
  },
  {
   "cell_type": "markdown",
   "metadata": {},
   "source": [
    "import packages"
   ]
  },
  {
   "cell_type": "code",
   "execution_count": 1,
   "metadata": {},
   "outputs": [
    {
     "name": "stderr",
     "output_type": "stream",
     "text": [
      "2024-03-21 22:16:28.979084: E external/local_xla/xla/stream_executor/cuda/cuda_dnn.cc:9261] Unable to register cuDNN factory: Attempting to register factory for plugin cuDNN when one has already been registered\n",
      "2024-03-21 22:16:28.979133: E external/local_xla/xla/stream_executor/cuda/cuda_fft.cc:607] Unable to register cuFFT factory: Attempting to register factory for plugin cuFFT when one has already been registered\n",
      "2024-03-21 22:16:28.980020: E external/local_xla/xla/stream_executor/cuda/cuda_blas.cc:1515] Unable to register cuBLAS factory: Attempting to register factory for plugin cuBLAS when one has already been registered\n",
      "2024-03-21 22:16:28.986305: I tensorflow/core/platform/cpu_feature_guard.cc:182] This TensorFlow binary is optimized to use available CPU instructions in performance-critical operations.\n",
      "To enable the following instructions: AVX2 FMA, in other operations, rebuild TensorFlow with the appropriate compiler flags.\n",
      "2024-03-21 22:16:30.973615: W tensorflow/compiler/tf2tensorrt/utils/py_utils.cc:38] TF-TRT Warning: Could not find TensorRT\n"
     ]
    }
   ],
   "source": [
    "import tensorflow as tf\n",
    "import pandas as pd\n",
    "import numpy as np"
   ]
  },
  {
   "cell_type": "markdown",
   "metadata": {},
   "source": [
    "check the GPU usage."
   ]
  },
  {
   "cell_type": "code",
   "execution_count": 2,
   "metadata": {},
   "outputs": [
    {
     "data": {
      "text/plain": [
       "[PhysicalDevice(name='/physical_device:CPU:0', device_type='CPU'),\n",
       " PhysicalDevice(name='/physical_device:GPU:0', device_type='GPU'),\n",
       " PhysicalDevice(name='/physical_device:GPU:1', device_type='GPU')]"
      ]
     },
     "execution_count": 2,
     "metadata": {},
     "output_type": "execute_result"
    }
   ],
   "source": [
    "tf.config.list_physical_devices()"
   ]
  },
  {
   "cell_type": "markdown",
   "metadata": {},
   "source": [
    "## Preprocess the data"
   ]
  },
  {
   "cell_type": "markdown",
   "metadata": {},
   "source": [
    "### Import data"
   ]
  },
  {
   "cell_type": "code",
   "execution_count": 3,
   "metadata": {},
   "outputs": [
    {
     "data": {
      "text/html": [
       "<div>\n",
       "<style scoped>\n",
       "    .dataframe tbody tr th:only-of-type {\n",
       "        vertical-align: middle;\n",
       "    }\n",
       "\n",
       "    .dataframe tbody tr th {\n",
       "        vertical-align: top;\n",
       "    }\n",
       "\n",
       "    .dataframe thead th {\n",
       "        text-align: right;\n",
       "    }\n",
       "</style>\n",
       "<table border=\"1\" class=\"dataframe\">\n",
       "  <thead>\n",
       "    <tr style=\"text-align: right;\">\n",
       "      <th></th>\n",
       "      <th>sasdate</th>\n",
       "      <th>RPI</th>\n",
       "      <th>W875RX1</th>\n",
       "      <th>DPCERA3M086SBEA</th>\n",
       "      <th>CMRMTSPLx</th>\n",
       "      <th>RETAILx</th>\n",
       "      <th>INDPRO</th>\n",
       "      <th>IPFPNSS</th>\n",
       "      <th>IPFINAL</th>\n",
       "      <th>IPCONGD</th>\n",
       "      <th>...</th>\n",
       "      <th>DNDGRG3M086SBEA</th>\n",
       "      <th>DSERRG3M086SBEA</th>\n",
       "      <th>CES0600000008</th>\n",
       "      <th>CES2000000008</th>\n",
       "      <th>CES3000000008</th>\n",
       "      <th>UMCSENTx</th>\n",
       "      <th>DTCOLNVHFNM</th>\n",
       "      <th>DTCTHFNM</th>\n",
       "      <th>INVEST</th>\n",
       "      <th>VIXCLSx</th>\n",
       "    </tr>\n",
       "  </thead>\n",
       "  <tbody>\n",
       "    <tr>\n",
       "      <th>1</th>\n",
       "      <td>1/1/1959</td>\n",
       "      <td>2583.560</td>\n",
       "      <td>2426.0</td>\n",
       "      <td>15.188</td>\n",
       "      <td>276676.8154</td>\n",
       "      <td>18235.77392</td>\n",
       "      <td>21.9665</td>\n",
       "      <td>23.3891</td>\n",
       "      <td>22.2688</td>\n",
       "      <td>31.7011</td>\n",
       "      <td>...</td>\n",
       "      <td>18.294</td>\n",
       "      <td>10.152</td>\n",
       "      <td>2.13</td>\n",
       "      <td>2.45</td>\n",
       "      <td>2.04</td>\n",
       "      <td>NaN</td>\n",
       "      <td>6476.0</td>\n",
       "      <td>12298.0</td>\n",
       "      <td>84.2043</td>\n",
       "      <td>NaN</td>\n",
       "    </tr>\n",
       "    <tr>\n",
       "      <th>2</th>\n",
       "      <td>2/1/1959</td>\n",
       "      <td>2593.596</td>\n",
       "      <td>2434.8</td>\n",
       "      <td>15.346</td>\n",
       "      <td>278713.9773</td>\n",
       "      <td>18369.56308</td>\n",
       "      <td>22.3966</td>\n",
       "      <td>23.7048</td>\n",
       "      <td>22.4617</td>\n",
       "      <td>31.9337</td>\n",
       "      <td>...</td>\n",
       "      <td>18.302</td>\n",
       "      <td>10.167</td>\n",
       "      <td>2.14</td>\n",
       "      <td>2.46</td>\n",
       "      <td>2.05</td>\n",
       "      <td>NaN</td>\n",
       "      <td>6476.0</td>\n",
       "      <td>12298.0</td>\n",
       "      <td>83.5280</td>\n",
       "      <td>NaN</td>\n",
       "    </tr>\n",
       "    <tr>\n",
       "      <th>3</th>\n",
       "      <td>3/1/1959</td>\n",
       "      <td>2610.396</td>\n",
       "      <td>2452.7</td>\n",
       "      <td>15.491</td>\n",
       "      <td>277775.2539</td>\n",
       "      <td>18523.05762</td>\n",
       "      <td>22.7193</td>\n",
       "      <td>23.8483</td>\n",
       "      <td>22.5719</td>\n",
       "      <td>31.9337</td>\n",
       "      <td>...</td>\n",
       "      <td>18.289</td>\n",
       "      <td>10.185</td>\n",
       "      <td>2.15</td>\n",
       "      <td>2.45</td>\n",
       "      <td>2.07</td>\n",
       "      <td>NaN</td>\n",
       "      <td>6508.0</td>\n",
       "      <td>12349.0</td>\n",
       "      <td>81.6405</td>\n",
       "      <td>NaN</td>\n",
       "    </tr>\n",
       "    <tr>\n",
       "      <th>4</th>\n",
       "      <td>4/1/1959</td>\n",
       "      <td>2627.446</td>\n",
       "      <td>2470.0</td>\n",
       "      <td>15.435</td>\n",
       "      <td>283362.7075</td>\n",
       "      <td>18534.46600</td>\n",
       "      <td>23.2032</td>\n",
       "      <td>24.1927</td>\n",
       "      <td>22.9026</td>\n",
       "      <td>32.4374</td>\n",
       "      <td>...</td>\n",
       "      <td>18.300</td>\n",
       "      <td>10.221</td>\n",
       "      <td>2.16</td>\n",
       "      <td>2.47</td>\n",
       "      <td>2.08</td>\n",
       "      <td>NaN</td>\n",
       "      <td>6620.0</td>\n",
       "      <td>12484.0</td>\n",
       "      <td>81.8099</td>\n",
       "      <td>NaN</td>\n",
       "    </tr>\n",
       "    <tr>\n",
       "      <th>5</th>\n",
       "      <td>5/1/1959</td>\n",
       "      <td>2642.720</td>\n",
       "      <td>2486.4</td>\n",
       "      <td>15.622</td>\n",
       "      <td>285307.2201</td>\n",
       "      <td>18679.66354</td>\n",
       "      <td>23.5528</td>\n",
       "      <td>24.3936</td>\n",
       "      <td>23.1231</td>\n",
       "      <td>32.5925</td>\n",
       "      <td>...</td>\n",
       "      <td>18.280</td>\n",
       "      <td>10.238</td>\n",
       "      <td>2.17</td>\n",
       "      <td>2.48</td>\n",
       "      <td>2.08</td>\n",
       "      <td>95.3</td>\n",
       "      <td>6753.0</td>\n",
       "      <td>12646.0</td>\n",
       "      <td>80.7315</td>\n",
       "      <td>NaN</td>\n",
       "    </tr>\n",
       "  </tbody>\n",
       "</table>\n",
       "<p>5 rows × 128 columns</p>\n",
       "</div>"
      ],
      "text/plain": [
       "    sasdate       RPI  W875RX1  DPCERA3M086SBEA    CMRMTSPLx      RETAILx  \\\n",
       "1  1/1/1959  2583.560   2426.0           15.188  276676.8154  18235.77392   \n",
       "2  2/1/1959  2593.596   2434.8           15.346  278713.9773  18369.56308   \n",
       "3  3/1/1959  2610.396   2452.7           15.491  277775.2539  18523.05762   \n",
       "4  4/1/1959  2627.446   2470.0           15.435  283362.7075  18534.46600   \n",
       "5  5/1/1959  2642.720   2486.4           15.622  285307.2201  18679.66354   \n",
       "\n",
       "    INDPRO  IPFPNSS  IPFINAL  IPCONGD  ...  DNDGRG3M086SBEA  DSERRG3M086SBEA  \\\n",
       "1  21.9665  23.3891  22.2688  31.7011  ...           18.294           10.152   \n",
       "2  22.3966  23.7048  22.4617  31.9337  ...           18.302           10.167   \n",
       "3  22.7193  23.8483  22.5719  31.9337  ...           18.289           10.185   \n",
       "4  23.2032  24.1927  22.9026  32.4374  ...           18.300           10.221   \n",
       "5  23.5528  24.3936  23.1231  32.5925  ...           18.280           10.238   \n",
       "\n",
       "   CES0600000008  CES2000000008  CES3000000008  UMCSENTx  DTCOLNVHFNM  \\\n",
       "1           2.13           2.45           2.04       NaN       6476.0   \n",
       "2           2.14           2.46           2.05       NaN       6476.0   \n",
       "3           2.15           2.45           2.07       NaN       6508.0   \n",
       "4           2.16           2.47           2.08       NaN       6620.0   \n",
       "5           2.17           2.48           2.08      95.3       6753.0   \n",
       "\n",
       "   DTCTHFNM   INVEST  VIXCLSx  \n",
       "1   12298.0  84.2043      NaN  \n",
       "2   12298.0  83.5280      NaN  \n",
       "3   12349.0  81.6405      NaN  \n",
       "4   12484.0  81.8099      NaN  \n",
       "5   12646.0  80.7315      NaN  \n",
       "\n",
       "[5 rows x 128 columns]"
      ]
     },
     "execution_count": 3,
     "metadata": {},
     "output_type": "execute_result"
    }
   ],
   "source": [
    "data = pd.read_csv(\"fred_md.csv\")\n",
    "data = data[1:]\n",
    "data.head()"
   ]
  },
  {
   "cell_type": "markdown",
   "metadata": {},
   "source": [
    "### Deal with missing data"
   ]
  },
  {
   "cell_type": "markdown",
   "metadata": {},
   "source": [
    "get the location of missing data"
   ]
  },
  {
   "cell_type": "code",
   "execution_count": 4,
   "metadata": {},
   "outputs": [],
   "source": [
    "missing_values_list = []  \n",
    "  \n",
    "for col in data.columns:  \n",
    "    for idx, value in enumerate(data[col]):  \n",
    "        if pd.isnull(value):  \n",
    "            missing_values_list.append((idx, col))  \n",
    "  \n",
    "# print(missing_values_list)  "
   ]
  },
  {
   "cell_type": "markdown",
   "metadata": {},
   "source": [
    "check the missing data of UNRATE"
   ]
  },
  {
   "cell_type": "code",
   "execution_count": 5,
   "metadata": {},
   "outputs": [
    {
     "name": "stdout",
     "output_type": "stream",
     "text": [
      "[]\n"
     ]
    }
   ],
   "source": [
    "unrate_missing = [(idx, col) for (idx, col) in missing_values_list if col == 'UNRATE'] \n",
    "print(unrate_missing)"
   ]
  },
  {
   "cell_type": "markdown",
   "metadata": {},
   "source": [
    "found that `UNRATE` doesn't have missingdata.\n",
    "\n",
    "drop some features that frequently missing."
   ]
  },
  {
   "cell_type": "markdown",
   "metadata": {},
   "source": [
    "Infomation of these dropped features:\n",
    "\n",
    "- New Orders for Consumer Goods\n",
    "\n",
    "- New Orders for Nondefense Capital Goods\n",
    "\n",
    "- FRED‐MD 2020‐04: Starting in this vintage, TWEXMMTH has been replaced with \n",
    "TWEXAFEGSMTHx. The previous series has been discontinued by the source. The new series has \n",
    "been constructed by splicing rebased TWEXMMTH and TWEXAFEGSMTH. \n",
    "\n",
    "- FRED‐MD 2016‐01: Starting in this vintage, the most recent value for the UMCSENTx is not \n",
    "shown due to the agreement with the source. Previously, this variable had a 6 month lag.\n",
    "\n",
    "- FRED‐MD 2021‐12: Starting in this vintage, VXOCLSx has been replaced with VIXCLSx. The \n",
    "previous series has been discontinued by the source. "
   ]
  },
  {
   "cell_type": "code",
   "execution_count": 6,
   "metadata": {},
   "outputs": [],
   "source": [
    "columns_to_drop = ['ACOGNO', 'ANDENOx', 'TWEXAFEGSMTHx', 'UMCSENTx', 'VIXCLSx']\n",
    "data = data.drop(columns=columns_to_drop)  "
   ]
  },
  {
   "cell_type": "markdown",
   "metadata": {},
   "source": [
    "drop some date that have too much missing data."
   ]
  },
  {
   "cell_type": "code",
   "execution_count": 7,
   "metadata": {},
   "outputs": [],
   "source": [
    "rows_to_drop = list(range(1, 13)) + list(range(736, 782))  \n",
    "data = data.drop(index=rows_to_drop)  "
   ]
  },
  {
   "cell_type": "markdown",
   "metadata": {},
   "source": [
    "Check for missing data"
   ]
  },
  {
   "cell_type": "code",
   "execution_count": 8,
   "metadata": {},
   "outputs": [
    {
     "name": "stdout",
     "output_type": "stream",
     "text": [
      "[]\n"
     ]
    }
   ],
   "source": [
    "missing_values_list = []  \n",
    "  \n",
    "for col in data.columns:  \n",
    "    for idx, value in enumerate(data[col]):  \n",
    "        if pd.isnull(value):  \n",
    "            missing_values_list.append((idx, col))  \n",
    "  \n",
    "print(missing_values_list)  "
   ]
  },
  {
   "cell_type": "markdown",
   "metadata": {},
   "source": [
    "there is no missing data."
   ]
  },
  {
   "cell_type": "markdown",
   "metadata": {},
   "source": [
    "### Change data type"
   ]
  },
  {
   "cell_type": "markdown",
   "metadata": {},
   "source": [
    "datetime"
   ]
  },
  {
   "cell_type": "code",
   "execution_count": 9,
   "metadata": {},
   "outputs": [
    {
     "data": {
      "text/html": [
       "<div>\n",
       "<style scoped>\n",
       "    .dataframe tbody tr th:only-of-type {\n",
       "        vertical-align: middle;\n",
       "    }\n",
       "\n",
       "    .dataframe tbody tr th {\n",
       "        vertical-align: top;\n",
       "    }\n",
       "\n",
       "    .dataframe thead th {\n",
       "        text-align: right;\n",
       "    }\n",
       "</style>\n",
       "<table border=\"1\" class=\"dataframe\">\n",
       "  <thead>\n",
       "    <tr style=\"text-align: right;\">\n",
       "      <th></th>\n",
       "      <th>RPI</th>\n",
       "      <th>W875RX1</th>\n",
       "      <th>DPCERA3M086SBEA</th>\n",
       "      <th>CMRMTSPLx</th>\n",
       "      <th>RETAILx</th>\n",
       "      <th>INDPRO</th>\n",
       "      <th>IPFPNSS</th>\n",
       "      <th>IPFINAL</th>\n",
       "      <th>IPCONGD</th>\n",
       "      <th>IPDCONGD</th>\n",
       "      <th>...</th>\n",
       "      <th>PCEPI</th>\n",
       "      <th>DDURRG3M086SBEA</th>\n",
       "      <th>DNDGRG3M086SBEA</th>\n",
       "      <th>DSERRG3M086SBEA</th>\n",
       "      <th>CES0600000008</th>\n",
       "      <th>CES2000000008</th>\n",
       "      <th>CES3000000008</th>\n",
       "      <th>DTCOLNVHFNM</th>\n",
       "      <th>DTCTHFNM</th>\n",
       "      <th>INVEST</th>\n",
       "    </tr>\n",
       "    <tr>\n",
       "      <th>sasdate</th>\n",
       "      <th></th>\n",
       "      <th></th>\n",
       "      <th></th>\n",
       "      <th></th>\n",
       "      <th></th>\n",
       "      <th></th>\n",
       "      <th></th>\n",
       "      <th></th>\n",
       "      <th></th>\n",
       "      <th></th>\n",
       "      <th></th>\n",
       "      <th></th>\n",
       "      <th></th>\n",
       "      <th></th>\n",
       "      <th></th>\n",
       "      <th></th>\n",
       "      <th></th>\n",
       "      <th></th>\n",
       "      <th></th>\n",
       "      <th></th>\n",
       "      <th></th>\n",
       "    </tr>\n",
       "  </thead>\n",
       "  <tbody>\n",
       "    <tr>\n",
       "      <th>1960-01-01</th>\n",
       "      <td>2695.694</td>\n",
       "      <td>2537.6</td>\n",
       "      <td>15.789</td>\n",
       "      <td>286930.9859</td>\n",
       "      <td>18763.67069</td>\n",
       "      <td>24.1712</td>\n",
       "      <td>25.3119</td>\n",
       "      <td>24.0877</td>\n",
       "      <td>34.0264</td>\n",
       "      <td>21.7598</td>\n",
       "      <td>...</td>\n",
       "      <td>15.421</td>\n",
       "      <td>63.672</td>\n",
       "      <td>18.410</td>\n",
       "      <td>10.466</td>\n",
       "      <td>2.22</td>\n",
       "      <td>2.57</td>\n",
       "      <td>2.13</td>\n",
       "      <td>7362.0</td>\n",
       "      <td>14063.0</td>\n",
       "      <td>75.4515</td>\n",
       "    </tr>\n",
       "    <tr>\n",
       "      <th>1960-02-01</th>\n",
       "      <td>2698.789</td>\n",
       "      <td>2539.9</td>\n",
       "      <td>15.858</td>\n",
       "      <td>291093.6977</td>\n",
       "      <td>18833.15808</td>\n",
       "      <td>23.9561</td>\n",
       "      <td>25.1684</td>\n",
       "      <td>24.0051</td>\n",
       "      <td>33.6388</td>\n",
       "      <td>21.4604</td>\n",
       "      <td>...</td>\n",
       "      <td>15.437</td>\n",
       "      <td>63.775</td>\n",
       "      <td>18.411</td>\n",
       "      <td>10.484</td>\n",
       "      <td>2.23</td>\n",
       "      <td>2.59</td>\n",
       "      <td>2.14</td>\n",
       "      <td>7396.0</td>\n",
       "      <td>14144.0</td>\n",
       "      <td>73.3363</td>\n",
       "    </tr>\n",
       "    <tr>\n",
       "      <th>1960-03-01</th>\n",
       "      <td>2703.859</td>\n",
       "      <td>2542.2</td>\n",
       "      <td>16.083</td>\n",
       "      <td>283044.8908</td>\n",
       "      <td>18812.41558</td>\n",
       "      <td>23.7410</td>\n",
       "      <td>25.0823</td>\n",
       "      <td>23.9775</td>\n",
       "      <td>33.6776</td>\n",
       "      <td>21.0362</td>\n",
       "      <td>...</td>\n",
       "      <td>15.446</td>\n",
       "      <td>63.589</td>\n",
       "      <td>18.445</td>\n",
       "      <td>10.490</td>\n",
       "      <td>2.24</td>\n",
       "      <td>2.69</td>\n",
       "      <td>2.14</td>\n",
       "      <td>7456.0</td>\n",
       "      <td>14239.0</td>\n",
       "      <td>71.5296</td>\n",
       "    </tr>\n",
       "    <tr>\n",
       "      <th>1960-04-01</th>\n",
       "      <td>2713.243</td>\n",
       "      <td>2551.4</td>\n",
       "      <td>16.331</td>\n",
       "      <td>285847.3937</td>\n",
       "      <td>19306.08721</td>\n",
       "      <td>23.5528</td>\n",
       "      <td>25.1398</td>\n",
       "      <td>24.0051</td>\n",
       "      <td>33.9101</td>\n",
       "      <td>21.0112</td>\n",
       "      <td>...</td>\n",
       "      <td>15.502</td>\n",
       "      <td>63.665</td>\n",
       "      <td>18.561</td>\n",
       "      <td>10.512</td>\n",
       "      <td>2.23</td>\n",
       "      <td>2.61</td>\n",
       "      <td>2.14</td>\n",
       "      <td>7582.0</td>\n",
       "      <td>14413.0</td>\n",
       "      <td>71.4718</td>\n",
       "    </tr>\n",
       "    <tr>\n",
       "      <th>1960-05-01</th>\n",
       "      <td>2719.777</td>\n",
       "      <td>2557.6</td>\n",
       "      <td>16.002</td>\n",
       "      <td>276978.5849</td>\n",
       "      <td>19017.76638</td>\n",
       "      <td>23.5259</td>\n",
       "      <td>25.2832</td>\n",
       "      <td>24.1704</td>\n",
       "      <td>34.1039</td>\n",
       "      <td>21.2108</td>\n",
       "      <td>...</td>\n",
       "      <td>15.518</td>\n",
       "      <td>63.658</td>\n",
       "      <td>18.553</td>\n",
       "      <td>10.540</td>\n",
       "      <td>2.24</td>\n",
       "      <td>2.64</td>\n",
       "      <td>2.14</td>\n",
       "      <td>7673.0</td>\n",
       "      <td>14559.0</td>\n",
       "      <td>71.6858</td>\n",
       "    </tr>\n",
       "  </tbody>\n",
       "</table>\n",
       "<p>5 rows × 122 columns</p>\n",
       "</div>"
      ],
      "text/plain": [
       "                 RPI  W875RX1  DPCERA3M086SBEA    CMRMTSPLx      RETAILx  \\\n",
       "sasdate                                                                    \n",
       "1960-01-01  2695.694   2537.6           15.789  286930.9859  18763.67069   \n",
       "1960-02-01  2698.789   2539.9           15.858  291093.6977  18833.15808   \n",
       "1960-03-01  2703.859   2542.2           16.083  283044.8908  18812.41558   \n",
       "1960-04-01  2713.243   2551.4           16.331  285847.3937  19306.08721   \n",
       "1960-05-01  2719.777   2557.6           16.002  276978.5849  19017.76638   \n",
       "\n",
       "             INDPRO  IPFPNSS  IPFINAL  IPCONGD  IPDCONGD  ...   PCEPI  \\\n",
       "sasdate                                                   ...           \n",
       "1960-01-01  24.1712  25.3119  24.0877  34.0264   21.7598  ...  15.421   \n",
       "1960-02-01  23.9561  25.1684  24.0051  33.6388   21.4604  ...  15.437   \n",
       "1960-03-01  23.7410  25.0823  23.9775  33.6776   21.0362  ...  15.446   \n",
       "1960-04-01  23.5528  25.1398  24.0051  33.9101   21.0112  ...  15.502   \n",
       "1960-05-01  23.5259  25.2832  24.1704  34.1039   21.2108  ...  15.518   \n",
       "\n",
       "            DDURRG3M086SBEA  DNDGRG3M086SBEA  DSERRG3M086SBEA  CES0600000008  \\\n",
       "sasdate                                                                        \n",
       "1960-01-01           63.672           18.410           10.466           2.22   \n",
       "1960-02-01           63.775           18.411           10.484           2.23   \n",
       "1960-03-01           63.589           18.445           10.490           2.24   \n",
       "1960-04-01           63.665           18.561           10.512           2.23   \n",
       "1960-05-01           63.658           18.553           10.540           2.24   \n",
       "\n",
       "            CES2000000008  CES3000000008  DTCOLNVHFNM  DTCTHFNM   INVEST  \n",
       "sasdate                                                                   \n",
       "1960-01-01           2.57           2.13       7362.0   14063.0  75.4515  \n",
       "1960-02-01           2.59           2.14       7396.0   14144.0  73.3363  \n",
       "1960-03-01           2.69           2.14       7456.0   14239.0  71.5296  \n",
       "1960-04-01           2.61           2.14       7582.0   14413.0  71.4718  \n",
       "1960-05-01           2.64           2.14       7673.0   14559.0  71.6858  \n",
       "\n",
       "[5 rows x 122 columns]"
      ]
     },
     "execution_count": 9,
     "metadata": {},
     "output_type": "execute_result"
    }
   ],
   "source": [
    "data.index = pd.to_datetime(data[\"sasdate\"], format = \"%m/%d/%Y\")\n",
    "data = data.drop(columns=['sasdate']) \n",
    "data[:5]"
   ]
  },
  {
   "cell_type": "code",
   "execution_count": 10,
   "metadata": {},
   "outputs": [],
   "source": [
    "data = data.astype('float64')  "
   ]
  },
  {
   "cell_type": "markdown",
   "metadata": {},
   "source": [
    "get the number of time and the number of features."
   ]
  },
  {
   "cell_type": "code",
   "execution_count": 11,
   "metadata": {},
   "outputs": [],
   "source": [
    "T, n = data.shape"
   ]
  },
  {
   "cell_type": "code",
   "execution_count": 12,
   "metadata": {},
   "outputs": [
    {
     "data": {
      "text/plain": [
       "723"
      ]
     },
     "execution_count": 12,
     "metadata": {},
     "output_type": "execute_result"
    }
   ],
   "source": [
    "T"
   ]
  },
  {
   "cell_type": "markdown",
   "metadata": {},
   "source": [
    "### Plot the unrate"
   ]
  },
  {
   "cell_type": "markdown",
   "metadata": {},
   "source": [
    "I encounter an error there. My kernel would crash when I excute these codes. \n",
    "\n",
    "updating all packages help to solve this error."
   ]
  },
  {
   "cell_type": "code",
   "execution_count": 13,
   "metadata": {},
   "outputs": [
    {
     "data": {
      "text/plain": [
       "<Axes: xlabel='sasdate'>"
      ]
     },
     "execution_count": 13,
     "metadata": {},
     "output_type": "execute_result"
    },
    {
     "data": {
      "image/png": "[encoded data removed]",
      "text/plain": [
       "<Figure size 640x480 with 1 Axes>"
      ]
     },
     "metadata": {},
     "output_type": "display_data"
    }
   ],
   "source": [
    "unrate = data[\"UNRATE\"]\n",
    "unrate.plot()"
   ]
  },
  {
   "cell_type": "markdown",
   "metadata": {},
   "source": [
    "### Split the data"
   ]
  },
  {
   "cell_type": "code",
   "execution_count": 14,
   "metadata": {},
   "outputs": [],
   "source": [
    "def data_to_X_y(data, window_size=12):\n",
    "  data_as_np = data.to_numpy()\n",
    "  X = []\n",
    "  y = []\n",
    "  for i in range(len(data_as_np)-window_size):\n",
    "    row = [a for a in data_as_np[i:i+window_size]]\n",
    "    X.append(row)\n",
    "    label = data.iloc[i+window_size]['UNRATE']\n",
    "    y.append(label)\n",
    "  return np.array(X), np.array(y)"
   ]
  },
  {
   "cell_type": "markdown",
   "metadata": {},
   "source": [
    "set a WINDOW_SIZE."
   ]
  },
  {
   "cell_type": "code",
   "execution_count": 15,
   "metadata": {},
   "outputs": [
    {
     "data": {
      "text/plain": [
       "((603, 120, 122), (603,))"
      ]
     },
     "execution_count": 15,
     "metadata": {},
     "output_type": "execute_result"
    }
   ],
   "source": [
    "WINDOW_SIZE = 120\n",
    "X, y = data_to_X_y(data, WINDOW_SIZE)\n",
    "X.shape, y.shape"
   ]
  },
  {
   "cell_type": "code",
   "execution_count": 16,
   "metadata": {},
   "outputs": [
    {
     "data": {
      "text/plain": [
       "((433, 120, 122), (433,), (145, 120, 122), (145,), (25, 120, 122), (25,))"
      ]
     },
     "execution_count": 16,
     "metadata": {},
     "output_type": "execute_result"
    }
   ],
   "source": [
    "T1 = int(T*0.6)\n",
    "T2 = int(T*0.8)\n",
    "\n",
    "X_train, y_train = X[:T1], y[:T1]\n",
    "X_val, y_val = X[T1:T2], y[T1:T2]\n",
    "X_test, y_test = X[T2:], y[T2:]\n",
    "X_train.shape, y_train.shape, X_val.shape, y_val.shape, X_test.shape, y_test.shape"
   ]
  },
  {
   "cell_type": "code",
   "execution_count": 17,
   "metadata": {},
   "outputs": [
    {
     "data": {
      "text/plain": [
       "603"
      ]
     },
     "execution_count": 17,
     "metadata": {},
     "output_type": "execute_result"
    }
   ],
   "source": [
    "433+145+25"
   ]
  },
  {
   "cell_type": "markdown",
   "metadata": {},
   "source": [
    "### Normalize the data"
   ]
  },
  {
   "cell_type": "code",
   "execution_count": 18,
   "metadata": {},
   "outputs": [],
   "source": [
    "def normalize(X, mean, std, i):\n",
    "    X[:, :, i] = (X[:, :, i] - mean)/std\n",
    "\n",
    "for i in range(n):\n",
    "    mean = np.mean(X_train[:, :, i])\n",
    "    std = np.std(X_train[:, :, i])\n",
    "    normalize(X_train, mean, std, i)\n",
    "    normalize(X_val, mean, std, i)\n",
    "    normalize(X_test, mean, std, i)"
   ]
  },
  {
   "cell_type": "markdown",
   "metadata": {},
   "source": [
    "## Train the model"
   ]
  },
  {
   "cell_type": "markdown",
   "metadata": {},
   "source": [
    "### prepare the model"
   ]
  },
  {
   "cell_type": "code",
   "execution_count": 19,
   "metadata": {},
   "outputs": [
    {
     "name": "stderr",
     "output_type": "stream",
     "text": [
      "2024-03-21 22:16:36.599884: I tensorflow/core/common_runtime/gpu/gpu_device.cc:1929] Created device /job:localhost/replica:0/task:0/device:GPU:0 with 22277 MB memory:  -> device: 0, name: NVIDIA GeForce RTX 3090, pci bus id: 0000:82:00.0, compute capability: 8.6\n",
      "2024-03-21 22:16:36.600534: I tensorflow/core/common_runtime/gpu/gpu_device.cc:1929] Created device /job:localhost/replica:0/task:0/device:GPU:1 with 22277 MB memory:  -> device: 1, name: NVIDIA GeForce RTX 3090, pci bus id: 0000:c1:00.0, compute capability: 8.6\n",
      "2024-03-21 22:16:36.891594: I external/local_tsl/tsl/platform/default/subprocess.cc:304] Start cannot spawn child process: Permission denied\n"
     ]
    },
    {
     "name": "stdout",
     "output_type": "stream",
     "text": [
      "Model: \"sequential\"\n",
      "_________________________________________________________________\n",
      " Layer (type)                Output Shape              Param #   \n",
      "=================================================================\n",
      " lstm (LSTM)                 (None, 128)               128512    \n",
      "                                                                 \n",
      " dense (Dense)               (None, 64)                8256      \n",
      "                                                                 \n",
      " dense_1 (Dense)             (None, 128)               8320      \n",
      "                                                                 \n",
      " dense_2 (Dense)             (None, 512)               66048     \n",
      "                                                                 \n",
      " dense_3 (Dense)             (None, 1024)              525312    \n",
      "                                                                 \n",
      " dense_4 (Dense)             (None, 4096)              4198400   \n",
      "                                                                 \n",
      " dense_5 (Dense)             (None, 1)                 4097      \n",
      "                                                                 \n",
      "=================================================================\n",
      "Total params: 4938945 (18.84 MB)\n",
      "Trainable params: 4938945 (18.84 MB)\n",
      "Non-trainable params: 0 (0.00 Byte)\n",
      "_________________________________________________________________\n"
     ]
    }
   ],
   "source": [
    "from tensorflow.keras.models import Sequential\n",
    "from tensorflow.keras.layers import *\n",
    "from tensorflow.keras.callbacks import ModelCheckpoint\n",
    "from tensorflow.keras.losses import MeanSquaredError\n",
    "from tensorflow.keras.metrics import RootMeanSquaredError\n",
    "from tensorflow.keras.optimizers import Adam\n",
    "\n",
    "model1 = Sequential()\n",
    "model1.add(InputLayer((WINDOW_SIZE, n)))\n",
    "model1.add(LSTM(128))\n",
    "model1.add(Dense(64, 'sigmoid'))\n",
    "model1.add(Dense(128, 'sigmoid'))\n",
    "model1.add(Dense(512, 'sigmoid'))\n",
    "model1.add(Dense(1024, 'sigmoid'))\n",
    "model1.add(Dense(4096, 'sigmoid'))\n",
    "model1.add(Dense(1, 'linear'))\n",
    "\n",
    "model1.summary()"
   ]
  },
  {
   "cell_type": "code",
   "execution_count": 20,
   "metadata": {},
   "outputs": [],
   "source": [
    "cp1 = ModelCheckpoint('model1/', save_best_only=True)\n",
    "model1.compile(loss=MeanSquaredError(), optimizer=Adam(learning_rate=0.0001))"
   ]
  },
  {
   "cell_type": "markdown",
   "metadata": {},
   "source": [
    "### Train the model"
   ]
  },
  {
   "cell_type": "code",
   "execution_count": 21,
   "metadata": {},
   "outputs": [],
   "source": [
    "import time"
   ]
  },
  {
   "cell_type": "code",
   "execution_count": 22,
   "metadata": {},
   "outputs": [
    {
     "name": "stdout",
     "output_type": "stream",
     "text": [
      "Epoch 1/300\n"
     ]
    },
    {
     "name": "stderr",
     "output_type": "stream",
     "text": [
      "2024-03-21 22:16:41.660046: I external/local_xla/xla/stream_executor/cuda/cuda_dnn.cc:454] Loaded cuDNN version 8904\n",
      "2024-03-21 22:16:42.339420: I external/local_xla/xla/service/service.cc:168] XLA service 0x7f8b280bad50 initialized for platform CUDA (this does not guarantee that XLA will be used). Devices:\n",
      "2024-03-21 22:16:42.339463: I external/local_xla/xla/service/service.cc:176]   StreamExecutor device (0): NVIDIA GeForce RTX 3090, Compute Capability 8.6\n",
      "2024-03-21 22:16:42.339475: I external/local_xla/xla/service/service.cc:176]   StreamExecutor device (1): NVIDIA GeForce RTX 3090, Compute Capability 8.6\n",
      "2024-03-21 22:16:42.348651: I tensorflow/compiler/mlir/tensorflow/utils/dump_mlir_util.cc:269] disabling MLIR crash reproducer, set env var `MLIR_CRASH_REPRODUCER_DIRECTORY` to enable.\n",
      "WARNING: All log messages before absl::InitializeLog() is called are written to STDERR\n",
      "I0000 00:00:1711030602.450204 1028783 device_compiler.h:186] Compiled cluster using XLA!  This line is logged at most once for the lifetime of the process.\n"
     ]
    },
    {
     "name": "stdout",
     "output_type": "stream",
     "text": [
      "INFO:tensorflow:Assets written to: model1/assets\n"
     ]
    },
    {
     "name": "stderr",
     "output_type": "stream",
     "text": [
      "INFO:tensorflow:Assets written to: model1/assets\n"
     ]
    },
    {
     "name": "stdout",
     "output_type": "stream",
     "text": [
      "14/14 - 13s - loss: 11.7045 - val_loss: 5.9976 - 13s/epoch - 936ms/step\n",
      "Epoch 2/300\n",
      "INFO:tensorflow:Assets written to: model1/assets\n"
     ]
    },
    {
     "name": "stderr",
     "output_type": "stream",
     "text": [
      "INFO:tensorflow:Assets written to: model1/assets\n"
     ]
    },
    {
     "name": "stdout",
     "output_type": "stream",
     "text": [
      "14/14 - 6s - loss: 2.9076 - val_loss: 5.2952 - 6s/epoch - 427ms/step\n",
      "Epoch 3/300\n",
      "INFO:tensorflow:Assets written to: model1/assets\n"
     ]
    },
    {
     "name": "stderr",
     "output_type": "stream",
     "text": [
      "INFO:tensorflow:Assets written to: model1/assets\n"
     ]
    },
    {
     "name": "stdout",
     "output_type": "stream",
     "text": [
      "14/14 - 6s - loss: 2.1351 - val_loss: 3.7524 - 6s/epoch - 439ms/step\n",
      "Epoch 4/300\n",
      "14/14 - 0s - loss: 1.9614 - val_loss: 4.0413 - 199ms/epoch - 14ms/step\n",
      "Epoch 5/300\n",
      "14/14 - 0s - loss: 1.9610 - val_loss: 3.8762 - 201ms/epoch - 14ms/step\n",
      "Epoch 6/300\n",
      "14/14 - 0s - loss: 1.9231 - val_loss: 3.8225 - 192ms/epoch - 14ms/step\n",
      "Epoch 7/300\n",
      "14/14 - 0s - loss: 1.9437 - val_loss: 4.1254 - 198ms/epoch - 14ms/step\n",
      "Epoch 8/300\n",
      "14/14 - 0s - loss: 1.9434 - val_loss: 3.7892 - 198ms/epoch - 14ms/step\n",
      "Epoch 9/300\n",
      "14/14 - 0s - loss: 1.9316 - val_loss: 3.7754 - 200ms/epoch - 14ms/step\n",
      "Epoch 10/300\n",
      "14/14 - 0s - loss: 1.9187 - val_loss: 3.8954 - 198ms/epoch - 14ms/step\n",
      "Epoch 11/300\n",
      "14/14 - 0s - loss: 1.9014 - val_loss: 3.8884 - 199ms/epoch - 14ms/step\n",
      "Epoch 12/300\n",
      "14/14 - 0s - loss: 1.8939 - val_loss: 3.7615 - 197ms/epoch - 14ms/step\n",
      "Epoch 13/300\n",
      "14/14 - 0s - loss: 1.9325 - val_loss: 4.0178 - 194ms/epoch - 14ms/step\n",
      "Epoch 14/300\n",
      "14/14 - 0s - loss: 1.8784 - val_loss: 3.9951 - 192ms/epoch - 14ms/step\n",
      "Epoch 15/300\n",
      "14/14 - 0s - loss: 1.9514 - val_loss: 3.9274 - 198ms/epoch - 14ms/step\n",
      "Epoch 16/300\n",
      "14/14 - 0s - loss: 1.8894 - val_loss: 3.8174 - 197ms/epoch - 14ms/step\n",
      "Epoch 17/300\n",
      "14/14 - 0s - loss: 1.7645 - val_loss: 3.9166 - 195ms/epoch - 14ms/step\n",
      "Epoch 18/300\n",
      "14/14 - 0s - loss: 1.7308 - val_loss: 4.2453 - 194ms/epoch - 14ms/step\n",
      "Epoch 19/300\n",
      "14/14 - 0s - loss: 1.6504 - val_loss: 3.8149 - 192ms/epoch - 14ms/step\n",
      "Epoch 20/300\n",
      "14/14 - 0s - loss: 1.4644 - val_loss: 3.8380 - 192ms/epoch - 14ms/step\n",
      "Epoch 21/300\n",
      "14/14 - 0s - loss: 1.3195 - val_loss: 4.2954 - 198ms/epoch - 14ms/step\n",
      "Epoch 22/300\n",
      "14/14 - 0s - loss: 1.0595 - val_loss: 4.0111 - 194ms/epoch - 14ms/step\n",
      "Epoch 23/300\n",
      "14/14 - 0s - loss: 0.8171 - val_loss: 4.3227 - 192ms/epoch - 14ms/step\n",
      "Epoch 24/300\n",
      "14/14 - 0s - loss: 0.6344 - val_loss: 3.8903 - 190ms/epoch - 14ms/step\n",
      "Epoch 25/300\n",
      "14/14 - 0s - loss: 0.5604 - val_loss: 3.9245 - 201ms/epoch - 14ms/step\n",
      "Epoch 26/300\n",
      "14/14 - 0s - loss: 0.4957 - val_loss: 4.0478 - 192ms/epoch - 14ms/step\n",
      "Epoch 27/300\n",
      "14/14 - 0s - loss: 0.4771 - val_loss: 4.1457 - 193ms/epoch - 14ms/step\n",
      "Epoch 28/300\n",
      "14/14 - 0s - loss: 0.4146 - val_loss: 4.0516 - 197ms/epoch - 14ms/step\n",
      "Epoch 29/300\n",
      "14/14 - 0s - loss: 0.3489 - val_loss: 4.0544 - 196ms/epoch - 14ms/step\n",
      "Epoch 30/300\n",
      "INFO:tensorflow:Assets written to: model1/assets\n"
     ]
    },
    {
     "name": "stderr",
     "output_type": "stream",
     "text": [
      "INFO:tensorflow:Assets written to: model1/assets\n"
     ]
    },
    {
     "name": "stdout",
     "output_type": "stream",
     "text": [
      "14/14 - 6s - loss: 0.2968 - val_loss: 3.6164 - 6s/epoch - 448ms/step\n",
      "Epoch 31/300\n",
      "INFO:tensorflow:Assets written to: model1/assets\n"
     ]
    },
    {
     "name": "stderr",
     "output_type": "stream",
     "text": [
      "INFO:tensorflow:Assets written to: model1/assets\n"
     ]
    },
    {
     "name": "stdout",
     "output_type": "stream",
     "text": [
      "14/14 - 6s - loss: 0.2589 - val_loss: 3.5412 - 6s/epoch - 447ms/step\n",
      "Epoch 32/300\n",
      "14/14 - 0s - loss: 0.2094 - val_loss: 3.5574 - 198ms/epoch - 14ms/step\n",
      "Epoch 33/300\n",
      "14/14 - 0s - loss: 0.1839 - val_loss: 3.7191 - 196ms/epoch - 14ms/step\n",
      "Epoch 34/300\n",
      "14/14 - 0s - loss: 0.1596 - val_loss: 3.7424 - 193ms/epoch - 14ms/step\n",
      "Epoch 35/300\n",
      "INFO:tensorflow:Assets written to: model1/assets\n"
     ]
    },
    {
     "name": "stderr",
     "output_type": "stream",
     "text": [
      "INFO:tensorflow:Assets written to: model1/assets\n"
     ]
    },
    {
     "name": "stdout",
     "output_type": "stream",
     "text": [
      "14/14 - 6s - loss: 0.1272 - val_loss: 3.5313 - 6s/epoch - 436ms/step\n",
      "Epoch 36/300\n",
      "INFO:tensorflow:Assets written to: model1/assets\n"
     ]
    },
    {
     "name": "stderr",
     "output_type": "stream",
     "text": [
      "INFO:tensorflow:Assets written to: model1/assets\n"
     ]
    },
    {
     "name": "stdout",
     "output_type": "stream",
     "text": [
      "14/14 - 6s - loss: 0.0994 - val_loss: 3.5063 - 6s/epoch - 435ms/step\n",
      "Epoch 37/300\n",
      "14/14 - 0s - loss: 0.0709 - val_loss: 3.6582 - 197ms/epoch - 14ms/step\n",
      "Epoch 38/300\n",
      "14/14 - 0s - loss: 0.0590 - val_loss: 3.5649 - 195ms/epoch - 14ms/step\n",
      "Epoch 39/300\n",
      "14/14 - 0s - loss: 0.0445 - val_loss: 3.5448 - 199ms/epoch - 14ms/step\n",
      "Epoch 40/300\n",
      "14/14 - 0s - loss: 0.0359 - val_loss: 3.5158 - 198ms/epoch - 14ms/step\n",
      "Epoch 41/300\n",
      "INFO:tensorflow:Assets written to: model1/assets\n"
     ]
    },
    {
     "name": "stderr",
     "output_type": "stream",
     "text": [
      "INFO:tensorflow:Assets written to: model1/assets\n"
     ]
    },
    {
     "name": "stdout",
     "output_type": "stream",
     "text": [
      "14/14 - 6s - loss: 0.0292 - val_loss: 3.4820 - 6s/epoch - 458ms/step\n",
      "Epoch 42/300\n",
      "14/14 - 0s - loss: 0.0249 - val_loss: 3.5213 - 198ms/epoch - 14ms/step\n",
      "Epoch 43/300\n",
      "14/14 - 0s - loss: 0.0209 - val_loss: 3.5444 - 195ms/epoch - 14ms/step\n",
      "Epoch 44/300\n",
      "INFO:tensorflow:Assets written to: model1/assets\n"
     ]
    },
    {
     "name": "stderr",
     "output_type": "stream",
     "text": [
      "INFO:tensorflow:Assets written to: model1/assets\n"
     ]
    },
    {
     "name": "stdout",
     "output_type": "stream",
     "text": [
      "14/14 - 6s - loss: 0.0201 - val_loss: 3.4507 - 6s/epoch - 422ms/step\n",
      "Epoch 45/300\n",
      "14/14 - 0s - loss: 0.0178 - val_loss: 3.4732 - 200ms/epoch - 14ms/step\n",
      "Epoch 46/300\n",
      "INFO:tensorflow:Assets written to: model1/assets\n"
     ]
    },
    {
     "name": "stderr",
     "output_type": "stream",
     "text": [
      "INFO:tensorflow:Assets written to: model1/assets\n"
     ]
    },
    {
     "name": "stdout",
     "output_type": "stream",
     "text": [
      "14/14 - 6s - loss: 0.0176 - val_loss: 3.4390 - 6s/epoch - 447ms/step\n",
      "Epoch 47/300\n",
      "14/14 - 0s - loss: 0.0171 - val_loss: 3.5006 - 201ms/epoch - 14ms/step\n",
      "Epoch 48/300\n",
      "14/14 - 0s - loss: 0.0171 - val_loss: 3.5113 - 197ms/epoch - 14ms/step\n",
      "Epoch 49/300\n",
      "INFO:tensorflow:Assets written to: model1/assets\n"
     ]
    },
    {
     "name": "stderr",
     "output_type": "stream",
     "text": [
      "INFO:tensorflow:Assets written to: model1/assets\n"
     ]
    },
    {
     "name": "stdout",
     "output_type": "stream",
     "text": [
      "14/14 - 6s - loss: 0.0154 - val_loss: 3.3683 - 6s/epoch - 445ms/step\n",
      "Epoch 50/300\n",
      "14/14 - 0s - loss: 0.0166 - val_loss: 3.4667 - 202ms/epoch - 14ms/step\n",
      "Epoch 51/300\n",
      "14/14 - 0s - loss: 0.0152 - val_loss: 3.4318 - 198ms/epoch - 14ms/step\n",
      "Epoch 52/300\n",
      "14/14 - 0s - loss: 0.0142 - val_loss: 3.4188 - 198ms/epoch - 14ms/step\n",
      "Epoch 53/300\n",
      "14/14 - 0s - loss: 0.0140 - val_loss: 3.3947 - 196ms/epoch - 14ms/step\n",
      "Epoch 54/300\n",
      "14/14 - 0s - loss: 0.0131 - val_loss: 3.3917 - 193ms/epoch - 14ms/step\n",
      "Epoch 55/300\n",
      "14/14 - 0s - loss: 0.0124 - val_loss: 3.4732 - 191ms/epoch - 14ms/step\n",
      "Epoch 56/300\n",
      "14/14 - 0s - loss: 0.0126 - val_loss: 3.4458 - 195ms/epoch - 14ms/step\n",
      "Epoch 57/300\n",
      "14/14 - 0s - loss: 0.0117 - val_loss: 3.4175 - 196ms/epoch - 14ms/step\n",
      "Epoch 58/300\n",
      "14/14 - 0s - loss: 0.0121 - val_loss: 3.4616 - 193ms/epoch - 14ms/step\n",
      "Epoch 59/300\n",
      "14/14 - 0s - loss: 0.0117 - val_loss: 3.3837 - 190ms/epoch - 14ms/step\n",
      "Epoch 60/300\n",
      "14/14 - 0s - loss: 0.0117 - val_loss: 3.4098 - 193ms/epoch - 14ms/step\n",
      "Epoch 61/300\n",
      "14/14 - 0s - loss: 0.0117 - val_loss: 3.5148 - 192ms/epoch - 14ms/step\n",
      "Epoch 62/300\n",
      "14/14 - 0s - loss: 0.0122 - val_loss: 3.3742 - 195ms/epoch - 14ms/step\n",
      "Epoch 63/300\n",
      "14/14 - 0s - loss: 0.0120 - val_loss: 3.5047 - 204ms/epoch - 15ms/step\n",
      "Epoch 64/300\n",
      "14/14 - 0s - loss: 0.0115 - val_loss: 3.4610 - 193ms/epoch - 14ms/step\n",
      "Epoch 65/300\n",
      "14/14 - 0s - loss: 0.0111 - val_loss: 3.5311 - 194ms/epoch - 14ms/step\n",
      "Epoch 66/300\n",
      "14/14 - 0s - loss: 0.0128 - val_loss: 3.4012 - 193ms/epoch - 14ms/step\n",
      "Epoch 67/300\n",
      "14/14 - 0s - loss: 0.0126 - val_loss: 3.4578 - 196ms/epoch - 14ms/step\n",
      "Epoch 68/300\n",
      "14/14 - 0s - loss: 0.0112 - val_loss: 3.4607 - 193ms/epoch - 14ms/step\n",
      "Epoch 69/300\n",
      "14/14 - 0s - loss: 0.0109 - val_loss: 3.5300 - 191ms/epoch - 14ms/step\n",
      "Epoch 70/300\n",
      "14/14 - 0s - loss: 0.0107 - val_loss: 3.4242 - 193ms/epoch - 14ms/step\n",
      "Epoch 71/300\n",
      "14/14 - 0s - loss: 0.0110 - val_loss: 3.4760 - 194ms/epoch - 14ms/step\n",
      "Epoch 72/300\n",
      "14/14 - 0s - loss: 0.0110 - val_loss: 3.4674 - 195ms/epoch - 14ms/step\n",
      "Epoch 73/300\n",
      "14/14 - 0s - loss: 0.0130 - val_loss: 3.4336 - 193ms/epoch - 14ms/step\n",
      "Epoch 74/300\n",
      "14/14 - 0s - loss: 0.0123 - val_loss: 3.6003 - 195ms/epoch - 14ms/step\n",
      "Epoch 75/300\n",
      "14/14 - 0s - loss: 0.0124 - val_loss: 3.4445 - 194ms/epoch - 14ms/step\n",
      "Epoch 76/300\n",
      "14/14 - 0s - loss: 0.0106 - val_loss: 3.5010 - 189ms/epoch - 14ms/step\n",
      "Epoch 77/300\n",
      "14/14 - 0s - loss: 0.0102 - val_loss: 3.5652 - 195ms/epoch - 14ms/step\n",
      "Epoch 78/300\n",
      "14/14 - 0s - loss: 0.0103 - val_loss: 3.5428 - 194ms/epoch - 14ms/step\n",
      "Epoch 79/300\n",
      "14/14 - 0s - loss: 0.0098 - val_loss: 3.5593 - 192ms/epoch - 14ms/step\n",
      "Epoch 80/300\n",
      "14/14 - 0s - loss: 0.0097 - val_loss: 3.4902 - 197ms/epoch - 14ms/step\n",
      "Epoch 81/300\n",
      "14/14 - 0s - loss: 0.0099 - val_loss: 3.4717 - 196ms/epoch - 14ms/step\n",
      "Epoch 82/300\n",
      "14/14 - 0s - loss: 0.0103 - val_loss: 3.5725 - 194ms/epoch - 14ms/step\n",
      "Epoch 83/300\n",
      "14/14 - 0s - loss: 0.0102 - val_loss: 3.6048 - 199ms/epoch - 14ms/step\n",
      "Epoch 84/300\n",
      "14/14 - 0s - loss: 0.0101 - val_loss: 3.5177 - 194ms/epoch - 14ms/step\n",
      "Epoch 85/300\n",
      "14/14 - 0s - loss: 0.0093 - val_loss: 3.5197 - 203ms/epoch - 14ms/step\n",
      "Epoch 86/300\n",
      "14/14 - 0s - loss: 0.0091 - val_loss: 3.5333 - 197ms/epoch - 14ms/step\n",
      "Epoch 87/300\n",
      "14/14 - 0s - loss: 0.0094 - val_loss: 3.5199 - 197ms/epoch - 14ms/step\n",
      "Epoch 88/300\n",
      "14/14 - 0s - loss: 0.0095 - val_loss: 3.5433 - 197ms/epoch - 14ms/step\n",
      "Epoch 89/300\n",
      "14/14 - 0s - loss: 0.0095 - val_loss: 3.5389 - 193ms/epoch - 14ms/step\n",
      "Epoch 90/300\n",
      "14/14 - 0s - loss: 0.0094 - val_loss: 3.5782 - 190ms/epoch - 14ms/step\n",
      "Epoch 91/300\n",
      "14/14 - 0s - loss: 0.0093 - val_loss: 3.4927 - 197ms/epoch - 14ms/step\n",
      "Epoch 92/300\n",
      "14/14 - 0s - loss: 0.0099 - val_loss: 3.5666 - 191ms/epoch - 14ms/step\n",
      "Epoch 93/300\n",
      "14/14 - 0s - loss: 0.0093 - val_loss: 3.5442 - 191ms/epoch - 14ms/step\n",
      "Epoch 94/300\n",
      "14/14 - 0s - loss: 0.0091 - val_loss: 3.5287 - 192ms/epoch - 14ms/step\n",
      "Epoch 95/300\n",
      "14/14 - 0s - loss: 0.0092 - val_loss: 3.4880 - 190ms/epoch - 14ms/step\n",
      "Epoch 96/300\n",
      "14/14 - 0s - loss: 0.0109 - val_loss: 3.6011 - 198ms/epoch - 14ms/step\n",
      "Epoch 97/300\n",
      "14/14 - 0s - loss: 0.0092 - val_loss: 3.5858 - 195ms/epoch - 14ms/step\n",
      "Epoch 98/300\n",
      "14/14 - 0s - loss: 0.0093 - val_loss: 3.5141 - 192ms/epoch - 14ms/step\n",
      "Epoch 99/300\n",
      "14/14 - 0s - loss: 0.0098 - val_loss: 3.5337 - 199ms/epoch - 14ms/step\n",
      "Epoch 100/300\n",
      "14/14 - 0s - loss: 0.0090 - val_loss: 3.4763 - 195ms/epoch - 14ms/step\n",
      "Epoch 101/300\n",
      "14/14 - 0s - loss: 0.0092 - val_loss: 3.5966 - 193ms/epoch - 14ms/step\n",
      "Epoch 102/300\n",
      "14/14 - 0s - loss: 0.0094 - val_loss: 3.5484 - 197ms/epoch - 14ms/step\n",
      "Epoch 103/300\n",
      "14/14 - 0s - loss: 0.0099 - val_loss: 3.5656 - 193ms/epoch - 14ms/step\n",
      "Epoch 104/300\n",
      "14/14 - 0s - loss: 0.0091 - val_loss: 3.6327 - 200ms/epoch - 14ms/step\n",
      "Epoch 105/300\n",
      "14/14 - 0s - loss: 0.0098 - val_loss: 3.5938 - 194ms/epoch - 14ms/step\n",
      "Epoch 106/300\n",
      "14/14 - 0s - loss: 0.0094 - val_loss: 3.5472 - 192ms/epoch - 14ms/step\n",
      "Epoch 107/300\n",
      "14/14 - 0s - loss: 0.0092 - val_loss: 3.4742 - 197ms/epoch - 14ms/step\n",
      "Epoch 108/300\n",
      "14/14 - 0s - loss: 0.0096 - val_loss: 3.5529 - 197ms/epoch - 14ms/step\n",
      "Epoch 109/300\n",
      "14/14 - 0s - loss: 0.0087 - val_loss: 3.5984 - 205ms/epoch - 15ms/step\n",
      "Epoch 110/300\n",
      "14/14 - 0s - loss: 0.0091 - val_loss: 3.4941 - 197ms/epoch - 14ms/step\n",
      "Epoch 111/300\n",
      "14/14 - 0s - loss: 0.0094 - val_loss: 3.6348 - 195ms/epoch - 14ms/step\n",
      "Epoch 112/300\n",
      "14/14 - 0s - loss: 0.0087 - val_loss: 3.5740 - 186ms/epoch - 13ms/step\n",
      "Epoch 113/300\n",
      "14/14 - 0s - loss: 0.0085 - val_loss: 3.5869 - 187ms/epoch - 13ms/step\n",
      "Epoch 114/300\n",
      "14/14 - 0s - loss: 0.0085 - val_loss: 3.6160 - 193ms/epoch - 14ms/step\n",
      "Epoch 115/300\n",
      "14/14 - 0s - loss: 0.0086 - val_loss: 3.6011 - 191ms/epoch - 14ms/step\n",
      "Epoch 116/300\n",
      "14/14 - 0s - loss: 0.0086 - val_loss: 3.5999 - 193ms/epoch - 14ms/step\n",
      "Epoch 117/300\n",
      "14/14 - 0s - loss: 0.0087 - val_loss: 3.5543 - 195ms/epoch - 14ms/step\n",
      "Epoch 118/300\n",
      "14/14 - 0s - loss: 0.0088 - val_loss: 3.5775 - 193ms/epoch - 14ms/step\n",
      "Epoch 119/300\n",
      "14/14 - 0s - loss: 0.0087 - val_loss: 3.5719 - 193ms/epoch - 14ms/step\n",
      "Epoch 120/300\n",
      "14/14 - 0s - loss: 0.0083 - val_loss: 3.6139 - 194ms/epoch - 14ms/step\n",
      "Epoch 121/300\n",
      "14/14 - 0s - loss: 0.0080 - val_loss: 3.5606 - 193ms/epoch - 14ms/step\n",
      "Epoch 122/300\n",
      "14/14 - 0s - loss: 0.0093 - val_loss: 3.5602 - 193ms/epoch - 14ms/step\n",
      "Epoch 123/300\n",
      "14/14 - 0s - loss: 0.0093 - val_loss: 3.5528 - 199ms/epoch - 14ms/step\n",
      "Epoch 124/300\n",
      "14/14 - 0s - loss: 0.0084 - val_loss: 3.6158 - 186ms/epoch - 13ms/step\n",
      "Epoch 125/300\n",
      "14/14 - 0s - loss: 0.0083 - val_loss: 3.5657 - 198ms/epoch - 14ms/step\n",
      "Epoch 126/300\n",
      "14/14 - 0s - loss: 0.0089 - val_loss: 3.6124 - 195ms/epoch - 14ms/step\n",
      "Epoch 127/300\n",
      "14/14 - 0s - loss: 0.0089 - val_loss: 3.7341 - 198ms/epoch - 14ms/step\n",
      "Epoch 128/300\n",
      "14/14 - 0s - loss: 0.0106 - val_loss: 3.6815 - 195ms/epoch - 14ms/step\n",
      "Epoch 129/300\n",
      "14/14 - 0s - loss: 0.0084 - val_loss: 3.5746 - 191ms/epoch - 14ms/step\n",
      "Epoch 130/300\n",
      "14/14 - 0s - loss: 0.0085 - val_loss: 3.6858 - 195ms/epoch - 14ms/step\n",
      "Epoch 131/300\n",
      "14/14 - 0s - loss: 0.0104 - val_loss: 3.6848 - 196ms/epoch - 14ms/step\n",
      "Epoch 132/300\n",
      "14/14 - 0s - loss: 0.0094 - val_loss: 3.6644 - 196ms/epoch - 14ms/step\n",
      "Epoch 133/300\n",
      "14/14 - 0s - loss: 0.0085 - val_loss: 3.6460 - 196ms/epoch - 14ms/step\n",
      "Epoch 134/300\n",
      "14/14 - 0s - loss: 0.0097 - val_loss: 3.6400 - 191ms/epoch - 14ms/step\n",
      "Epoch 135/300\n",
      "14/14 - 0s - loss: 0.0087 - val_loss: 3.5470 - 193ms/epoch - 14ms/step\n",
      "Epoch 136/300\n",
      "14/14 - 0s - loss: 0.0100 - val_loss: 3.5225 - 196ms/epoch - 14ms/step\n",
      "Epoch 137/300\n",
      "14/14 - 0s - loss: 0.0095 - val_loss: 3.5556 - 195ms/epoch - 14ms/step\n",
      "Epoch 138/300\n",
      "14/14 - 0s - loss: 0.0105 - val_loss: 3.4839 - 195ms/epoch - 14ms/step\n",
      "Epoch 139/300\n",
      "14/14 - 0s - loss: 0.0103 - val_loss: 3.4787 - 192ms/epoch - 14ms/step\n",
      "Epoch 140/300\n",
      "14/14 - 0s - loss: 0.0122 - val_loss: 3.5937 - 194ms/epoch - 14ms/step\n",
      "Epoch 141/300\n",
      "14/14 - 0s - loss: 0.0093 - val_loss: 3.5615 - 193ms/epoch - 14ms/step\n",
      "Epoch 142/300\n",
      "14/14 - 0s - loss: 0.0085 - val_loss: 3.5917 - 194ms/epoch - 14ms/step\n",
      "Epoch 143/300\n",
      "14/14 - 0s - loss: 0.0081 - val_loss: 3.5779 - 195ms/epoch - 14ms/step\n",
      "Epoch 144/300\n",
      "14/14 - 0s - loss: 0.0091 - val_loss: 3.5317 - 194ms/epoch - 14ms/step\n",
      "Epoch 145/300\n",
      "14/14 - 0s - loss: 0.0087 - val_loss: 3.5828 - 193ms/epoch - 14ms/step\n",
      "Epoch 146/300\n",
      "14/14 - 0s - loss: 0.0079 - val_loss: 3.6014 - 194ms/epoch - 14ms/step\n",
      "Epoch 147/300\n",
      "14/14 - 0s - loss: 0.0096 - val_loss: 3.5997 - 192ms/epoch - 14ms/step\n",
      "Epoch 148/300\n",
      "14/14 - 0s - loss: 0.0103 - val_loss: 3.6023 - 191ms/epoch - 14ms/step\n",
      "Epoch 149/300\n",
      "14/14 - 0s - loss: 0.0087 - val_loss: 3.5146 - 193ms/epoch - 14ms/step\n",
      "Epoch 150/300\n",
      "14/14 - 0s - loss: 0.0107 - val_loss: 3.5262 - 195ms/epoch - 14ms/step\n",
      "Epoch 151/300\n",
      "14/14 - 0s - loss: 0.0097 - val_loss: 3.5778 - 196ms/epoch - 14ms/step\n",
      "Epoch 152/300\n",
      "14/14 - 0s - loss: 0.0093 - val_loss: 3.6684 - 192ms/epoch - 14ms/step\n",
      "Epoch 153/300\n",
      "14/14 - 0s - loss: 0.0088 - val_loss: 3.6687 - 195ms/epoch - 14ms/step\n",
      "Epoch 154/300\n",
      "14/14 - 0s - loss: 0.0078 - val_loss: 3.6125 - 192ms/epoch - 14ms/step\n",
      "Epoch 155/300\n",
      "14/14 - 0s - loss: 0.0077 - val_loss: 3.6096 - 192ms/epoch - 14ms/step\n",
      "Epoch 156/300\n",
      "14/14 - 0s - loss: 0.0084 - val_loss: 3.6123 - 195ms/epoch - 14ms/step\n",
      "Epoch 157/300\n",
      "14/14 - 0s - loss: 0.0091 - val_loss: 3.7438 - 187ms/epoch - 13ms/step\n",
      "Epoch 158/300\n",
      "14/14 - 0s - loss: 0.0147 - val_loss: 3.8113 - 193ms/epoch - 14ms/step\n",
      "Epoch 159/300\n",
      "14/14 - 0s - loss: 0.0130 - val_loss: 3.7463 - 193ms/epoch - 14ms/step\n",
      "Epoch 160/300\n",
      "14/14 - 0s - loss: 0.0124 - val_loss: 3.7053 - 195ms/epoch - 14ms/step\n",
      "Epoch 161/300\n",
      "14/14 - 0s - loss: 0.0088 - val_loss: 3.5919 - 196ms/epoch - 14ms/step\n",
      "Epoch 162/300\n",
      "14/14 - 0s - loss: 0.0077 - val_loss: 3.5828 - 194ms/epoch - 14ms/step\n",
      "Epoch 163/300\n",
      "14/14 - 0s - loss: 0.0080 - val_loss: 3.6078 - 196ms/epoch - 14ms/step\n",
      "Epoch 164/300\n",
      "14/14 - 0s - loss: 0.0083 - val_loss: 3.5765 - 196ms/epoch - 14ms/step\n",
      "Epoch 165/300\n",
      "14/14 - 0s - loss: 0.0081 - val_loss: 3.6611 - 198ms/epoch - 14ms/step\n",
      "Epoch 166/300\n",
      "14/14 - 0s - loss: 0.0073 - val_loss: 3.6011 - 196ms/epoch - 14ms/step\n",
      "Epoch 167/300\n",
      "14/14 - 0s - loss: 0.0088 - val_loss: 3.5786 - 194ms/epoch - 14ms/step\n",
      "Epoch 168/300\n",
      "14/14 - 0s - loss: 0.0085 - val_loss: 3.6566 - 197ms/epoch - 14ms/step\n",
      "Epoch 169/300\n",
      "14/14 - 0s - loss: 0.0077 - val_loss: 3.6517 - 192ms/epoch - 14ms/step\n",
      "Epoch 170/300\n",
      "14/14 - 0s - loss: 0.0072 - val_loss: 3.6522 - 193ms/epoch - 14ms/step\n",
      "Epoch 171/300\n",
      "14/14 - 0s - loss: 0.0073 - val_loss: 3.7190 - 192ms/epoch - 14ms/step\n",
      "Epoch 172/300\n",
      "14/14 - 0s - loss: 0.0072 - val_loss: 3.6601 - 196ms/epoch - 14ms/step\n",
      "Epoch 173/300\n",
      "14/14 - 0s - loss: 0.0070 - val_loss: 3.6636 - 197ms/epoch - 14ms/step\n",
      "Epoch 174/300\n",
      "14/14 - 0s - loss: 0.0083 - val_loss: 3.7762 - 195ms/epoch - 14ms/step\n",
      "Epoch 175/300\n",
      "14/14 - 0s - loss: 0.0119 - val_loss: 3.6691 - 198ms/epoch - 14ms/step\n",
      "Epoch 176/300\n",
      "14/14 - 0s - loss: 0.0094 - val_loss: 3.5817 - 200ms/epoch - 14ms/step\n",
      "Epoch 177/300\n",
      "14/14 - 0s - loss: 0.0097 - val_loss: 3.5452 - 201ms/epoch - 14ms/step\n",
      "Epoch 178/300\n",
      "14/14 - 0s - loss: 0.0085 - val_loss: 3.7185 - 201ms/epoch - 14ms/step\n",
      "Epoch 179/300\n",
      "14/14 - 0s - loss: 0.0087 - val_loss: 3.7127 - 196ms/epoch - 14ms/step\n",
      "Epoch 180/300\n",
      "14/14 - 0s - loss: 0.0086 - val_loss: 3.6396 - 196ms/epoch - 14ms/step\n",
      "Epoch 181/300\n",
      "14/14 - 0s - loss: 0.0083 - val_loss: 3.6734 - 192ms/epoch - 14ms/step\n",
      "Epoch 182/300\n",
      "14/14 - 0s - loss: 0.0082 - val_loss: 3.6543 - 193ms/epoch - 14ms/step\n",
      "Epoch 183/300\n",
      "14/14 - 0s - loss: 0.0078 - val_loss: 3.6458 - 190ms/epoch - 14ms/step\n",
      "Epoch 184/300\n",
      "14/14 - 0s - loss: 0.0076 - val_loss: 3.6129 - 196ms/epoch - 14ms/step\n",
      "Epoch 185/300\n",
      "14/14 - 0s - loss: 0.0074 - val_loss: 3.6728 - 191ms/epoch - 14ms/step\n",
      "Epoch 186/300\n",
      "14/14 - 0s - loss: 0.0074 - val_loss: 3.6970 - 194ms/epoch - 14ms/step\n",
      "Epoch 187/300\n",
      "14/14 - 0s - loss: 0.0088 - val_loss: 3.6857 - 193ms/epoch - 14ms/step\n",
      "Epoch 188/300\n",
      "14/14 - 0s - loss: 0.0124 - val_loss: 3.4733 - 197ms/epoch - 14ms/step\n",
      "Epoch 189/300\n",
      "14/14 - 0s - loss: 0.0166 - val_loss: 3.5801 - 193ms/epoch - 14ms/step\n",
      "Epoch 190/300\n",
      "14/14 - 0s - loss: 0.0088 - val_loss: 3.6329 - 199ms/epoch - 14ms/step\n",
      "Epoch 191/300\n",
      "14/14 - 0s - loss: 0.0090 - val_loss: 3.5643 - 195ms/epoch - 14ms/step\n",
      "Epoch 192/300\n",
      "14/14 - 0s - loss: 0.0085 - val_loss: 3.7458 - 195ms/epoch - 14ms/step\n",
      "Epoch 193/300\n",
      "14/14 - 0s - loss: 0.0095 - val_loss: 3.7750 - 193ms/epoch - 14ms/step\n",
      "Epoch 194/300\n",
      "14/14 - 0s - loss: 0.0077 - val_loss: 3.6740 - 191ms/epoch - 14ms/step\n",
      "Epoch 195/300\n",
      "14/14 - 0s - loss: 0.0079 - val_loss: 3.6978 - 193ms/epoch - 14ms/step\n",
      "Epoch 196/300\n",
      "14/14 - 0s - loss: 0.0073 - val_loss: 3.6579 - 196ms/epoch - 14ms/step\n",
      "Epoch 197/300\n",
      "14/14 - 0s - loss: 0.0073 - val_loss: 3.6986 - 190ms/epoch - 14ms/step\n",
      "Epoch 198/300\n",
      "14/14 - 0s - loss: 0.0077 - val_loss: 3.6021 - 195ms/epoch - 14ms/step\n",
      "Epoch 199/300\n",
      "14/14 - 0s - loss: 0.0080 - val_loss: 3.6545 - 196ms/epoch - 14ms/step\n",
      "Epoch 200/300\n",
      "14/14 - 0s - loss: 0.0072 - val_loss: 3.6478 - 197ms/epoch - 14ms/step\n",
      "Epoch 201/300\n",
      "14/14 - 0s - loss: 0.0079 - val_loss: 3.6351 - 195ms/epoch - 14ms/step\n",
      "Epoch 202/300\n",
      "14/14 - 0s - loss: 0.0067 - val_loss: 3.6580 - 195ms/epoch - 14ms/step\n",
      "Epoch 203/300\n",
      "14/14 - 0s - loss: 0.0076 - val_loss: 3.6276 - 195ms/epoch - 14ms/step\n",
      "Epoch 204/300\n",
      "14/14 - 0s - loss: 0.0078 - val_loss: 3.6899 - 191ms/epoch - 14ms/step\n",
      "Epoch 205/300\n",
      "14/14 - 0s - loss: 0.0079 - val_loss: 3.6070 - 189ms/epoch - 13ms/step\n",
      "Epoch 206/300\n",
      "14/14 - 0s - loss: 0.0122 - val_loss: 3.6746 - 195ms/epoch - 14ms/step\n",
      "Epoch 207/300\n",
      "14/14 - 0s - loss: 0.0080 - val_loss: 3.7718 - 189ms/epoch - 13ms/step\n",
      "Epoch 208/300\n",
      "14/14 - 0s - loss: 0.0091 - val_loss: 3.6414 - 195ms/epoch - 14ms/step\n",
      "Epoch 209/300\n",
      "14/14 - 0s - loss: 0.0073 - val_loss: 3.6330 - 195ms/epoch - 14ms/step\n",
      "Epoch 210/300\n",
      "14/14 - 0s - loss: 0.0072 - val_loss: 3.7520 - 197ms/epoch - 14ms/step\n",
      "Epoch 211/300\n",
      "14/14 - 0s - loss: 0.0095 - val_loss: 3.5570 - 196ms/epoch - 14ms/step\n",
      "Epoch 212/300\n",
      "14/14 - 0s - loss: 0.0075 - val_loss: 3.7773 - 191ms/epoch - 14ms/step\n",
      "Epoch 213/300\n",
      "14/14 - 0s - loss: 0.0110 - val_loss: 3.5846 - 198ms/epoch - 14ms/step\n",
      "Epoch 214/300\n",
      "14/14 - 0s - loss: 0.0102 - val_loss: 3.5758 - 196ms/epoch - 14ms/step\n",
      "Epoch 215/300\n",
      "14/14 - 0s - loss: 0.0086 - val_loss: 3.7308 - 197ms/epoch - 14ms/step\n",
      "Epoch 216/300\n",
      "14/14 - 0s - loss: 0.0072 - val_loss: 3.7469 - 197ms/epoch - 14ms/step\n",
      "Epoch 217/300\n",
      "14/14 - 0s - loss: 0.0070 - val_loss: 3.7440 - 197ms/epoch - 14ms/step\n",
      "Epoch 218/300\n",
      "14/14 - 0s - loss: 0.0070 - val_loss: 3.6797 - 196ms/epoch - 14ms/step\n",
      "Epoch 219/300\n",
      "14/14 - 0s - loss: 0.0067 - val_loss: 3.6376 - 197ms/epoch - 14ms/step\n",
      "Epoch 220/300\n",
      "14/14 - 0s - loss: 0.0077 - val_loss: 3.7182 - 192ms/epoch - 14ms/step\n",
      "Epoch 221/300\n",
      "14/14 - 0s - loss: 0.0080 - val_loss: 3.6431 - 198ms/epoch - 14ms/step\n",
      "Epoch 222/300\n",
      "14/14 - 0s - loss: 0.0073 - val_loss: 3.7268 - 195ms/epoch - 14ms/step\n",
      "Epoch 223/300\n",
      "14/14 - 0s - loss: 0.0072 - val_loss: 3.6603 - 197ms/epoch - 14ms/step\n",
      "Epoch 224/300\n",
      "14/14 - 0s - loss: 0.0075 - val_loss: 3.7499 - 193ms/epoch - 14ms/step\n",
      "Epoch 225/300\n",
      "14/14 - 0s - loss: 0.0082 - val_loss: 3.7430 - 197ms/epoch - 14ms/step\n",
      "Epoch 226/300\n",
      "14/14 - 0s - loss: 0.0076 - val_loss: 3.7450 - 192ms/epoch - 14ms/step\n",
      "Epoch 227/300\n",
      "14/14 - 0s - loss: 0.0090 - val_loss: 3.6445 - 196ms/epoch - 14ms/step\n",
      "Epoch 228/300\n",
      "14/14 - 0s - loss: 0.0074 - val_loss: 3.6466 - 194ms/epoch - 14ms/step\n",
      "Epoch 229/300\n",
      "14/14 - 0s - loss: 0.0075 - val_loss: 3.6757 - 198ms/epoch - 14ms/step\n",
      "Epoch 230/300\n",
      "14/14 - 0s - loss: 0.0069 - val_loss: 3.7441 - 190ms/epoch - 14ms/step\n",
      "Epoch 231/300\n",
      "14/14 - 0s - loss: 0.0084 - val_loss: 3.6091 - 190ms/epoch - 14ms/step\n",
      "Epoch 232/300\n",
      "14/14 - 0s - loss: 0.0078 - val_loss: 3.7119 - 197ms/epoch - 14ms/step\n",
      "Epoch 233/300\n",
      "14/14 - 0s - loss: 0.0080 - val_loss: 3.6207 - 199ms/epoch - 14ms/step\n",
      "Epoch 234/300\n",
      "14/14 - 0s - loss: 0.0078 - val_loss: 3.7788 - 192ms/epoch - 14ms/step\n",
      "Epoch 235/300\n",
      "14/14 - 0s - loss: 0.0070 - val_loss: 3.7409 - 189ms/epoch - 14ms/step\n",
      "Epoch 236/300\n",
      "14/14 - 0s - loss: 0.0064 - val_loss: 3.6856 - 192ms/epoch - 14ms/step\n",
      "Epoch 237/300\n",
      "14/14 - 0s - loss: 0.0065 - val_loss: 3.6792 - 195ms/epoch - 14ms/step\n",
      "Epoch 238/300\n",
      "14/14 - 0s - loss: 0.0069 - val_loss: 3.6993 - 204ms/epoch - 15ms/step\n",
      "Epoch 239/300\n",
      "14/14 - 0s - loss: 0.0067 - val_loss: 3.7497 - 194ms/epoch - 14ms/step\n",
      "Epoch 240/300\n",
      "14/14 - 0s - loss: 0.0072 - val_loss: 3.6412 - 196ms/epoch - 14ms/step\n",
      "Epoch 241/300\n",
      "14/14 - 0s - loss: 0.0075 - val_loss: 3.7667 - 195ms/epoch - 14ms/step\n",
      "Epoch 242/300\n",
      "14/14 - 0s - loss: 0.0065 - val_loss: 3.6909 - 195ms/epoch - 14ms/step\n",
      "Epoch 243/300\n",
      "14/14 - 0s - loss: 0.0072 - val_loss: 3.7413 - 191ms/epoch - 14ms/step\n",
      "Epoch 244/300\n",
      "14/14 - 0s - loss: 0.0075 - val_loss: 3.6270 - 194ms/epoch - 14ms/step\n",
      "Epoch 245/300\n",
      "14/14 - 0s - loss: 0.0101 - val_loss: 3.8193 - 197ms/epoch - 14ms/step\n",
      "Epoch 246/300\n",
      "14/14 - 0s - loss: 0.0107 - val_loss: 3.6488 - 191ms/epoch - 14ms/step\n",
      "Epoch 247/300\n",
      "14/14 - 0s - loss: 0.0087 - val_loss: 3.7229 - 192ms/epoch - 14ms/step\n",
      "Epoch 248/300\n",
      "14/14 - 0s - loss: 0.0089 - val_loss: 3.9065 - 195ms/epoch - 14ms/step\n",
      "Epoch 249/300\n",
      "14/14 - 0s - loss: 0.0090 - val_loss: 3.7657 - 189ms/epoch - 14ms/step\n",
      "Epoch 250/300\n",
      "14/14 - 0s - loss: 0.0076 - val_loss: 3.6041 - 195ms/epoch - 14ms/step\n",
      "Epoch 251/300\n",
      "14/14 - 0s - loss: 0.0088 - val_loss: 3.8671 - 191ms/epoch - 14ms/step\n",
      "Epoch 252/300\n",
      "14/14 - 0s - loss: 0.0083 - val_loss: 3.5498 - 193ms/epoch - 14ms/step\n",
      "Epoch 253/300\n",
      "14/14 - 0s - loss: 0.0116 - val_loss: 3.8813 - 195ms/epoch - 14ms/step\n",
      "Epoch 254/300\n",
      "14/14 - 0s - loss: 0.0123 - val_loss: 3.7807 - 194ms/epoch - 14ms/step\n",
      "Epoch 255/300\n",
      "14/14 - 0s - loss: 0.0072 - val_loss: 3.7439 - 193ms/epoch - 14ms/step\n",
      "Epoch 256/300\n",
      "14/14 - 0s - loss: 0.0076 - val_loss: 3.8519 - 196ms/epoch - 14ms/step\n",
      "Epoch 257/300\n",
      "14/14 - 0s - loss: 0.0115 - val_loss: 3.7265 - 190ms/epoch - 14ms/step\n",
      "Epoch 258/300\n",
      "14/14 - 0s - loss: 0.0099 - val_loss: 3.6079 - 199ms/epoch - 14ms/step\n",
      "Epoch 259/300\n",
      "14/14 - 0s - loss: 0.0113 - val_loss: 3.7370 - 195ms/epoch - 14ms/step\n",
      "Epoch 260/300\n",
      "14/14 - 0s - loss: 0.0120 - val_loss: 3.6622 - 199ms/epoch - 14ms/step\n",
      "Epoch 261/300\n",
      "14/14 - 0s - loss: 0.0097 - val_loss: 3.8106 - 191ms/epoch - 14ms/step\n",
      "Epoch 262/300\n",
      "14/14 - 0s - loss: 0.0074 - val_loss: 3.7552 - 192ms/epoch - 14ms/step\n",
      "Epoch 263/300\n",
      "14/14 - 0s - loss: 0.0061 - val_loss: 3.7169 - 194ms/epoch - 14ms/step\n",
      "Epoch 264/300\n",
      "14/14 - 0s - loss: 0.0060 - val_loss: 3.7096 - 192ms/epoch - 14ms/step\n",
      "Epoch 265/300\n",
      "14/14 - 0s - loss: 0.0063 - val_loss: 3.7375 - 194ms/epoch - 14ms/step\n",
      "Epoch 266/300\n",
      "14/14 - 0s - loss: 0.0078 - val_loss: 3.7609 - 200ms/epoch - 14ms/step\n",
      "Epoch 267/300\n",
      "14/14 - 0s - loss: 0.0069 - val_loss: 3.6542 - 192ms/epoch - 14ms/step\n",
      "Epoch 268/300\n",
      "14/14 - 0s - loss: 0.0069 - val_loss: 3.7292 - 195ms/epoch - 14ms/step\n",
      "Epoch 269/300\n",
      "14/14 - 0s - loss: 0.0085 - val_loss: 3.6102 - 202ms/epoch - 14ms/step\n",
      "Epoch 270/300\n",
      "14/14 - 0s - loss: 0.0105 - val_loss: 3.8083 - 194ms/epoch - 14ms/step\n",
      "Epoch 271/300\n",
      "14/14 - 0s - loss: 0.0099 - val_loss: 3.8500 - 194ms/epoch - 14ms/step\n",
      "Epoch 272/300\n",
      "14/14 - 0s - loss: 0.0073 - val_loss: 3.7215 - 198ms/epoch - 14ms/step\n",
      "Epoch 273/300\n",
      "14/14 - 0s - loss: 0.0077 - val_loss: 3.6938 - 196ms/epoch - 14ms/step\n",
      "Epoch 274/300\n",
      "14/14 - 0s - loss: 0.0066 - val_loss: 3.8292 - 194ms/epoch - 14ms/step\n",
      "Epoch 275/300\n",
      "14/14 - 0s - loss: 0.0080 - val_loss: 3.7366 - 194ms/epoch - 14ms/step\n",
      "Epoch 276/300\n",
      "14/14 - 0s - loss: 0.0065 - val_loss: 3.7646 - 193ms/epoch - 14ms/step\n",
      "Epoch 277/300\n",
      "14/14 - 0s - loss: 0.0062 - val_loss: 3.6875 - 195ms/epoch - 14ms/step\n",
      "Epoch 278/300\n",
      "14/14 - 0s - loss: 0.0080 - val_loss: 3.6229 - 193ms/epoch - 14ms/step\n",
      "Epoch 279/300\n",
      "14/14 - 0s - loss: 0.0071 - val_loss: 3.8335 - 193ms/epoch - 14ms/step\n",
      "Epoch 280/300\n",
      "14/14 - 0s - loss: 0.0087 - val_loss: 3.8710 - 195ms/epoch - 14ms/step\n",
      "Epoch 281/300\n",
      "14/14 - 0s - loss: 0.0088 - val_loss: 3.6338 - 231ms/epoch - 17ms/step\n",
      "Epoch 282/300\n",
      "14/14 - 0s - loss: 0.0106 - val_loss: 3.6990 - 195ms/epoch - 14ms/step\n",
      "Epoch 283/300\n",
      "14/14 - 0s - loss: 0.0084 - val_loss: 3.6458 - 189ms/epoch - 13ms/step\n",
      "Epoch 284/300\n",
      "14/14 - 0s - loss: 0.0076 - val_loss: 3.8153 - 193ms/epoch - 14ms/step\n",
      "Epoch 285/300\n",
      "14/14 - 0s - loss: 0.0064 - val_loss: 3.7207 - 190ms/epoch - 14ms/step\n",
      "Epoch 286/300\n",
      "14/14 - 0s - loss: 0.0070 - val_loss: 3.7672 - 192ms/epoch - 14ms/step\n",
      "Epoch 287/300\n",
      "14/14 - 0s - loss: 0.0067 - val_loss: 3.7616 - 195ms/epoch - 14ms/step\n",
      "Epoch 288/300\n",
      "14/14 - 0s - loss: 0.0064 - val_loss: 3.8277 - 200ms/epoch - 14ms/step\n",
      "Epoch 289/300\n",
      "14/14 - 0s - loss: 0.0064 - val_loss: 3.7325 - 196ms/epoch - 14ms/step\n",
      "Epoch 290/300\n",
      "14/14 - 0s - loss: 0.0078 - val_loss: 3.7156 - 200ms/epoch - 14ms/step\n",
      "Epoch 291/300\n",
      "14/14 - 0s - loss: 0.0068 - val_loss: 3.7814 - 196ms/epoch - 14ms/step\n",
      "Epoch 292/300\n",
      "14/14 - 0s - loss: 0.0075 - val_loss: 3.8158 - 207ms/epoch - 15ms/step\n",
      "Epoch 293/300\n",
      "14/14 - 0s - loss: 0.0067 - val_loss: 3.7591 - 200ms/epoch - 14ms/step\n",
      "Epoch 294/300\n",
      "14/14 - 0s - loss: 0.0063 - val_loss: 3.7390 - 196ms/epoch - 14ms/step\n",
      "Epoch 295/300\n",
      "14/14 - 0s - loss: 0.0071 - val_loss: 3.7235 - 194ms/epoch - 14ms/step\n",
      "Epoch 296/300\n",
      "14/14 - 0s - loss: 0.0088 - val_loss: 3.6549 - 196ms/epoch - 14ms/step\n",
      "Epoch 297/300\n",
      "14/14 - 0s - loss: 0.0149 - val_loss: 3.7213 - 196ms/epoch - 14ms/step\n",
      "Epoch 298/300\n",
      "14/14 - 0s - loss: 0.0112 - val_loss: 3.7884 - 194ms/epoch - 14ms/step\n",
      "Epoch 299/300\n",
      "14/14 - 0s - loss: 0.0091 - val_loss: 3.8774 - 193ms/epoch - 14ms/step\n",
      "Epoch 300/300\n",
      "14/14 - 0s - loss: 0.0083 - val_loss: 3.7864 - 200ms/epoch - 14ms/step\n",
      "execution time of fitting: 131.87099766731262 seconds\n"
     ]
    }
   ],
   "source": [
    "epochs = 300\n",
    "start_time = time.time()\n",
    "history1 = model1.fit(\n",
    "    X_train, \n",
    "    y_train, \n",
    "    validation_data=(X_val, y_val), \n",
    "    epochs=epochs, \n",
    "    callbacks=[cp1],\n",
    "    verbose = 2, # one line of one epoch\n",
    ")\n",
    "end_time = time.time()\n",
    "execution_time = end_time - start_time\n",
    "print(\"execution time of fitting:\", execution_time, \"seconds\")"
   ]
  },
  {
   "cell_type": "code",
   "execution_count": 23,
   "metadata": {},
   "outputs": [],
   "source": [
    "from tensorflow.keras.models import load_model\n",
    "model1 = load_model('model1/')"
   ]
  },
  {
   "cell_type": "markdown",
   "metadata": {},
   "source": [
    "## Evaluate the performance"
   ]
  },
  {
   "cell_type": "code",
   "execution_count": 24,
   "metadata": {},
   "outputs": [],
   "source": [
    "import matplotlib.pyplot as plt"
   ]
  },
  {
   "cell_type": "code",
   "execution_count": 25,
   "metadata": {},
   "outputs": [],
   "source": [
    "%matplotlib inline"
   ]
  },
  {
   "cell_type": "markdown",
   "metadata": {},
   "source": [
    "### training progress"
   ]
  },
  {
   "cell_type": "code",
   "execution_count": 26,
   "metadata": {},
   "outputs": [],
   "source": [
    "def plot_training_progress(history):\n",
    "    plt.plot(history.history['loss'])\n",
    "    plt.xlabel('Epoch')\n",
    "    plt.ylim([0, max(plt.ylim())])\n",
    "    plt.ylabel('Loss')\n",
    "    plt.title('training progress')"
   ]
  },
  {
   "cell_type": "code",
   "execution_count": 27,
   "metadata": {},
   "outputs": [
    {
     "data": {
      "image/png": "[encoded data removed]",
      "text/plain": [
       "<Figure size 640x480 with 1 Axes>"
      ]
     },
     "metadata": {},
     "output_type": "display_data"
    }
   ],
   "source": [
    "plot_training_progress(history1)"
   ]
  },
  {
   "cell_type": "markdown",
   "metadata": {},
   "source": [
    "### predictions"
   ]
  },
  {
   "cell_type": "code",
   "execution_count": 28,
   "metadata": {},
   "outputs": [],
   "source": [
    "from sklearn.metrics import mean_squared_error as mse\n",
    "\n",
    "def plot_predictions1(model, X, y, start=0, end=100):\n",
    "  predictions = model.predict(X).flatten()\n",
    "  df = pd.DataFrame(data={'Predictions': predictions, 'Actuals':y})\n",
    "  plt.plot(df['Predictions'][start:end], label = 'Predictions')\n",
    "  plt.plot(df['Actuals'][start:end], label = 'Actuals')\n",
    "  plt.legend()\n",
    "  return df, mse(predictions, y)"
   ]
  },
  {
   "cell_type": "code",
   "execution_count": 29,
   "metadata": {},
   "outputs": [
    {
     "name": "stdout",
     "output_type": "stream",
     "text": [
      "14/14 [==============================] - 0s 5ms/step\n"
     ]
    },
    {
     "data": {
      "text/plain": [
       "(     Predictions  Actuals\n",
       " 0       4.373008      3.9\n",
       " 1       4.417722      4.2\n",
       " 2       4.474583      4.4\n",
       " 3       4.569232      4.6\n",
       " 4       4.666598      4.8\n",
       " ..           ...      ...\n",
       " 428     4.990376      5.0\n",
       " 429     4.966197      5.0\n",
       " 430     4.925805      5.0\n",
       " 431     4.893492      4.9\n",
       " 432     4.852756      4.7\n",
       " \n",
       " [433 rows x 2 columns],\n",
       " 0.01589789018375523)"
      ]
     },
     "execution_count": 29,
     "metadata": {},
     "output_type": "execute_result"
    },
    {
     "data": {
      "image/png": "[encoded data removed]",
      "text/plain": [
       "<Figure size 640x480 with 1 Axes>"
      ]
     },
     "metadata": {},
     "output_type": "display_data"
    }
   ],
   "source": [
    "plot_predictions1(model1, X_train, y_train, 1, 430)"
   ]
  },
  {
   "cell_type": "code",
   "execution_count": 30,
   "metadata": {},
   "outputs": [
    {
     "name": "stdout",
     "output_type": "stream",
     "text": [
      "5/5 [==============================] - 0s 5ms/step\n"
     ]
    },
    {
     "data": {
      "text/plain": [
       "(     Predictions  Actuals\n",
       " 0       4.819214      4.8\n",
       " 1       4.805046      4.7\n",
       " 2       4.786640      4.7\n",
       " 3       4.778776      4.6\n",
       " 4       4.782989      4.6\n",
       " ..           ...      ...\n",
       " 140     6.022277      4.2\n",
       " 141     6.019944      4.2\n",
       " 142     6.020991      4.1\n",
       " 143     6.021288      4.0\n",
       " 144     6.028789      4.1\n",
       " \n",
       " [145 rows x 2 columns],\n",
       " 3.368272649882544)"
      ]
     },
     "execution_count": 30,
     "metadata": {},
     "output_type": "execute_result"
    },
    {
     "data": {
      "image/png": "[encoded data removed]",
      "text/plain": [
       "<Figure size 640x480 with 1 Axes>"
      ]
     },
     "metadata": {},
     "output_type": "display_data"
    }
   ],
   "source": [
    "plot_predictions1(model1, X_val, y_val, 1, 145)"
   ]
  },
  {
   "cell_type": "code",
   "execution_count": 31,
   "metadata": {},
   "outputs": [
    {
     "name": "stdout",
     "output_type": "stream",
     "text": [
      "1/1 [==============================] - 0s 19ms/step\n"
     ]
    },
    {
     "data": {
      "text/plain": [
       "(    Predictions  Actuals\n",
       " 0      6.057628      4.0\n",
       " 1      6.094790      4.0\n",
       " 2      6.103210      3.8\n",
       " 3      6.100982      4.0\n",
       " 4      6.088164      3.8\n",
       " 5      6.070697      3.8\n",
       " 6      6.037916      3.7\n",
       " 7      6.004753      3.8\n",
       " 8      6.009885      3.8\n",
       " 9      5.982739      3.9\n",
       " 10     5.950217      4.0\n",
       " 11     5.931863      3.8\n",
       " 12     5.914769      3.8\n",
       " 13     5.888831      3.7\n",
       " 14     5.870271      3.6\n",
       " 15     5.852354      3.6\n",
       " 16     5.840523      3.7\n",
       " 17     5.825651      3.6\n",
       " 18     5.822753      3.5\n",
       " 19     5.814545      3.6\n",
       " 20     5.825198      3.6\n",
       " 21     5.833469      3.6\n",
       " 22     5.858831      3.6\n",
       " 23     5.871499      3.5\n",
       " 24     5.867016      4.4,\n",
       " 4.750902775587919)"
      ]
     },
     "execution_count": 31,
     "metadata": {},
     "output_type": "execute_result"
    },
    {
     "data": {
      "image/png": "[encoded data removed]",
      "text/plain": [
       "<Figure size 640x480 with 1 Axes>"
      ]
     },
     "metadata": {},
     "output_type": "display_data"
    }
   ],
   "source": [
    "plot_predictions1(model1, X_test, y_test)"
   ]
  }
 ],
 "metadata": {
  "kernelspec": {
   "display_name": "Python 3",
   "language": "python",
   "name": "python3"
  },
  "language_info": {
   "codemirror_mode": {
    "name": "ipython",
    "version": 3
   },
   "file_extension": ".py",
   "mimetype": "text/x-python",
   "name": "python",
   "nbconvert_exporter": "python",
   "pygments_lexer": "ipython3",
   "version": "3.10.13"
  }
 },
 "nbformat": 4,
 "nbformat_minor": 4
}
