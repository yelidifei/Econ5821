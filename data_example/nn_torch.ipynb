{
 "cells": [
  {
   "cell_type": "code",
   "execution_count": 46,
   "metadata": {},
   "outputs": [],
   "source": [
    "import torch\n",
    "import torch.nn as nn\n",
    "import torch.optim as optim\n"
   ]
  },
  {
   "cell_type": "code",
   "execution_count": 47,
   "metadata": {},
   "outputs": [],
   "source": [
    "class PoissonRegression(nn.Module):\n",
    "    def __init__(self, input_dim):\n",
    "        super(PoissonRegression, self).__init__()\n",
    "        self.linear = nn.Linear(input_dim, 1)\n",
    "\n",
    "    def forward(self, x):\n",
    "        return torch.exp(self.linear(x))\n"
   ]
  },
  {
   "cell_type": "markdown",
   "metadata": {},
   "source": [
    "generate data"
   ]
  },
  {
   "cell_type": "code",
   "execution_count": 48,
   "metadata": {},
   "outputs": [],
   "source": [
    "import numpy as np\n",
    "import random\n",
    "\n",
    "# Generate the artificial data\n",
    "\n",
    "n_total = int(20000)\n",
    "K = 100\n",
    "X = np.column_stack((np.ones(n_total), np.random.rand(n_total * (K - 1)).reshape(n_total, K - 1)))\n",
    "b0 = 1.0 * np.ones(K) / K\n",
    "y = np.random.poisson(np.exp(X.dot(b0)))\n"
   ]
  },
  {
   "cell_type": "code",
   "execution_count": 49,
   "metadata": {},
   "outputs": [],
   "source": [
    "# Split the data into train and test sets\n",
    "n = len(y)\n",
    "test_indices = random.sample(range(n), round(0.2 * n))\n",
    "\n",
    "y_test = y[test_indices]\n",
    "X_test = X[test_indices, :]\n",
    "\n",
    "y_train = np.delete(y, test_indices)\n",
    "X_train = np.delete(X, test_indices, axis=0)\n",
    "\n",
    "# convert X_train into a pytorch tensor\n",
    "X_train = torch.from_numpy(X_train).float()\n",
    "y_train = torch.from_numpy(y_train).float()"
   ]
  },
  {
   "cell_type": "code",
   "execution_count": 50,
   "metadata": {},
   "outputs": [],
   "source": [
    "model = PoissonRegression(K)\n",
    "optimizer = optim.SGD(model.parameters(), lr=1)\n"
   ]
  },
  {
   "cell_type": "code",
   "execution_count": 51,
   "metadata": {},
   "outputs": [],
   "source": [
    "def poisson_nll_loss(y_pred, y_true):\n",
    "    return torch.mean(y_pred - y_true * torch.log(y_pred)) # this is the correct formula. \n",
    "# y_pred is the linear index, y_true is the true value.\n",
    "\n"
   ]
  },
  {
   "cell_type": "code",
   "execution_count": 52,
   "metadata": {},
   "outputs": [
    {
     "name": "stdout",
     "output_type": "stream",
     "text": [
      "Epoch 1, Loss: 1.0363727807998657\n",
      "Epoch 2, Loss: 0.9319944381713867\n",
      "Epoch 3, Loss: 0.8806751370429993\n",
      "Epoch 4, Loss: 0.8586091995239258\n",
      "Epoch 5, Loss: 0.8500959873199463\n",
      "Epoch 6, Loss: 0.8470416069030762\n",
      "Epoch 7, Loss: 0.8459743857383728\n",
      "Epoch 8, Loss: 0.8455837965011597\n",
      "Epoch 9, Loss: 0.8454144597053528\n",
      "Epoch 10, Loss: 0.8453155755996704\n",
      "Epoch 11, Loss: 0.8452390432357788\n",
      "Epoch 12, Loss: 0.8451696634292603\n",
      "Epoch 13, Loss: 0.8451026678085327\n",
      "Epoch 14, Loss: 0.8450363874435425\n",
      "Epoch 15, Loss: 0.8449705243110657\n",
      "Epoch 16, Loss: 0.8449048399925232\n",
      "Epoch 17, Loss: 0.8448394536972046\n",
      "Epoch 18, Loss: 0.8447741866111755\n",
      "Epoch 19, Loss: 0.8447092771530151\n",
      "Epoch 20, Loss: 0.8446443676948547\n",
      "Epoch 21, Loss: 0.8445796966552734\n",
      "Epoch 22, Loss: 0.8445151448249817\n",
      "Epoch 23, Loss: 0.844450831413269\n",
      "Epoch 24, Loss: 0.8443866968154907\n",
      "Epoch 25, Loss: 0.844322681427002\n",
      "Epoch 26, Loss: 0.8442590236663818\n",
      "Epoch 27, Loss: 0.8441953063011169\n",
      "Epoch 28, Loss: 0.8441319465637207\n",
      "Epoch 29, Loss: 0.8440686464309692\n",
      "Epoch 30, Loss: 0.8440056443214417\n",
      "Epoch 31, Loss: 0.8439427018165588\n",
      "Epoch 32, Loss: 0.8438799977302551\n",
      "Epoch 33, Loss: 0.843817412853241\n",
      "Epoch 34, Loss: 0.8437550067901611\n",
      "Epoch 35, Loss: 0.8436927795410156\n",
      "Epoch 36, Loss: 0.8436307907104492\n",
      "Epoch 37, Loss: 0.8435689806938171\n",
      "Epoch 38, Loss: 0.8435072302818298\n",
      "Epoch 39, Loss: 0.8434458374977112\n",
      "Epoch 40, Loss: 0.8433843851089478\n",
      "Epoch 41, Loss: 0.843323290348053\n",
      "Epoch 42, Loss: 0.843262255191803\n",
      "Epoch 43, Loss: 0.8432013392448425\n",
      "Epoch 44, Loss: 0.8431408405303955\n",
      "Epoch 45, Loss: 0.8430802226066589\n",
      "Epoch 46, Loss: 0.8430199027061462\n",
      "Epoch 47, Loss: 0.8429597020149231\n",
      "Epoch 48, Loss: 0.8428996801376343\n",
      "Epoch 49, Loss: 0.8428399562835693\n",
      "Epoch 50, Loss: 0.8427802324295044\n",
      "Epoch 51, Loss: 0.8427207469940186\n",
      "Epoch 52, Loss: 0.842661440372467\n",
      "Epoch 53, Loss: 0.8426022529602051\n",
      "Epoch 54, Loss: 0.8425433039665222\n",
      "Epoch 55, Loss: 0.8424844145774841\n",
      "Epoch 56, Loss: 0.8424258232116699\n",
      "Epoch 57, Loss: 0.8423672318458557\n",
      "Epoch 58, Loss: 0.8423089385032654\n",
      "Epoch 59, Loss: 0.8422507643699646\n",
      "Epoch 60, Loss: 0.8421927690505981\n",
      "Epoch 61, Loss: 0.8421348333358765\n",
      "Epoch 62, Loss: 0.8420771956443787\n",
      "Epoch 63, Loss: 0.8420196175575256\n",
      "Epoch 64, Loss: 0.8419623374938965\n",
      "Epoch 65, Loss: 0.8419049382209778\n",
      "Epoch 66, Loss: 0.8418480157852173\n",
      "Epoch 67, Loss: 0.841791033744812\n",
      "Epoch 68, Loss: 0.8417342305183411\n",
      "Epoch 69, Loss: 0.8416776061058044\n",
      "Epoch 70, Loss: 0.8416213393211365\n",
      "Epoch 71, Loss: 0.8415650725364685\n",
      "Epoch 72, Loss: 0.8415088653564453\n",
      "Epoch 73, Loss: 0.841452956199646\n",
      "Epoch 74, Loss: 0.8413971066474915\n",
      "Epoch 75, Loss: 0.841341495513916\n",
      "Epoch 76, Loss: 0.8412860631942749\n",
      "Epoch 77, Loss: 0.8412306308746338\n",
      "Epoch 78, Loss: 0.8411754965782166\n",
      "Epoch 79, Loss: 0.8411204814910889\n",
      "Epoch 80, Loss: 0.8410655856132507\n",
      "Epoch 81, Loss: 0.8410108685493469\n",
      "Epoch 82, Loss: 0.8409563302993774\n",
      "Epoch 83, Loss: 0.840901792049408\n",
      "Epoch 84, Loss: 0.8408474922180176\n",
      "Epoch 85, Loss: 0.8407934308052063\n",
      "Epoch 86, Loss: 0.8407394289970398\n",
      "Epoch 87, Loss: 0.8406856060028076\n",
      "Epoch 88, Loss: 0.8406320214271545\n",
      "Epoch 89, Loss: 0.8405784368515015\n",
      "Epoch 90, Loss: 0.8405251502990723\n",
      "Epoch 91, Loss: 0.8404718637466431\n",
      "Epoch 92, Loss: 0.840418815612793\n",
      "Epoch 93, Loss: 0.8403659462928772\n",
      "Epoch 94, Loss: 0.8403131365776062\n",
      "Epoch 95, Loss: 0.84026038646698\n",
      "Epoch 96, Loss: 0.8402079343795776\n",
      "Epoch 97, Loss: 0.8401555418968201\n",
      "Epoch 98, Loss: 0.8401033878326416\n",
      "Epoch 99, Loss: 0.8400512933731079\n",
      "Epoch 100, Loss: 0.8399994373321533\n"
     ]
    }
   ],
   "source": [
    "optimizer = optim.SGD(model.parameters(), lr=0.01)\n",
    "\n",
    "for epoch in range(100):  # number of epochs\n",
    "    optimizer.zero_grad()\n",
    "    y_pred = model(X_train) # the liner index\n",
    "    loss = poisson_nll_loss(y_pred, y_train)\n",
    "    loss.backward()\n",
    "    optimizer.step()\n",
    "\n",
    "    if epoch % 1 == 0:  # print every 100 epochs\n",
    "        print(f'Epoch {epoch+1}, Loss: {loss.item()}')\n"
   ]
  },
  {
   "cell_type": "code",
   "execution_count": 53,
   "metadata": {},
   "outputs": [
    {
     "name": "stdout",
     "output_type": "stream",
     "text": [
      "OrderedDict([('linear.weight', tensor([[ 0.1140,  0.0155, -0.0001,  0.0363,  0.0075,  0.0911,  0.0637, -0.0624,\n",
      "          0.0763,  0.0091, -0.0147,  0.0587,  0.0611, -0.0640,  0.0667, -0.0058,\n",
      "         -0.0699,  0.0514,  0.0667,  0.0669,  0.0357, -0.0159, -0.0748, -0.0261,\n",
      "         -0.0469, -0.0725,  0.0733, -0.0590,  0.0912,  0.0842,  0.0227, -0.0502,\n",
      "          0.0171, -0.0493, -0.0068,  0.0018, -0.0082,  0.0601, -0.0337, -0.0524,\n",
      "          0.0178,  0.0744, -0.0777, -0.0044, -0.0092,  0.0883,  0.0664,  0.0108,\n",
      "          0.0016, -0.0282, -0.0497,  0.0355,  0.0188, -0.0323,  0.0621,  0.0882,\n",
      "          0.0454, -0.0203,  0.0104,  0.0652, -0.0275, -0.0463,  0.0512, -0.0557,\n",
      "          0.0315,  0.0067,  0.0731, -0.0751,  0.0109,  0.0971, -0.0200,  0.0061,\n",
      "         -0.0675, -0.0673,  0.0191,  0.0688, -0.0607, -0.0754, -0.0542, -0.0682,\n",
      "         -0.0561,  0.0296,  0.0826,  0.0350, -0.0670,  0.0466, -0.0114, -0.0435,\n",
      "          0.0051,  0.0681,  0.0737, -0.0708, -0.0377,  0.0278, -0.0063, -0.0366,\n",
      "          0.0337,  0.0498,  0.0884,  0.0853]])), ('linear.bias', tensor([0.0014]))])\n"
     ]
    }
   ],
   "source": [
    "# print the coefficients of the model\n",
    "\n",
    "# print(model.state_dict()['linear.weight'])\n",
    "print(model.state_dict())"
   ]
  },
  {
   "cell_type": "code",
   "execution_count": null,
   "metadata": {},
   "outputs": [],
   "source": []
  }
 ],
 "metadata": {
  "kernelspec": {
   "display_name": "tf_env",
   "language": "python",
   "name": "python3"
  },
  "language_info": {
   "codemirror_mode": {
    "name": "ipython",
    "version": 3
   },
   "file_extension": ".py",
   "mimetype": "text/x-python",
   "name": "python",
   "nbconvert_exporter": "python",
   "pygments_lexer": "ipython3",
   "version": "3.11.5"
  },
  "orig_nbformat": 4
 },
 "nbformat": 4,
 "nbformat_minor": 2
}
