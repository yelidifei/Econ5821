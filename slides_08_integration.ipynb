{
 "cells": [
  {
   "cell_type": "markdown",
   "metadata": {
    "slideshow": {
     "slide_type": "slide"
    }
   },
   "source": [
    "# Integration\n",
    "\n",
    "### Zhentao Shi\n",
    "\n",
    "<img src=\"graph/damaoshan.jpeg\" width=\"1000\">\n",
    "\n",
    "<!-- code is tested on SCRP -->"
   ]
  },
  {
   "cell_type": "markdown",
   "metadata": {
    "slideshow": {
     "slide_type": "slide"
    }
   },
   "source": [
    "* Mathematically, integration and differentiation involve taking limit\n",
    "* Computer is a finite-precision machine"
   ]
  },
  {
   "cell_type": "markdown",
   "metadata": {
    "slideshow": {
     "slide_type": "fragment"
    }
   },
   "source": [
    "* Numerical integration\n",
    "* Stochastic integration\n",
    "* Markov Chain Monte Carlo (MCMC)"
   ]
  },
  {
   "cell_type": "markdown",
   "metadata": {
    "slideshow": {
     "slide_type": "slide"
    }
   },
   "source": [
    "\n",
    "## Numerical Methods\n",
    "\n",
    "* Numerical differentiation and integration\n",
    "* Nothing to do with economics or econometrics"
   ]
  },
  {
   "cell_type": "markdown",
   "metadata": {
    "slideshow": {
     "slide_type": "fragment"
    }
   },
   "source": [
    "* To find the optimum for the objective function $f:R^K \\mapsto R$\n",
    "by Newton's method, \n",
    "  * $K$-dimensional gradient   \n",
    "  * $K\\times K$-dimensional Hessian matrix."
   ]
  },
  {
   "cell_type": "markdown",
   "metadata": {
    "slideshow": {
     "slide_type": "subslide"
    }
   },
   "source": [
    "* Programming up the gradient and the Hessian manually is a time-consuming and error-prone job\n",
    "* Whenever we change the objective function, we have to redo the gradient and Hessian\n",
    "\n",
    "* More efficient to use numerical differentiation instead of the analytical expressions"
   ]
  },
  {
   "cell_type": "markdown",
   "metadata": {
    "slideshow": {
     "slide_type": "slide"
    }
   },
   "source": [
    "The partial derivative of a multivariate function\n",
    "$f:R^K \\mapsto R$ at a point $x_0 \\in R^K$ is\n",
    "\n",
    "$$\n",
    "\\frac{\\partial f(x)}{\\partial x_k}\\bigg|_{x=x_0}=\\lim_{\\epsilon \\to 0}\n",
    "\\frac{f(x_0+\\epsilon \\cdot e_k) - f(x_0 - \\epsilon \\cdot e_k)}{2\\epsilon},\n",
    "$$\n",
    "\n",
    "where $e_k = (0,\\ldots,0,1,0,\\ldots,0)$ is the identifier of the $k$-th coordinate."
   ]
  },
  {
   "cell_type": "markdown",
   "metadata": {
    "slideshow": {
     "slide_type": "slide"
    }
   },
   "source": [
    "* Numerical execution in a computer follows the basic definition to evaluate\n",
    "$f(x_0\\pm\\epsilon \\cdot e_k))$ with a small\n",
    "$\\epsilon$. \n",
    "\n",
    "* How small is small? Usually we try a sequence of $\\epsilon$'s until\n",
    "the numerical derivative is stable. \n",
    "\n",
    "* There are also more sophisticated algorithms."
   ]
  },
  {
   "cell_type": "markdown",
   "metadata": {
    "slideshow": {
     "slide_type": "subslide"
    }
   },
   "source": [
    "In R, the package `numDeriv` conducts numerical differentiation, in which\n",
    "\n",
    "* `grad` for a scalar-valued function;\n",
    "* `jacobian` for a real-vector-valued function;\n",
    "* `hessian` for a scalar-valued function;\n",
    "* `genD` for a real-vector-valued function."
   ]
  },
  {
   "cell_type": "markdown",
   "metadata": {
    "slideshow": {
     "slide_type": "slide"
    }
   },
   "source": [
    "## Integration\n",
    "\n",
    "* `integrate` carries out one-dimensional quadrature\n",
    "* `adaptIntegrate` in the package `cubature` deals with multi-dimensional quadrature.\n"
   ]
  },
  {
   "cell_type": "markdown",
   "metadata": {
    "slideshow": {
     "slide_type": "slide"
    }
   },
   "source": [
    "## Caution\n",
    "\n",
    "* Numerical methods are not panacea\n",
    "* Not all functions are differentiable or integrable.\n",
    "* Before turning to numerical methods, it is always imperative to try to understand the behavior of the function at the first place.\n",
    "* Some symbolic software, such as `Mathematica` or `Wolfram Alpha`, is a useful tool for this purpose. \n",
    "* R is weak in symbolic calculation despite the existence of a few packages for this purpose."
   ]
  },
  {
   "cell_type": "markdown",
   "metadata": {
    "slideshow": {
     "slide_type": "slide"
    }
   },
   "source": [
    "## Stochastic Methods\n",
    "\n",
    "* An alternative to numerical integration is the stochastic methods.\n",
    "* The underlying principle of stochastic integration is the law of large numbers.\n",
    "\n",
    "* Let  $\\int h(x) d F(x)$ be an integral where $F(x)$ is a probability distribution.\n",
    "* Approximate the integral by\n",
    "$\\int h(x) d F(x) \\approx S^{-1} \\sum_{s=1}^S h(x_s)$, where $x_s$ is randomly\n",
    "generated from $F(x)$."
   ]
  },
  {
   "cell_type": "markdown",
   "metadata": {
    "slideshow": {
     "slide_type": "slide"
    }
   },
   "source": [
    "* When $S$ is large, a law of large numbers gives\n",
    "\n",
    "$$\n",
    "S^{-1} \\sum_{s=1}^S h(x_s) \\stackrel{\\mathrm{p}}{\\to} E[h(x)] = \\int h(x) d F(x).\n",
    "$$\n",
    "\n",
    "* If the integration is carried out not in the entire support of $F(x)$ but on a subset $A$, then\n",
    "\n",
    "$$\n",
    "\\int_A h(x) d F(x) \\approx S^{-1} \\sum_{s=1}^S h(x_s) \\cdot 1\\{x_s \\in A\\},\n",
    "$$\n",
    "\n",
    "where $1\\{\\cdot\\}$ is the indicator function."
   ]
  },
  {
   "cell_type": "markdown",
   "metadata": {
    "slideshow": {
     "slide_type": "slide"
    }
   },
   "source": [
    "* In theory, use an $S$ as large as possible.\n",
    "* In reality, constrained by the computer's memory and computing time.\n",
    "* No clear guidance of the size of $S$ in practice. \n",
    "* Preliminary experiment can help decide an $S$ that produces stable results.\n",
    "\n",
    "* Stochastic integration is popular in econometrics and statistics, thanks to its convenience in execution."
   ]
  },
  {
   "cell_type": "markdown",
   "metadata": {
    "slideshow": {
     "slide_type": "skip"
    }
   },
   "source": [
    "\n",
    "### Example\n",
    "\n",
    "Structural econometric estimation starts from economic principles. In an economic model,\n",
    "some elements unobservable to the econometrician dictate an economic agent's decision.\n",
    "[[Roy, 1951]](https://academic.oup.com/oep/article-abstract/3/2/135/2360754) proposes such a structural model with latent variables, and the Roy model is\n",
    "the foundation of self-selection in labor economics.\n"
   ]
  },
  {
   "cell_type": "markdown",
   "metadata": {
    "slideshow": {
     "slide_type": "skip"
    }
   },
   "source": [
    "In the original paper of the Roy model, an economic agent\n",
    "must be either a farmer or a fisher.\n",
    "The utility of being a farmer is $U_1^{\\star} = x' \\beta_1 + e_1$ and that of\n",
    "being a fisher is $U_2^{\\star} = x' \\beta_2 + e_2$,\n",
    "where $U_1^{\\star}$ and $U_2^{\\star}$ are latent (unobservable).\n",
    "The econometrician observes the binary outcome $y=\\mathbf{1}\\{U_1^{\\star}> U_2^{\\star}\\}$. If\n",
    "$(e_1,e_2)$ is independent of $x$, and\n",
    "\n",
    "$$\n",
    "\\begin{bmatrix}\n",
    "e_1\\\\e_2\n",
    "\\end{bmatrix}\n",
    "\\sim N \\left(\n",
    "\\begin{bmatrix}\n",
    "0 \\\\ 0\n",
    "\\end{bmatrix},\n",
    "  \\begin{bmatrix}\n",
    "  \\sigma_1^2 & \\sigma_{12} \\\\ \\sigma_{12} & 1\n",
    "  \\end{bmatrix}\\right)\n",
    "$$\n",
    "\n",
    "where $\\sigma_2$ is normalized to be 1, we can write down the log-likelihood as\n",
    "\n",
    "$$\n",
    "L(\\theta) = \\sum_{i = 1}^n  \\left\\{ y_i \\log P( U_{i1}^{\\star} > U_{i2}^{\\star} )\n",
    "+ (1-y_i)\\log P( U_{i1}^* \\leq  U_{i2}^{\\star} ) \\right\\}.\n",
    "$$"
   ]
  },
  {
   "cell_type": "markdown",
   "metadata": {
    "slideshow": {
     "slide_type": "skip"
    }
   },
   "source": [
    "Let $\\theta = (\\beta_1, \\beta_2, \\sigma_1, \\sigma_{12}).$\n",
    "Given a trial value $\\theta$,\n",
    "we can compute\n",
    "\n",
    "$$\n",
    "p(\\theta|x_i) = P\\left( U^{\\star}_{i1}(\\theta) > U^{\\star}_{i2}(\\theta) \\right)\n",
    "= P\\left( x_i'(\\beta_1 - \\beta_2) > e_{i2} -e_{i1} \\right).\n",
    "$$\n",
    "\n",
    "Under the joint normal assumption, $e_{i2} - e_{i1} \\sim N(0, \\sigma_1^2 - 2\\sigma_{12}+1)$ so that\n",
    "\n",
    "$$\n",
    "p(\\theta|x_i) = \\Phi \\left(  \\frac{x_i'(\\beta_1 - \\beta_2)}{\\sqrt{\\sigma_1^2 - 2\\sigma_{12}+1}} \\right)\n",
    "$$\n",
    "\n",
    "where $\\Phi(\\cdot)$ is the CDF of the standard normal.\n"
   ]
  },
  {
   "cell_type": "markdown",
   "metadata": {
    "slideshow": {
     "slide_type": "skip"
    }
   },
   "source": [
    "However, notice that the analytical form depends on the joint normal assumption and cannot be\n",
    "easily extended to other distributions. As long as the joint distribution of $(e_{i1}, e_{i2})$, no matter it is normal or not,\n",
    "can be generated from the computer, we can use the stochastic method.\n",
    "We estimate\n",
    "\n",
    "$$\n",
    "\\hat{p}(\\theta|x_i) = \\frac{1}{S} \\sum_{i=1}^S \\mathbf{1}\\left( U^{s*}_{i1}(\\theta) > U^{s*}_{i2}(\\theta) \\right),\n",
    "$$\n",
    "\n",
    "where $s=1,\\ldots,S$ is the index of simulation and $S$ is the total number of simulation replications."
   ]
  },
  {
   "cell_type": "markdown",
   "metadata": {
    "slideshow": {
     "slide_type": "skip"
    }
   },
   "source": [
    "Next, we match moments generated the theoretical model with their empirical counterparts.\n",
    "The choice of the moments to be matched is to be decided by the user.\n",
    "A set of valid choice for the Roy model example is\n",
    "\n",
    "$$\n",
    "\\begin{align*}\n",
    "g_1(\\theta) & =  n^{-1} \\sum_{i=1}^n x_i (y_i - \\hat{p}(\\theta | x_i))  \\approx  0\\\\\n",
    "g_2(\\theta) & =  n^{-1} \\sum_{i=1}^n (y_i - \\bar{y})^2 - \\bar{\\hat{p}}(\\theta| x_i) (1- \\bar{\\hat{p}}(\\theta| x_i))  \\approx  0\\\\\n",
    "g_3(\\theta) & =  n^{-1} \\sum_{i=1}^n (x_i - \\bar{x} ) (y_i - \\hat{p}(\\theta | x_i))^2  \\approx  0\n",
    "\\end{align*}\n",
    "$$\n",
    "\n",
    "where $\\bar{y} = n^{-1} \\sum_{i=1}^n y_i$ and\n",
    "$\\bar{\\hat{p}}(\\theta) = n^{-1} \\sum_{i=1}^n p(\\theta|x_i)$."
   ]
  },
  {
   "cell_type": "markdown",
   "metadata": {
    "slideshow": {
     "slide_type": "skip"
    }
   },
   "source": [
    "The first set of moments is justified by the independence of $(e_{i1}, e_{i2})$\n",
    "and $x_i$ so that $E[x_i y_i] = x_i E[y_i | x_i] = x_i p(\\theta|x_i)$,\n",
    "and the second set matches the variance of $y_i$.\n",
    "Since the moment conditions $(g_j(\\theta))_{j=1}^3$ equals the number of unknown parameters,\n",
    "these moment conditions just-identifies the parameter $\\theta$.\n",
    "We need to come up with more moment conditions for over-identification.\n",
    "Moreover, we need to choose a weighting matrix $W$ to form a quadratic criterion for GMM in\n",
    "over-identification."
   ]
  },
  {
   "cell_type": "markdown",
   "metadata": {
    "slideshow": {
     "slide_type": "skip"
    }
   },
   "source": [
    "\n",
    "The above example can be viewed as an application of simulated maximum likelihood. In parallel,\n",
    "we can simulate a moment condition if its explicit form is unavailable.\n",
    "[[Pakes, 1989]](https://www.jstor.org/stable/1913622) provide the theoretical foundation of the\n",
    "simulated method of moments (SMM)."
   ]
  },
  {
   "cell_type": "markdown",
   "metadata": {
    "slideshow": {
     "slide_type": "skip"
    }
   },
   "source": [
    "\n",
    "### Indirect Inference\n",
    "\n",
    "Indirect inference [[Smith, 1993]](https://onlinelibrary.wiley.com/doi/abs/10.1002/jae.3950080506), [[Gourieroux, 1993]](https://onlinelibrary.wiley.com/doi/abs/10.1002/jae.3950080507)\n",
    "is yet another simulated-based estimation method.\n",
    "Indirect inference is extensively used in structural model estimation [[Li, 2010]](https://citeseerx.ist.psu.edu/document?repid=rep1&type=pdf&doi=21af27a288937ffb0753ec0f7ce40fa43fbc50aa).\n",
    "Theoretical analysis of indirect inference reveals its nice properties in\n",
    "bias deduction via a proper choice of the binding function [[Phillips, 2012]](https://onlinelibrary.wiley.com/doi/abs/10.3982/ECTA9350).\n"
   ]
  },
  {
   "cell_type": "markdown",
   "metadata": {
    "slideshow": {
     "slide_type": "skip"
    }
   },
   "source": [
    "The basic idea of indirect inference is to recover the structural parameter from\n",
    "an *auxiliary model*---usually an reduced-form regression.\n",
    "The reduced-form regression ignores the underlying economic structure and is a purely statistical\n",
    "procedure; thus the reduced-form regression is relatively easier to implement.\n",
    "A *binding function* is a one-to-one mapping from the parameter space of the reduced-form to that\n",
    "of the structural form. Once the reduced-form parameter is estimated, we can recover the\n",
    "structural parameter via the binding function. When the reduced-form parameter can be expressed in closed-form, we can utilize the analytical form to match the theoretical prediction and the empirical outcomes, as in [Shi, 2018](https://onlinelibrary.wiley.com/doi/abs/10.1002/jae.2640). In most cases however, the reduced-form implied by the structural model does not have a closed-form expression so simulation becomes necessary."
   ]
  },
  {
   "cell_type": "markdown",
   "metadata": {
    "slideshow": {
     "slide_type": "skip"
    }
   },
   "source": [
    "The choice of the auxiliary model is not unique. In the Roy model example where $\\theta$ is\n",
    "the structural parameter, a sensible starting point to construct the auxiliary model\n",
    "is the linear regression between $y_i$ and $x_i$.\n",
    "A set of reduced-form parameters can be chosen as\n",
    "$\\hat{b}=(\\hat{b}_1,\\hat{b}_2,\\hat{b}_3)'$, where\n",
    "\n",
    "$$\n",
    "\\begin{align}\n",
    "\\hat{b}_1 & =  (X'X)^{-1}X'y \\\\\n",
    "\\hat{b}_2 & =  n^{-1}\\sum_{y_i=1} (y_i - x_i' b_1)^2 = n^{-1}\\sum_{y_i=1} (1 - x_i' b_1)^2  \\\\\n",
    "\\hat{b}_3 & =  n^{-1}\\sum_{y_i=0} (y_i - x_i' b_1)^2 = n^{-1}\\sum_{y_i=0} (x_i' b_1)^2.\n",
    "\\end{align}\n",
    "$$\n",
    "\n",
    "Here $\\hat{b}_1$ is associated with $\\beta$, and $(\\hat{b}_2,\\hat{b}_3)$\n",
    "are associated with $(\\sigma_1,\\sigma_{12})$."
   ]
  },
  {
   "cell_type": "markdown",
   "metadata": {
    "slideshow": {
     "slide_type": "skip"
    }
   },
   "source": [
    "Now we consider the structural parameter. Given a trial value $\\theta$, the model\n",
    "is parametric and we can simulate artificial error $(e_{i1}^*, e_{i2}^*)$ conditional\n",
    "on $x_i$. In each simulation experiment,\n",
    "we can decide $y_i^*$, and we can further estimate the reduced-form parameter\n",
    "$\\hat{b}^*=\\hat{b}^*(\\theta)$\n",
    "given the artificial data.\n",
    "$b(\\theta)$ is the binding function.\n",
    " Conducting such simulation for $S$ times, we measure\n",
    "the distance between $\\hat{b}$ and $\\hat{b}^*$ as\n",
    "\n",
    "$$\n",
    "Q(\\theta) = \\left(\\hat{b} - S^{-1} \\sum_{s=1}^S \\hat{b}^*(\\theta)^{s} \\right)'\n",
    "W \\left(\\hat{b} - S^{-1} \\sum_{s=1}^S \\hat{b}^*(\\theta)^{s}\\right)\n",
    "$$\n",
    "\n",
    "where $s$ indexes the simulation and $W$ is a positive definite weighting matrix.\n",
    "The indirect inference estimator is $\\hat{\\theta} = \\arg\\min_{\\theta} Q(\\theta).$\n",
    "That is, we seek the value of $\\theta$\n",
    "that minimizes the distance between the reduced-form parameter from the real data and that\n",
    "from the simulated artificial data."
   ]
  },
  {
   "cell_type": "markdown",
   "metadata": {
    "slideshow": {
     "slide_type": "slide"
    }
   },
   "source": [
    "### Random Variable Generation\n",
    "\n",
    "* **If the CDF $F(X)$ is known**, we can generate random variables that follow such a distribution.\n",
    "  * Draw $U$ from  $\\mathrm{Uniform}(0,1)$\n",
    "  * Compute $X = F^{-1}(U)$"
   ]
  },
  {
   "cell_type": "markdown",
   "metadata": {
    "slideshow": {
     "slide_type": "slide"
    }
   },
   "source": [
    "## Markov Chain Monte Carlo\n",
    "\n",
    "* **If the pdf $f(X)$ is known**, we can generate a sample by *importance sampling*\n",
    "  * [Metropolis-Hastings algorithm](https://en.wikipedia.org/wiki/Metropolis%E2%80%93Hastings_algorithm)\n",
    " (MH algorithm) is such a method.\n",
    "  * MH is one of the [Markov Chain Monte Carlo](https://en.wikipedia.org/wiki/Markov_chain_Monte_Carlo) methods.\n",
    "* It can be implemented in the R package `mcmc`.\n",
    "  * [This page](https://chi-feng.github.io/mcmc-demo/) contains demonstrative\n",
    "examples of MCMC."
   ]
  },
  {
   "cell_type": "markdown",
   "metadata": {
    "slideshow": {
     "slide_type": "slide"
    }
   },
   "source": [
    "### Metropolis-Hastings Algorithm\n",
    "\n",
    "* Theory of the MH requires long derivation\n",
    "* Implementation is straightforward."
   ]
  },
  {
   "cell_type": "markdown",
   "metadata": {
    "slideshow": {
     "slide_type": "slide"
    }
   },
   "source": [
    "### Example\n",
    "\n",
    "Use MH to generate a sample of normally distributed observations with\n",
    "$\\mu = 1$ and $\\sigma = 0.5$.\n",
    "\n",
    "* In the function `metrop`, we provide the logarithm of the density of\n",
    "\n",
    "$$\n",
    "\\log f(x) = -\\frac{1}{2} \\log (2\\pi) - \\log \\sigma - \\frac{1}{2\\sigma^2} (x-\\mu)^2\n",
    "$$\n",
    "\n",
    "  * The first term can be omitted as it is irrelevant to the parameter."
   ]
  },
  {
   "cell_type": "code",
   "execution_count": 1,
   "metadata": {
    "slideshow": {
     "slide_type": "slide"
    },
    "vscode": {
     "languageId": "r"
    }
   },
   "outputs": [
    {
     "data": {
      "image/png": "[encoded data removed]",
      "text/plain": [
       "Plot with title \"\""
      ]
     },
     "metadata": {
      "image/png": {
       "height": 420,
       "width": 420
      }
     },
     "output_type": "display_data"
    }
   ],
   "source": [
    "h <- function(x, mu = 1, sd = 0.5) {\n",
    "  y <- -log(sd) - (x - mu)^2 / (2 * sd^2)\n",
    "  # y <- log( dnorm(x, 1, 0.5) )\n",
    "} # un-normalized function (doesn't need to integrate as 1)\n",
    "\n",
    "out <- mcmc::metrop(obj = h, initial = 0, nbatch = 100, nspac = 1)\n",
    "\n",
    "par(mfrow = c(3, 1))\n",
    "par(mar = c(2, 2, 1, 1))\n",
    "plot(out$batch, type = \"l\") # a time series with flat steps\n",
    "\n",
    "out <- mcmc::metrop(obj = h, initial = 0, nbatch = 100, nspac = 10)\n",
    "plot(out$batch, type = \"l\") # a time series looks like a white noise\n",
    "\n",
    "out <- mcmc::metrop(obj = h, initial = 0, nbatch = 10000, nspac = 10)\n",
    "plot(density(out$batch), main = \"\", lwd = 2)\n",
    "\n",
    "xbase <- seq(-2, 2, 0.01)\n",
    "ynorm <- dnorm(xbase, mean = 1, sd = 0.5)\n",
    "lines(x = xbase, y = ynorm, type = \"l\", col = \"red\")\n"
   ]
  },
  {
   "cell_type": "markdown",
   "metadata": {
    "slideshow": {
     "slide_type": "skip"
    }
   },
   "source": [
    "### Outcomes\n",
    "\n",
    "* The first panel is a time series where\n",
    "the marginal distribution of each observations follows $N(1,0.5^2)$. \n",
    "  * Time dependence is visible\n",
    "  * flat regions are observed when the Markov chain rejects a new proposal\n",
    "so the value does not update over two periods. \n",
    "\n",
    "* The middle panel collects the time series every 10 observations on the Markov chain\n",
    "  * serial correlation is weakened\n",
    "  * No flat region is observed\n",
    " \n",
    "  \n",
    "* The third panel compares     \n",
    "  * kernel density of the simulated observations (black curve) \n",
    "  * density function of $N(1,0.5^2)$ (red curve).\n"
   ]
  },
  {
   "cell_type": "markdown",
   "metadata": {
    "slideshow": {
     "slide_type": "slide"
    }
   },
   "source": [
    "### Bayesian Inference\n",
    "\n",
    "\n",
    "* Bayesian framework offers a coherent and natural language for statistical decision. \n",
    "* Bayesian views both the data $\\mathbf{X}_{n}$ and the\n",
    "parameter $\\theta$ as random variables\n",
    "* Before observeing the data, researcher holds a *prior distribution* $\\pi$ about $\\theta$\n",
    "* After observing the data, researcher updates the prior distribution to a *posterior distribution* $p(\\theta|\\mathbf{X}_{n})$. \n"
   ]
  },
  {
   "cell_type": "markdown",
   "metadata": {
    "slideshow": {
     "slide_type": "slide"
    }
   },
   "source": [
    "### Bayes Theorem\n",
    "\n",
    "* Let $f(\\mathbf{X}_{n}|\\theta)$ be the likelihood\n",
    "* Let $\\pi$ be the prior\n",
    "\n",
    "* The celebrated Bayes Theorem is\n",
    "\n",
    "$$\n",
    "p(\\theta|\\mathbf{X}_{n})\\propto f(\\mathbf{X}_{n}|\\theta)\\pi(\\theta)\n",
    "$$\n",
    "\n",
    "\n"
   ]
  },
  {
   "cell_type": "markdown",
   "metadata": {
    "slideshow": {
     "slide_type": "slide"
    }
   },
   "source": [
    "### Classical Analytical Example \n",
    "\n",
    "* $\\mathbf{X}_{n}=(X_{1},\\ldots,X_{n})$ is an iid sample drawn from a normal distribution with unknown $\\theta$ and known $\\sigma$\n",
    "* If a researcher's prior distribution\n",
    "$\\theta\\sim N(\\theta_{0},\\sigma_{0}^{2})$, her posterior distribution\n",
    "is, by some routine calculation, also a normal distribution\n",
    "\n",
    "$$\n",
    "p(\\theta|\\mathbf{x}_{n})\\sim N\\left(\\tilde{\\theta},\\tilde{\\sigma}^{2}\\right),\n",
    "$$\n",
    "\n",
    "where\n",
    "$\\tilde{\\theta}=\\frac{\\sigma^{2}}{n\\sigma_{0}^{2}+\\sigma^{2}}\\theta_{0}+\\frac{n\\sigma_{0}^{2}}{n\\sigma_{0}^{2}+\\sigma^{2}}\\bar{x}$\n",
    "and\n",
    "$\\tilde{\\sigma}^{2}=\\frac{\\sigma_{0}^{2}\\sigma^{2}}{n\\sigma_{0}^{2}+\\sigma^{2}}$.\n"
   ]
  },
  {
   "cell_type": "markdown",
   "metadata": {
    "slideshow": {
     "slide_type": "slide"
    }
   },
   "source": [
    "### Bayesian Credible Set\n",
    "\n",
    "$$\n",
    "\\left(\\tilde{\\theta}-z_{1-\\alpha/2}\\cdot\\tilde{\\sigma},\\ \\tilde{\\theta}+z_{1-\\alpha/2}\\cdot\\tilde{\\sigma}\\right).\n",
    "$$\n",
    "\n",
    "* Posterior distribution depends on $\\theta_{0}$ and $\\sigma_{0}^{2}$\n",
    "from the prior. \n",
    "* When the sample size is sufficiently, the data overwhelms the prior\n"
   ]
  },
  {
   "cell_type": "markdown",
   "metadata": {
    "slideshow": {
     "slide_type": "subslide"
    }
   },
   "source": [
    "### Frequentist Confidence Internval\n",
    "\n",
    "\n",
    "* $\\hat{\\theta}=\\bar{x}\\sim N(\\theta,\\sigma^{2}/n)$. \n",
    "\n",
    "* Confidence interval is\n",
    "\n",
    "$$\n",
    "\\left(\\bar{x}-z_{1-\\alpha/2}\\cdot\\sigma/\\sqrt{n},\\ \\bar{x}-z_{1-\\alpha/2}\\cdot\\sigma/\\sqrt{n}\\right).\n",
    "$$"
   ]
  },
  {
   "cell_type": "markdown",
   "metadata": {
    "slideshow": {
     "slide_type": "slide"
    }
   },
   "source": [
    "### Comparison\n",
    "\n",
    "* Bayesian produces a posterior distribution\n",
    "  * The posterior distribution implies point estimates and credible set\n",
    "  * Data are fixed (invariant)\n",
    "  * A prior distribution is needed\n",
    "\n",
    "* Frequestist produces a point estimator\n",
    "  * Before data are observed, the point estimator is random\n",
    "  * Inference is imply by the point estimator **before observation**\n",
    "  * Only data are realized, the point estimate is a fixed number\n",
    "  * No prior distribution is needed\n",
    "  "
   ]
  },
  {
   "cell_type": "markdown",
   "metadata": {
    "slideshow": {
     "slide_type": "slide"
    }
   },
   "source": [
    "### Code Example\n",
    "\n",
    "* Prior distribution $\\mu \\sim Beta(2,5)$\n",
    "* [Beta distribution](https://en.wikipedia.org/wiki/Beta_distribution) is flexible"
   ]
  },
  {
   "cell_type": "code",
   "execution_count": 2,
   "metadata": {
    "slideshow": {
     "slide_type": "fragment"
    },
    "vscode": {
     "languageId": "r"
    }
   },
   "outputs": [
    {
     "data": {
      "image/png": "[encoded data removed]",
      "text/plain": [
       "plot without title"
      ]
     },
     "metadata": {
      "image/png": {
       "height": 420,
       "width": 420
      }
     },
     "output_type": "display_data"
    }
   ],
   "source": [
    "# prior distribution\n",
    "xbase = seq(0.01, 0.99, by = 0.01)\n",
    "plot( x = xbase, y = dbeta(xbase, 2, 5), type = \"l\" )\n"
   ]
  },
  {
   "cell_type": "markdown",
   "metadata": {
    "slideshow": {
     "slide_type": "subslide"
    }
   },
   "source": [
    "* The nature generates data"
   ]
  },
  {
   "cell_type": "code",
   "execution_count": 7,
   "metadata": {
    "slideshow": {
     "slide_type": "fragment"
    },
    "vscode": {
     "languageId": "r"
    }
   },
   "outputs": [
    {
     "name": "stdout",
     "output_type": "stream",
     "text": [
      "   [1] -2.964246323 -2.409070409 -2.365196373 -2.173634590 -2.034166473\n",
      "   [6] -1.951195036 -1.921903384 -1.861721204 -1.802642180 -1.676915083\n",
      "  [11] -1.652886843 -1.619791778 -1.589896407 -1.564112739 -1.543357409\n",
      "  [16] -1.464522263 -1.430903721 -1.430646948 -1.430053700 -1.423774196\n",
      "  [21] -1.422660095 -1.421648570 -1.406725634 -1.406380789 -1.395414495\n",
      "  [26] -1.379951401 -1.378498250 -1.378251690 -1.367482070 -1.335578002\n",
      "  [31] -1.326205664 -1.313625335 -1.284713957 -1.283225303 -1.273398160\n",
      "  [36] -1.266742106 -1.262119827 -1.254394297 -1.245536504 -1.233535051\n",
      "  [41] -1.221714813 -1.213538244 -1.211224946 -1.208431314 -1.208270585\n",
      "  [46] -1.169220249 -1.161827401 -1.149706414 -1.144738049 -1.141510164\n",
      "  [51] -1.138003466 -1.133723135 -1.133166156 -1.128050653 -1.126624167\n",
      "  [56] -1.113354540 -1.111440159 -1.103576164 -1.091920619 -1.076271484\n",
      "  [61] -1.076267484 -1.074022147 -1.073050740 -1.071405110 -1.065849855\n",
      "  [66] -1.058756797 -1.053747377 -1.042158650 -1.038419954 -1.033506520\n",
      "  [71] -1.020586062 -1.018977036 -1.017460449 -1.012077454 -0.998285339\n",
      "  [76] -0.996886583 -0.985416142 -0.977853887 -0.966737200 -0.951665756\n",
      "  [81] -0.931611939 -0.929659505 -0.919679555 -0.918757494 -0.912836528\n",
      "  [86] -0.908494958 -0.901154894 -0.878655360 -0.878176197 -0.864361223\n",
      "  [91] -0.854114195 -0.849268868 -0.845020781 -0.834791596 -0.834082751\n",
      "  [96] -0.829448194 -0.808910371 -0.807582391 -0.806428575 -0.802796369\n",
      " [101] -0.802520685 -0.800625337 -0.798949525 -0.798926120 -0.793630716\n",
      " [106] -0.782631528 -0.780282230 -0.767658182 -0.767359421 -0.763635348\n",
      " [111] -0.763115660 -0.760495557 -0.756113641 -0.755348847 -0.751650838\n",
      " [116] -0.748361252 -0.740423525 -0.738553163 -0.734455026 -0.704565049\n",
      " [121] -0.701310890 -0.690835397 -0.684228448 -0.682723549 -0.680403644\n",
      " [126] -0.678394688 -0.673410104 -0.670349709 -0.663282162 -0.662979711\n",
      " [131] -0.662664741 -0.655512993 -0.655223011 -0.653675936 -0.653621890\n",
      " [136] -0.651062265 -0.645013823 -0.636475129 -0.631252319 -0.628734935\n",
      " [141] -0.624561407 -0.620349082 -0.619137616 -0.615432212 -0.608687586\n",
      " [146] -0.606958095 -0.600855488 -0.600617913 -0.599481274 -0.598546160\n",
      " [151] -0.597502322 -0.583909417 -0.582550127 -0.581485007 -0.578373651\n",
      " [156] -0.570569302 -0.570069084 -0.567809751 -0.557543321 -0.556592019\n",
      " [161] -0.556462915 -0.549899551 -0.544731008 -0.539303234 -0.518345916\n",
      " [166] -0.516296324 -0.512269773 -0.511558735 -0.504862908 -0.495291249\n",
      " [171] -0.493847069 -0.489250002 -0.487024054 -0.483233620 -0.479758674\n",
      " [176] -0.479243964 -0.473020099 -0.464042856 -0.464017296 -0.463176112\n",
      " [181] -0.461687324 -0.459996856 -0.454941797 -0.454476868 -0.450455339\n",
      " [186] -0.449576333 -0.448039002 -0.441986618 -0.438622640 -0.437320822\n",
      " [191] -0.436356773 -0.433172097 -0.432765954 -0.431377396 -0.429990858\n",
      " [196] -0.429372613 -0.425137790 -0.422933807 -0.420818449 -0.419547432\n",
      " [201] -0.411009498 -0.410146920 -0.407711590 -0.406867288 -0.404277128\n",
      " [206] -0.398276933 -0.391131858 -0.390645284 -0.388523683 -0.385130378\n",
      " [211] -0.378339699 -0.377708361 -0.375901605 -0.374477326 -0.373643787\n",
      " [216] -0.371131237 -0.364287389 -0.357317127 -0.356859890 -0.354586891\n",
      " [221] -0.353417235 -0.351981180 -0.351430344 -0.346412772 -0.344785598\n",
      " [226] -0.343813916 -0.335247737 -0.333068434 -0.326788325 -0.326222519\n",
      " [231] -0.324038296 -0.323574527 -0.313997741 -0.310785045 -0.310357291\n",
      " [236] -0.309701633 -0.308532926 -0.305874057 -0.304960794 -0.303376741\n",
      " [241] -0.301231998 -0.300187571 -0.299184572 -0.298830740 -0.297093755\n",
      " [246] -0.296579296 -0.295444213 -0.294555881 -0.292650528 -0.291422481\n",
      " [251] -0.283674141 -0.281611512 -0.279655892 -0.279583935 -0.277669579\n",
      " [256] -0.275867351 -0.275818569 -0.272971246 -0.271722649 -0.269869347\n",
      " [261] -0.269063270 -0.268609372 -0.268489289 -0.263816464 -0.260632103\n",
      " [266] -0.253305761 -0.252380472 -0.251234133 -0.248892961 -0.248256003\n",
      " [271] -0.247287837 -0.246316770 -0.245648849 -0.242107396 -0.241943528\n",
      " [276] -0.240732346 -0.237190947 -0.231778662 -0.230389316 -0.230287825\n",
      " [281] -0.230176909 -0.229579621 -0.220983923 -0.218830250 -0.217733371\n",
      " [286] -0.214654823 -0.213772421 -0.213475961 -0.209722162 -0.205010998\n",
      " [291] -0.202562322 -0.198970517 -0.194630528 -0.194390043 -0.193408990\n",
      " [296] -0.192386872 -0.187823456 -0.187816886 -0.185173992 -0.183336370\n",
      " [301] -0.175535762 -0.169436942 -0.165353335 -0.165041636 -0.164620793\n",
      " [306] -0.164081800 -0.162935971 -0.162764771 -0.161337714 -0.161044778\n",
      " [311] -0.160487618 -0.159485071 -0.158583698 -0.156051552 -0.154937069\n",
      " [316] -0.150099903 -0.149451457 -0.143412323 -0.143205565 -0.142026887\n",
      " [321] -0.139228034 -0.138008683 -0.135974689 -0.127573061 -0.126850391\n",
      " [326] -0.126679101 -0.126170563 -0.125616009 -0.123960366 -0.118465878\n",
      " [331] -0.117587148 -0.114791477 -0.114582906 -0.109728069 -0.107021603\n",
      " [336] -0.090554054 -0.086391558 -0.083161095 -0.082017649 -0.072685071\n",
      " [341] -0.071330571 -0.068906141 -0.067645186 -0.067015316 -0.063325109\n",
      " [346] -0.062319739 -0.060048117 -0.053817923 -0.053792496 -0.051936179\n",
      " [351] -0.047609476 -0.040192193 -0.039871110 -0.039111353 -0.037822161\n",
      " [356] -0.037131214 -0.036052562 -0.035560143 -0.034913954 -0.025697077\n",
      " [361] -0.022508091 -0.019544337  0.001156916  0.004684152  0.011312033\n",
      " [366]  0.011416606  0.012038870  0.015149289  0.017638135  0.024487347\n",
      " [371]  0.030606435  0.031875217  0.032061646  0.033361733  0.036600773\n",
      " [376]  0.037795586  0.041692663  0.045016228  0.045395966  0.047134585\n",
      " [381]  0.047445788  0.049618644  0.051522654  0.052333247  0.052594623\n",
      " [386]  0.053005186  0.054777390  0.054849980  0.055725168  0.055791298\n",
      " [391]  0.056604914  0.056817206  0.056916340  0.057346282  0.057972450\n",
      " [396]  0.060209323  0.060765289  0.062756770  0.066106888  0.067644153\n",
      " [401]  0.068019341  0.068609785  0.071397819  0.072948185  0.073634435\n",
      " [406]  0.077256010  0.077991867  0.079628054  0.080579548  0.080899480\n",
      " [411]  0.083731944  0.083938266  0.088323850  0.090360087  0.091168189\n",
      " [416]  0.091820380  0.093357755  0.095238431  0.098776209  0.099219694\n",
      " [421]  0.100802669  0.105627617  0.108228016  0.111076469  0.111570043\n",
      " [426]  0.112241557  0.112308336  0.112882976  0.113213083  0.117611208\n",
      " [431]  0.118507921  0.120608581  0.120826670  0.121426308  0.123927976\n",
      " [436]  0.125068538  0.125419629  0.126282869  0.127505269  0.128752436\n",
      " [441]  0.134873802  0.136778325  0.137439022  0.137537144  0.138004325\n",
      " [446]  0.140759379  0.142994352  0.144630681  0.144997385  0.149147685\n",
      " [451]  0.152035307  0.152143580  0.152773345  0.153177827  0.153713118\n",
      " [456]  0.154629018  0.158392632  0.159659693  0.159800823  0.163224719\n",
      " [461]  0.164335496  0.165524503  0.167417907  0.167713361  0.167830204\n",
      " [466]  0.167926131  0.169428138  0.170165480  0.170901193  0.171159366\n",
      " [471]  0.173043385  0.173100818  0.174959804  0.176087854  0.180454567\n",
      " [476]  0.181038211  0.181523622  0.181622057  0.182107122  0.182189261\n",
      " [481]  0.183097024  0.185144811  0.187217552  0.187233651  0.187652923\n",
      " [486]  0.188756692  0.189976089  0.190987789  0.191394666  0.192405652\n",
      " [491]  0.192578345  0.193132297  0.195000692  0.197965186  0.198558070\n",
      " [496]  0.202427201  0.202473947  0.203071257  0.205532388  0.205623188\n",
      " [501]  0.205899658  0.209517834  0.209541603  0.213009332  0.214821284\n",
      " [506]  0.215337654  0.215510812  0.216350207  0.216523783  0.219441424\n",
      " [511]  0.219567714  0.220646573  0.226318830  0.228655206  0.229408501\n",
      " [516]  0.229756160  0.230602269  0.231622067  0.238345643  0.239298536\n",
      " [521]  0.240343054  0.241029074  0.242774274  0.251019004  0.252292255\n",
      " [526]  0.253548357  0.253792179  0.256236444  0.257648671  0.260610434\n",
      " [531]  0.264150313  0.266304655  0.267154079  0.269024037  0.270012610\n",
      " [536]  0.270879725  0.273159159  0.278036817  0.280102119  0.281503549\n",
      " [541]  0.283750260  0.284383910  0.284402286  0.289300665  0.294785566\n",
      " [546]  0.295935622  0.299382860  0.300352368  0.301543222  0.304988683\n",
      " [551]  0.305024882  0.306086323  0.306115567  0.307038808  0.307709366\n",
      " [556]  0.308375967  0.309049703  0.310101132  0.311375247  0.311765834\n",
      " [561]  0.311998650  0.312629200  0.312933600  0.313712193  0.314621729\n",
      " [566]  0.314849901  0.318036734  0.321504774  0.323367620  0.324712018\n",
      " [571]  0.326446763  0.335498015  0.337841609  0.338219952  0.343989425\n",
      " [576]  0.344520471  0.347325662  0.348342208  0.348726615  0.355306377\n",
      " [581]  0.357239751  0.360157201  0.368411671  0.369579520  0.371207843\n",
      " [586]  0.371826006  0.374369292  0.377568698  0.382572086  0.384044909\n",
      " [591]  0.386821536  0.387159257  0.388056719  0.388348621  0.389211444\n",
      " [596]  0.392106821  0.393952269  0.394205135  0.394963451  0.396555117\n",
      " [601]  0.399691144  0.401402454  0.402726159  0.402993873  0.405269384\n",
      " [606]  0.405481007  0.405694439  0.406165991  0.407077027  0.407670473\n",
      " [611]  0.408201051  0.408310443  0.409746534  0.410609630  0.412488205\n",
      " [616]  0.412835970  0.413232588  0.413616974  0.416033675  0.417980339\n",
      " [621]  0.419513400  0.421152871  0.423187980  0.423403459  0.428484769\n",
      " [626]  0.428904368  0.429865240  0.430790389  0.431198478  0.433430868\n",
      " [631]  0.434724525  0.438336465  0.440242199  0.441504877  0.444019796\n",
      " [636]  0.444669935  0.446260442  0.446511260  0.447342158  0.447799536\n",
      " [641]  0.448448401  0.449985315  0.453493209  0.453685952  0.453908291\n",
      " [646]  0.454845429  0.463324434  0.464520848  0.465203046  0.466281124\n",
      " [651]  0.468784422  0.470901033  0.472911904  0.475058550  0.475290246\n",
      " [656]  0.479391980  0.485065758  0.486982919  0.488096628  0.488378361\n",
      " [661]  0.488930993  0.489910726  0.490483914  0.492297661  0.492598488\n",
      " [666]  0.494938985  0.495313947  0.496715195  0.497849878  0.498639650\n",
      " [671]  0.498792571  0.499252750  0.503176015  0.504918973  0.504945592\n",
      " [676]  0.506156806  0.506951518  0.507189066  0.507500757  0.507939106\n",
      " [681]  0.508661390  0.508861168  0.511881988  0.512526090  0.512606178\n",
      " [686]  0.513287418  0.514553100  0.517118673  0.517305213  0.522328992\n",
      " [691]  0.525044387  0.526366994  0.530541006  0.532006278  0.532702239\n",
      " [696]  0.532787330  0.534363923  0.534483317  0.535021837  0.535867618\n",
      " [701]  0.536236792  0.542482298  0.542959114  0.544666625  0.546051225\n",
      " [706]  0.548614413  0.548690350  0.549842859  0.551821315  0.551925789\n",
      " [711]  0.552986527  0.555305809  0.556231378  0.558981820  0.563087669\n",
      " [716]  0.566281744  0.567945138  0.569382945  0.571868533  0.572023774\n",
      " [721]  0.572742313  0.575672511  0.575689751  0.577382824  0.577753831\n",
      " [726]  0.578153038  0.578170585  0.579346448  0.580521969  0.580645365\n",
      " [731]  0.582177186  0.582882153  0.586645713  0.588553015  0.590876699\n",
      " [736]  0.591862599  0.594095462  0.596789443  0.597180263  0.597456904\n",
      " [741]  0.597906729  0.598941006  0.599089389  0.599654093  0.599830198\n",
      " [746]  0.602266287  0.603343298  0.605776701  0.608105264  0.610662385\n",
      " [751]  0.610709653  0.610751427  0.612627654  0.613231142  0.615798619\n",
      " [756]  0.615924727  0.616304228  0.617655474  0.617824357  0.619800768\n",
      " [761]  0.624648330  0.624668650  0.627627188  0.631047969  0.631360991\n",
      " [766]  0.633505682  0.634098111  0.635324063  0.635755145  0.635924286\n",
      " [771]  0.636626643  0.637946751  0.640033793  0.642014297  0.644787358\n",
      " [776]  0.645287312  0.645835195  0.648496412  0.649119847  0.649628901\n",
      " [781]  0.650945246  0.652821118  0.652878005  0.653207685  0.653463457\n",
      " [786]  0.654569751  0.656925542  0.657347116  0.659303312  0.659914369\n",
      " [791]  0.661108556  0.661402514  0.662430014  0.662538205  0.662573104\n",
      " [796]  0.665489975  0.666610980  0.668317297  0.668952244  0.671618888\n",
      " [801]  0.675217767  0.676724471  0.677654041  0.678017631  0.678483811\n",
      " [806]  0.678667993  0.680473446  0.680647649  0.681041527  0.683494669\n",
      " [811]  0.685143129  0.686918721  0.687599934  0.687827203  0.689562078\n",
      " [816]  0.690609868  0.692457565  0.693531005  0.694036763  0.694598795\n",
      " [821]  0.694765555  0.695342312  0.696223275  0.696990203  0.697188992\n",
      " [826]  0.697578851  0.698395891  0.698673196  0.698838883  0.700612734\n",
      " [831]  0.701276319  0.701316218  0.701792417  0.702040259  0.703444517\n",
      " [836]  0.703450413  0.705000130  0.706827101  0.708447620  0.711014831\n",
      " [841]  0.713365064  0.714414193  0.714893536  0.715227901  0.716343287\n",
      " [846]  0.716384069  0.716866368  0.718069727  0.718388400  0.720900960\n",
      " [851]  0.721071549  0.722114485  0.722263518  0.722827719  0.724320371\n",
      " [856]  0.726485839  0.727420450  0.733551387  0.734030758  0.734610297\n",
      " [861]  0.736240516  0.738271184  0.738333254  0.739741173  0.741635281\n",
      " [866]  0.744985197  0.746162081  0.747286756  0.749076245  0.750957809\n",
      " [871]  0.751332028  0.753860802  0.754189745  0.756650302  0.756984001\n",
      " [876]  0.761202084  0.766377663  0.767857791  0.768134176  0.768480269\n",
      " [881]  0.771101350  0.772693375  0.773805974  0.775310299  0.777279468\n",
      " [886]  0.777889810  0.778522509  0.780347529  0.781565347  0.782438417\n",
      " [891]  0.783423264  0.786097354  0.787541666  0.789639626  0.789822575\n",
      " [896]  0.790335809  0.790605706  0.790737024  0.791937216  0.792797044\n",
      " [901]  0.794225735  0.795568574  0.796592780  0.796963164  0.798942102\n",
      " [906]  0.800902529  0.801117366  0.803770805  0.805759149  0.806333852\n",
      " [911]  0.807095698  0.809924589  0.811845344  0.813615823  0.815693702\n",
      " [916]  0.817303548  0.817589851  0.820428974  0.821035595  0.822545378\n",
      " [921]  0.823102422  0.825128850  0.825273604  0.828231400  0.828835360\n",
      " [926]  0.830918786  0.833137707  0.835169660  0.837682905  0.838188103\n",
      " [931]  0.840307299  0.840825072  0.841143098  0.842280953  0.842442481\n",
      " [936]  0.843050299  0.844428352  0.844742605  0.844875075  0.844970832\n",
      " [941]  0.845208596  0.845911816  0.846113437  0.847915806  0.848910630\n",
      " [946]  0.854436502  0.854715473  0.855583979  0.857204019  0.858604977\n",
      " [951]  0.858742101  0.865182135  0.867394874  0.868254711  0.868388561\n",
      " [956]  0.869978441  0.872838348  0.873242620  0.873292648  0.873864018\n",
      " [961]  0.874206346  0.875449079  0.876587003  0.878037040  0.879567799\n",
      " [966]  0.881172859  0.882317538  0.882525981  0.884106778  0.884292501\n",
      " [971]  0.884804120  0.886736937  0.887049752  0.887592050  0.888363923\n",
      " [976]  0.888501109  0.889818433  0.891415388  0.894136949  0.895303367\n",
      " [981]  0.895613165  0.895640439  0.896147896  0.896419597  0.897786338\n",
      " [986]  0.899116042  0.900537185  0.902030613  0.902403393  0.903686843\n",
      " [991]  0.903773107  0.906486574  0.906859558  0.907178211  0.909770864\n",
      " [996]  0.911719605  0.912161651  0.913235474  0.914306958  0.915551775\n",
      "[1001]  0.917316151  0.917889880  0.918565191  0.918960049  0.919779105\n",
      "[1006]  0.922042413  0.922772415  0.924460414  0.924615432  0.925346519\n",
      "[1011]  0.925378171  0.925584907  0.927147497  0.928611884  0.930031738\n",
      "[1016]  0.931146480  0.931213732  0.932544135  0.932890056  0.933889045\n",
      "[1021]  0.936307280  0.937788845  0.941268609  0.941475479  0.942732265\n",
      "[1026]  0.942775832  0.943419518  0.944367741  0.944766368  0.945148032\n",
      "[1031]  0.946764472  0.947154548  0.947948842  0.951003955  0.951889074\n",
      "[1036]  0.951956395  0.952067029  0.954174626  0.954224074  0.955359622\n",
      "[1041]  0.958481422  0.961603044  0.964999314  0.965844820  0.967084832\n",
      "[1046]  0.967093587  0.969803369  0.971027759  0.972166408  0.972710610\n",
      "[1051]  0.973199115  0.973792868  0.973995274  0.976716738  0.979341598\n",
      "[1056]  0.979976387  0.980368230  0.980792432  0.980820665  0.980837666\n",
      "[1061]  0.981189448  0.981485851  0.981757424  0.985094774  0.987532241\n",
      "[1066]  0.989609886  0.991130038  0.992826883  0.993163159  0.994085500\n",
      "[1071]  0.995012286  0.997164324  0.997170594  0.998055739  0.998179618\n",
      "[1076]  0.998721065  1.000353431  1.000739886  1.000968949  1.001603030\n",
      "[1081]  1.004227619  1.005185670  1.005949006  1.006309060  1.006691649\n",
      "[1086]  1.007029141  1.007462940  1.008011984  1.008015918  1.009610238\n",
      "[1091]  1.010677144  1.013416878  1.014593119  1.015415689  1.017795004\n",
      "[1096]  1.018811556  1.019541469  1.020311198  1.021224151  1.021388067\n",
      "[1101]  1.025077016  1.025473261  1.026605784  1.027175494  1.028792574\n",
      "[1106]  1.030162877  1.030410307  1.031445926  1.035373316  1.037350667\n",
      "[1111]  1.040427883  1.040851530  1.041170149  1.042928617  1.043025042\n",
      "[1116]  1.044736363  1.045850499  1.045975567  1.046066070  1.047045202\n",
      "[1121]  1.047177741  1.047331486  1.047693685  1.047915899  1.048525049\n",
      "[1126]  1.051458956  1.051566797  1.051994689  1.052281452  1.055603683\n",
      "[1131]  1.055616129  1.056729201  1.059818247  1.059972126  1.062756567\n",
      "[1136]  1.064399209  1.065943304  1.066662916  1.070594030  1.071103882\n",
      "[1141]  1.074319412  1.075873352  1.076746491  1.076840164  1.079114919\n",
      "[1146]  1.080018737  1.081201680  1.083272331  1.083919599  1.089355850\n",
      "[1151]  1.091806206  1.093773781  1.096440439  1.096946282  1.098929050\n",
      "[1156]  1.102462241  1.102485664  1.103374456  1.103555032  1.103686449\n",
      "[1161]  1.104811812  1.106857492  1.108016420  1.109591419  1.111757777\n",
      "[1166]  1.113107030  1.113308568  1.113544321  1.113908496  1.117346824\n",
      "[1171]  1.117791561  1.118523913  1.119615119  1.121116918  1.122247087\n",
      "[1176]  1.124539915  1.124884035  1.125439446  1.126104825  1.127141406\n",
      "[1181]  1.132109078  1.132220861  1.133297239  1.133864278  1.134217636\n",
      "[1186]  1.134267267  1.135208439  1.137979060  1.139729861  1.141743788\n",
      "[1191]  1.145648610  1.146244652  1.147157258  1.147679310  1.149544821\n",
      "[1196]  1.150164264  1.150688407  1.152026982  1.153304340  1.154327758\n",
      "[1201]  1.154725608  1.155334215  1.155371800  1.156757180  1.162989932\n",
      "[1206]  1.165479652  1.166238393  1.166797619  1.167289155  1.168177704\n",
      "[1211]  1.170615001  1.171478678  1.172025652  1.173952884  1.175205508\n",
      "[1216]  1.175231994  1.175730276  1.176351713  1.176890844  1.178265297\n",
      "[1221]  1.178507733  1.180486652  1.182304101  1.184848407  1.185251947\n",
      "[1226]  1.185351147  1.186501020  1.187352886  1.188764654  1.190071432\n",
      "[1231]  1.193224990  1.195695820  1.196078188  1.197285121  1.198401624\n",
      "[1236]  1.199299891  1.199924594  1.200520879  1.201219760  1.201900808\n",
      "[1241]  1.202384607  1.205264519  1.206794522  1.208237579  1.208826993\n",
      "[1246]  1.211388761  1.212526231  1.213572681  1.218537974  1.219176225\n",
      "[1251]  1.220713705  1.223333876  1.223624195  1.225831792  1.230778436\n",
      "[1256]  1.231951061  1.233392383  1.233489668  1.233528298  1.233608444\n",
      "[1261]  1.234609057  1.237854132  1.238431676  1.238568694  1.241567761\n",
      "[1266]  1.244716403  1.246950359  1.248943595  1.249255646  1.249617585\n",
      "[1271]  1.250025008  1.250180879  1.252615717  1.254276550  1.254421107\n",
      "[1276]  1.254622148  1.255240373  1.255821137  1.258765464  1.258960698\n",
      "[1281]  1.260592811  1.260747233  1.263437072  1.264326128  1.266007169\n",
      "[1286]  1.267515500  1.269028484  1.272016408  1.272023151  1.281976233\n",
      "[1291]  1.282708845  1.284025714  1.284547022  1.285104108  1.286177925\n",
      "[1296]  1.289990348  1.291456165  1.291496223  1.291916976  1.292988980\n",
      "[1301]  1.293408798  1.296786625  1.298076692  1.298273941  1.299472274\n",
      "[1306]  1.300707471  1.301497802  1.302465655  1.304691643  1.307172702\n",
      "[1311]  1.308463496  1.311097553  1.311338857  1.311843191  1.313105085\n",
      "[1316]  1.313176329  1.313831739  1.316563885  1.318028580  1.318904407\n",
      "[1321]  1.320069109  1.320909147  1.321425046  1.322101195  1.325668984\n",
      "[1326]  1.333417488  1.335439519  1.337308109  1.337873418  1.338591057\n",
      "[1331]  1.338625687  1.339138724  1.339915357  1.340835193  1.341299578\n",
      "[1336]  1.341487359  1.341491457  1.343019032  1.343342207  1.343681729\n",
      "[1341]  1.351112974  1.351794524  1.355149158  1.356038329  1.356067984\n",
      "[1346]  1.358387743  1.358450038  1.358854844  1.359099366  1.361757895\n",
      "[1351]  1.362767904  1.363700234  1.364014524  1.365548928  1.366098147\n",
      "[1356]  1.367072165  1.367933028  1.368954282  1.369222631  1.369640634\n",
      "[1361]  1.370684154  1.373894690  1.376412556  1.377033731  1.377686366\n",
      "[1366]  1.378046645  1.378349483  1.378728791  1.379550343  1.380242215\n",
      "[1371]  1.381181204  1.383299372  1.383700594  1.383780292  1.383911817\n",
      "[1376]  1.384058599  1.384422707  1.385355581  1.387684905  1.388972497\n",
      "[1381]  1.389393741  1.390051945  1.390737556  1.391112715  1.392922014\n",
      "[1386]  1.393429641  1.393925089  1.394539438  1.395462225  1.395852435\n",
      "[1391]  1.396694890  1.398866572  1.399921655  1.400991145  1.401272743\n",
      "[1396]  1.401814664  1.404708194  1.405054868  1.405389983  1.406066365\n",
      "[1401]  1.407149011  1.408883244  1.409067245  1.411009294  1.413078874\n",
      "[1406]  1.416324667  1.422771191  1.424646028  1.424923033  1.426727924\n",
      "[1411]  1.433165815  1.435567733  1.436291001  1.436802545  1.439190794\n",
      "[1416]  1.441253129  1.446657459  1.448259610  1.449931121  1.450261205\n",
      "[1421]  1.450774929  1.451218871  1.451811108  1.455984924  1.457797064\n",
      "[1426]  1.458000291  1.458046576  1.460723296  1.462347236  1.463440446\n",
      "[1431]  1.464926479  1.464967349  1.465269695  1.465548016  1.470756314\n",
      "[1436]  1.471247854  1.474842999  1.475487398  1.475953699  1.477898474\n",
      "[1441]  1.481392155  1.481875021  1.483579984  1.484423596  1.485212692\n",
      "[1446]  1.485686007  1.490365952  1.491275020  1.491521609  1.497949773\n",
      "[1451]  1.503079680  1.503708826  1.503934926  1.504415784  1.507895507\n",
      "[1456]  1.508288529  1.508569775  1.509023151  1.513680670  1.515044132\n",
      "[1461]  1.518017730  1.518586838  1.520719035  1.521058715  1.521472834\n",
      "[1466]  1.523063117  1.525001118  1.526020410  1.528204613  1.528242003\n",
      "[1471]  1.528742268  1.528814621  1.529872531  1.530628473  1.530650418\n",
      "[1476]  1.531304290  1.532730434  1.533939974  1.535452668  1.535935824\n",
      "[1481]  1.540767134  1.542143701  1.543081098  1.554698242  1.555189160\n",
      "[1486]  1.556284349  1.557104486  1.559606433  1.561917815  1.562681145\n",
      "[1491]  1.563820561  1.569425641  1.570802171  1.573355350  1.574070042\n",
      "[1496]  1.574190016  1.576529311  1.580139803  1.580216706  1.580780700\n",
      "[1501]  1.583687913  1.585824110  1.588868784  1.591716906  1.591817535\n",
      "[1506]  1.592879298  1.593327961  1.593575635  1.594831033  1.597005818\n",
      "[1511]  1.597358885  1.597555008  1.597592304  1.599996285  1.601448271\n",
      "[1516]  1.601460397  1.603928507  1.607798689  1.610337187  1.611700628\n",
      "[1521]  1.611970127  1.612623116  1.614244779  1.614281953  1.618266924\n",
      "[1526]  1.621456600  1.624585943  1.624770449  1.628031693  1.628558871\n",
      "[1531]  1.635620690  1.636484731  1.638409020  1.645211580  1.648094621\n",
      "[1536]  1.651707941  1.652747616  1.652801756  1.654886493  1.656601818\n",
      "[1541]  1.656989455  1.659571807  1.659914398  1.660982830  1.662738711\n",
      "[1546]  1.664833820  1.665280345  1.666337826  1.667969548  1.670372260\n",
      "[1551]  1.673567795  1.674725944  1.674746688  1.674842639  1.677737745\n",
      "[1556]  1.677928504  1.678292917  1.678686071  1.678818102  1.680766304\n",
      "[1561]  1.680978793  1.682747786  1.683031155  1.683980281  1.684640893\n",
      "[1566]  1.686551935  1.686970300  1.687233922  1.687556257  1.687885861\n",
      "[1571]  1.690585788  1.692326701  1.692421189  1.696509215  1.696945421\n",
      "[1576]  1.698581676  1.706739958  1.709123495  1.710713498  1.711277475\n",
      "[1581]  1.711281797  1.712559646  1.713654556  1.714002953  1.717933896\n",
      "[1586]  1.718678422  1.720013617  1.720508782  1.722268097  1.723744484\n",
      "[1591]  1.724180956  1.725516951  1.728917727  1.729236925  1.729346958\n",
      "[1596]  1.729447765  1.731124976  1.734345416  1.736104876  1.740870585\n",
      "[1601]  1.741203619  1.741459789  1.745651154  1.747083525  1.749719133\n",
      "[1606]  1.750199982  1.751533413  1.753995303  1.754190161  1.754627282\n",
      "[1611]  1.755009611  1.760145203  1.760831589  1.760921473  1.763619072\n",
      "[1616]  1.764494311  1.764948537  1.766847049  1.771496207  1.771937050\n",
      "[1621]  1.772879580  1.773478780  1.773606425  1.773787935  1.773989129\n",
      "[1626]  1.774725546  1.776373582  1.776502216  1.777115849  1.779493268\n",
      "[1631]  1.780229082  1.782178314  1.783141040  1.783968891  1.784090965\n",
      "[1636]  1.784316105  1.788256352  1.788321030  1.791940769  1.793781855\n",
      "[1641]  1.793895657  1.799526097  1.807527846  1.810287962  1.810455023\n",
      "[1646]  1.810718862  1.816908849  1.820563761  1.821293862  1.823941889\n",
      "[1651]  1.827406703  1.827716355  1.828620249  1.830596526  1.832386008\n",
      "[1656]  1.834346481  1.834782754  1.835813544  1.837577459  1.837790779\n",
      "[1661]  1.838328345  1.840860954  1.841284132  1.843221046  1.843826202\n",
      "[1666]  1.844395611  1.846966005  1.849752727  1.853054543  1.858557669\n",
      "[1671]  1.860396616  1.861452637  1.861765422  1.862318621  1.863879818\n",
      "[1676]  1.865036420  1.867375731  1.867549279  1.869462447  1.872170151\n",
      "[1681]  1.873119456  1.874149150  1.878139560  1.880170666  1.881716412\n",
      "[1686]  1.882844048  1.898467553  1.898467618  1.901590433  1.901826222\n",
      "[1691]  1.904866268  1.907549015  1.909146435  1.911339494  1.911367427\n",
      "[1696]  1.922284335  1.923450479  1.928113657  1.932299533  1.938636517\n",
      "[1701]  1.942817845  1.946953502  1.946965281  1.948416624  1.949948700\n",
      "[1706]  1.950177693  1.951408986  1.953780984  1.954082117  1.957385591\n",
      "[1711]  1.960119129  1.964951992  1.966477034  1.967701318  1.969074189\n",
      "[1716]  1.970479399  1.973265073  1.974977886  1.975257165  1.976154902\n",
      "[1721]  1.979557784  1.981333587  1.985923407  1.989516993  1.991124580\n",
      "[1726]  1.996782513  1.996966748  1.999814359  2.000396819  2.000493212\n",
      "[1731]  2.002167821  2.002762629  2.004310256  2.004732022  2.008469699\n",
      "[1736]  2.009568853  2.009750784  2.013692091  2.016012683  2.016996081\n",
      "[1741]  2.021461813  2.028386128  2.028958666  2.030452978  2.030792398\n",
      "[1746]  2.031080425  2.031739153  2.043869093  2.045912851  2.046358078\n",
      "[1751]  2.048256448  2.056745016  2.058004827  2.062875898  2.065860531\n",
      "[1756]  2.066247839  2.066933460  2.072189725  2.072838815  2.074862514\n",
      "[1761]  2.075055392  2.079131320  2.079278917  2.081985973  2.082835128\n",
      "[1766]  2.083318970  2.083950713  2.084165160  2.084587909  2.086028778\n",
      "[1771]  2.088451202  2.089319036  2.089898769  2.096805970  2.097732073\n",
      "[1776]  2.101511214  2.102603804  2.104535545  2.104661267  2.113140054\n",
      "[1781]  2.122120630  2.125356259  2.129214167  2.135709814  2.135927073\n",
      "[1786]  2.136624831  2.139129405  2.140399774  2.141313650  2.142519831\n",
      "[1791]  2.142623500  2.145376570  2.147205069  2.149649446  2.150369380\n",
      "[1796]  2.160654898  2.162239228  2.165289439  2.167470682  2.168638940\n",
      "[1801]  2.174016383  2.174212871  2.174225076  2.193575357  2.195505552\n",
      "[1806]  2.196754576  2.199374738  2.204337919  2.204601330  2.206239879\n",
      "[1811]  2.208868112  2.208893445  2.209026786  2.211310358  2.236861233\n",
      "[1816]  2.242733979  2.252376619  2.254382243  2.254388227  2.258237302\n",
      "[1821]  2.260289005  2.262614025  2.265922436  2.269734232  2.278182710\n",
      "[1826]  2.278740469  2.280112876  2.287371629  2.287455021  2.287769904\n",
      "[1831]  2.288118711  2.295213585  2.295826873  2.300112399  2.303579059\n",
      "[1836]  2.306305647  2.307148293  2.310616976  2.314195220  2.323827738\n",
      "[1841]  2.323937128  2.324952635  2.325205773  2.328260885  2.329581627\n",
      "[1846]  2.330700927  2.330972856  2.331952060  2.332799469  2.339324355\n",
      "[1851]  2.340962981  2.341468667  2.345338535  2.349600986  2.350401041\n",
      "[1856]  2.350476608  2.352110163  2.352277756  2.352979682  2.358535626\n",
      "[1861]  2.358916220  2.362375603  2.362806765  2.372229394  2.379388259\n",
      "[1866]  2.381611158  2.385444261  2.396215833  2.407951658  2.426410530\n",
      "[1871]  2.427723376  2.429112271  2.432245303  2.432838579  2.444007432\n",
      "[1876]  2.447996416  2.450893519  2.451299356  2.452132739  2.452734134\n",
      "[1881]  2.453319969  2.454952405  2.461985884  2.466127573  2.474647921\n",
      "[1886]  2.481653686  2.484893194  2.489150896  2.489951613  2.498468103\n",
      "[1891]  2.509702127  2.513272578  2.515061260  2.519356917  2.522473984\n",
      "[1896]  2.524998025  2.531756924  2.532806814  2.535707851  2.542442213\n",
      "[1901]  2.553268423  2.553911445  2.554930951  2.558192622  2.563669939\n",
      "[1906]  2.565757478  2.566161288  2.570572640  2.572883913  2.574364183\n",
      "[1911]  2.587574457  2.594106214  2.596262292  2.607531236  2.609718285\n",
      "[1916]  2.611319336  2.611616689  2.616447099  2.627408071  2.627567570\n",
      "[1921]  2.637558627  2.655239097  2.663175408  2.678507100  2.684063964\n",
      "[1926]  2.696698121  2.701469061  2.702047985  2.704345018  2.704786972\n",
      "[1931]  2.716572880  2.735158228  2.738629847  2.756342588  2.764054765\n",
      "[1936]  2.764139549  2.772823145  2.780462811  2.785781326  2.787151364\n",
      "[1941]  2.796949703  2.806204998  2.815276931  2.818395611  2.818504622\n",
      "[1946]  2.857227090  2.864132003  2.875752140  2.881735202  2.889089587\n",
      "[1951]  2.890034423  2.893277886  2.914465573  2.927693194  2.946748594\n",
      "[1956]  2.947569460  2.979506405  2.984737025  2.990495616  3.000861810\n",
      "[1961]  3.001416612  3.024828315  3.028151026  3.040357293  3.051117284\n",
      "[1966]  3.063158819  3.071431812  3.074713374  3.078630260  3.094840831\n",
      "[1971]  3.109374842  3.109435431  3.115506757  3.148538608  3.154906108\n",
      "[1976]  3.165997066  3.169566409  3.177790099  3.287763362  3.334107245\n",
      "[1981]  3.371147874  3.401540946  3.416155954  3.428447041  3.429023105\n",
      "[1986]  3.429165667  3.494049388  3.497775538  3.586577867  3.661147287\n",
      "[1991]  3.664281548  3.762975087  3.799536126  3.891403298  3.911709919\n",
      "[1996]  3.933445733  4.053240410  4.092430088  4.107491388  4.633768985\n"
     ]
    }
   ],
   "source": [
    "n <- 2000\n",
    "x <- rnorm(n) + 0.9\n",
    "print(sort(x))"
   ]
  },
  {
   "cell_type": "markdown",
   "metadata": {
    "slideshow": {
     "slide_type": "subslide"
    }
   },
   "source": [
    "* The researcher correctly specifies the normal model\n",
    "* Given the data, she infers $\\theta$ according to the posterior distribution"
   ]
  },
  {
   "cell_type": "code",
   "execution_count": 8,
   "metadata": {
    "slideshow": {
     "slide_type": "fragment"
    },
    "vscode": {
     "languageId": "r"
    }
   },
   "outputs": [
    {
     "name": "stdout",
     "output_type": "stream",
     "text": [
      "     2.5%     97.5% \n",
      "0.8510968 0.9393395 \n"
     ]
    },
    {
     "data": {
      "image/png": "[encoded data removed]",
      "text/plain": [
       "Plot with title \"density(x = out)\""
      ]
     },
     "metadata": {
      "image/png": {
       "height": 420,
       "width": 420
      }
     },
     "output_type": "display_data"
    }
   ],
   "source": [
    "loglik <- function(theta) {   y <- sum( log( dnorm( x, theta, 1 ) ) ) } \n",
    "\n",
    "posterior <- function(theta) { loglik(theta) + log(dbeta(theta, 2, 2))  }\n",
    "\n",
    "nbatch <- 10000\n",
    "out <- mcmc::metrop(obj = posterior, initial = 0.1, nbatch = nbatch, nspac = 10)$batch\n",
    "out <- out[-(1:round(nbatch/10))] # remove the burn-in period\n",
    "\n",
    "plot(density(out))\n",
    "\n",
    "print( quantile(out, probs = c(0.025, 0.975) ))"
   ]
  },
  {
   "cell_type": "markdown",
   "metadata": {
    "slideshow": {
     "slide_type": "skip"
    }
   },
   "source": [
    "### Laplace-type Estimator\n",
    "\n",
    "* Some criterion functions in econometrics is difficult to optimize\n",
    "* @chernozhukov2003mcmc's *Laplace-type estimator* replaces optimization by simulation"
   ]
  },
  {
   "cell_type": "markdown",
   "metadata": {
    "slideshow": {
     "slide_type": "skip"
    }
   },
   "source": [
    "* Let $L_n(\\theta)$ be an criterion function (say, OLS, (negative) log likelihood, etc),\n",
    "\n",
    "$$\n",
    "f_n (\\theta) = \\frac{\\exp(-L_n(\\theta))\\pi(\\theta)}{\\int_{\\Theta} \\exp(-L_n(\\theta))\\pi(\\theta)}\n",
    "$$\n",
    "\n",
    "and $\\pi(\\theta)$ be the density of a prior.\n",
    "\n",
    "* The smaller is the value of the objective function, the larger it weighs. \n",
    "* Exponential transformation comes from [Laplace approximation](https://en.wikipedia.org/wiki/Laplace's_method)."
   ]
  },
  {
   "cell_type": "markdown",
   "metadata": {
    "slideshow": {
     "slide_type": "skip"
    }
   },
   "source": [
    "* Use MCMC to simulate the distribution of $\\theta$.\n",
    "* For a linear regression model, the code block compares the OLS estimator with the LTE estimator "
   ]
  },
  {
   "cell_type": "code",
   "execution_count": null,
   "metadata": {
    "slideshow": {
     "slide_type": "skip"
    },
    "vscode": {
     "languageId": "r"
    }
   },
   "outputs": [],
   "source": [
    "library(magrittr)\n",
    "\n",
    "# DGP\n",
    "n <- 100\n",
    "b0 <- c(.1, .1)\n",
    "X <- cbind(1, rnorm(n))\n",
    "Y <- X %*% b0 + rnorm(n)"
   ]
  },
  {
   "cell_type": "code",
   "execution_count": null,
   "metadata": {
    "slideshow": {
     "slide_type": "skip"
    },
    "vscode": {
     "languageId": "r"
    }
   },
   "outputs": [],
   "source": [
    "# Laplace-type estimator\n",
    "# L <- function(b) -0.5 * sum((Y - X %*% b)^2) - 0.5 * crossprod(b - c(0, 0))\n",
    "# notice the \"minus\" sign of the OLS objective function\n",
    "# here we use a normal prior around (0,0) with var 1\n",
    "\n",
    "L <- function(b) -0.5*sum((Y - X %*% b)^2) # flat prior\n",
    "\n",
    "nbatch <- 10000\n",
    "out <- mcmc::metrop(obj = L, initial = c(0, 0), nbatch = nbatch, nspac = 20)$batch\n",
    "\n",
    "# summarize the estimation\n",
    "bhat2 <- out[-(1:round(nbatch / 10)), 2] # remove the burn in\n",
    "bhat2_point <- mean(bhat2)\n",
    "bhat2_sd <- sd(bhat2)\n",
    "bhat2_CI <- quantile(bhat2, c(.025, .975))\n",
    "\n",
    "# report results\n",
    "print(cat(\n",
    "  \"The posterior mean =\", bhat2_point, \" sd = \", bhat2_sd,\n",
    "  \" \\n and C.I.=(\", bhat2_CI, \")\"\n",
    "))\n",
    "\n",
    "plot(density(bhat2), main = \"posterior from normal prior\")"
   ]
  },
  {
   "cell_type": "code",
   "execution_count": null,
   "metadata": {
    "slideshow": {
     "slide_type": "skip"
    },
    "vscode": {
     "languageId": "r"
    }
   },
   "outputs": [],
   "source": [
    "# OLS estimation\n",
    "\n",
    "b2_OLS <- (lm(Y ~ -1 + X) %>% summary() %>% coef())[2, ]\n",
    "# \"-1\" in lm( ) because X has contained intercept\n",
    "print(cat(\n",
    "  \"The OLS point est =\", b2_OLS[1], \" sd = \", b2_OLS[2],\n",
    "  \" \\n and C.I.=(\", c(b2_OLS[1] - 1.96 * b2_OLS[2], b2_OLS[1] + 1.96 * b2_OLS[2]), \")\"\n",
    "))"
   ]
  },
  {
   "cell_type": "markdown",
   "metadata": {
    "slideshow": {
     "slide_type": "slide"
    }
   },
   "source": [
    "## Reading\n",
    "\n",
    "CASI: Ch.2.1; 3.3--4; 13.4\n"
   ]
  }
 ],
 "metadata": {
  "anaconda-cloud": "",
  "celltoolbar": "Slideshow",
  "kernelspec": {
   "display_name": "R",
   "language": "R",
   "name": "ir"
  },
  "language_info": {
   "codemirror_mode": "r",
   "file_extension": ".r",
   "mimetype": "text/x-r-source",
   "name": "R",
   "pygments_lexer": "r",
   "version": "4.3.1"
  },
  "rise": {
   "enable_chalkboard": true,
   "scroll": true,
   "theme": "serif"
  }
 },
 "nbformat": 4,
 "nbformat_minor": 1
}
