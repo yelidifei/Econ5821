{
 "cells": [
  {
   "cell_type": "markdown",
   "id": "1244bb18",
   "metadata": {
    "slideshow": {
     "slide_type": "slide"
    }
   },
   "source": [
    "# Cloud Computing\n",
    "\n",
    "### Zhentao Shi\n",
    "\n",
    "<img src=\"graph/shenwei.jpg\" width=\"1000\">"
   ]
  },
  {
   "cell_type": "markdown",
   "id": "71572d05",
   "metadata": {
    "slideshow": {
     "slide_type": "slide"
    }
   },
   "source": [
    "* Remote servers are more powerful than personal computers\n",
    "* Instruments for intensive jobs\n",
    "\n",
    "* Cloud storage\n",
    "* Cloud computing"
   ]
  },
  {
   "cell_type": "markdown",
   "id": "6f3133fd",
   "metadata": {
    "slideshow": {
     "slide_type": "slide"
    }
   },
   "source": [
    "### Workflow \n",
    "\n",
    "* No fundamental difference lies between local and cloud\n",
    "* Prepare in the cloud serve the data and code\n",
    "* Open a shell for communication, run the code, and collect the results\n",
    "\n",
    "* Command-line interface (CLI)"
   ]
  },
  {
   "cell_type": "markdown",
   "id": "3fe51256",
   "metadata": {
    "slideshow": {
     "slide_type": "skip"
    }
   },
   "source": [
    "### Windows users\n",
    "\n",
    "* [`PUTTY`](https://www.putty.org/)\n",
    "* [`WinSCP`](http://winscp.net/eng/download.php)"
   ]
  },
  {
   "cell_type": "markdown",
   "id": "57a62da3",
   "metadata": {
    "slideshow": {
     "slide_type": "subslide"
    }
   },
   "source": [
    "### Open Source\n",
    "\n",
    "* Strong justification for open-source languages\n",
    "* Installation with no limitations"
   ]
  },
  {
   "cell_type": "markdown",
   "id": "ab034290",
   "metadata": {
    "slideshow": {
     "slide_type": "slide"
    }
   },
   "source": [
    "### User Experience\n",
    "\n",
    "* Cost and barrier of remote computing have reduced significantly\n",
    "* Remote desktop best mimics the familiar operation system on a local computer\n",
    "* Internet latency\n",
    "* CLI flexible"
   ]
  },
  {
   "cell_type": "markdown",
   "id": "b9536189",
   "metadata": {
    "slideshow": {
     "slide_type": "subslide"
    }
   },
   "source": [
    "* Remote Jupyter and Rstudio work via a web browser as an interface\n",
    "* Mouse and keyboard are still local\n",
    "* Command is send from the browser to the remote computer\n",
    "* Results are send back to the browser for display\n",
    "* IDEs also have file management, to partially replace WinSCP\n",
    "\n"
   ]
  },
  {
   "cell_type": "markdown",
   "id": "bd0ca9d7",
   "metadata": {
    "slideshow": {
     "slide_type": "slide"
    }
   },
   "source": [
    "### RStudio Server\n",
    "\n",
    "A command line shell has no graphic interface for interactive data analysis. \n",
    "[RStudio server](https://rstudio.com/products/rstudio/#rstudio-server) offers a local-like\n",
    "environment via a web browser to communicate with a remote server. \n",
    "\n",
    "* Rstudio on SCRP\n",
    "* Jupyter Notebook on SCRP\n"
   ]
  },
  {
   "cell_type": "markdown",
   "id": "e23fe5a4",
   "metadata": {
    "slideshow": {
     "slide_type": "subslide"
    }
   },
   "source": [
    "* `Posit Cloud` \n",
    "  * a free service to facilitate teaching and demonstration\n",
    "  * computation unit is too weak to execute serious tasks.\n",
    "* `SCRP` \n",
    "  * resembles a workplace environment in a small company\n",
    "  * always online (with VPN connection)\n",
    "  * more powerful than the best local computer we can afford.\n",
    "* `Amazon Web Service Cloud` or `阿里云`\n",
    "  * commercial service tailored according to budget\n",
    "  * from tiny demonstrative display to big enterprise business applications\n",
    "  * need to be configured"
   ]
  },
  {
   "cell_type": "markdown",
   "id": "45f38e07",
   "metadata": {
    "slideshow": {
     "slide_type": "slide"
    }
   },
   "source": [
    "### CUHK Econ\n",
    "\n",
    "* Students have access to powerful multi-core computers\n",
    "* Cluster's single-core performance may not as good as your laptop\n",
    "* The advantage of cluster comes from parallel executation"
   ]
  },
  {
   "cell_type": "markdown",
   "id": "7c992e21",
   "metadata": {
    "slideshow": {
     "slide_type": "subslide"
    }
   },
   "source": [
    "<img src=\"graph/scrp2.jpg\" width=\"1000\">"
   ]
  },
  {
   "cell_type": "markdown",
   "id": "bebbe431",
   "metadata": {
    "slideshow": {
     "slide_type": "subslide"
    }
   },
   "source": [
    "<img src=\"graph/scrp1.jpg\" width=\"1000\">"
   ]
  },
  {
   "cell_type": "markdown",
   "id": "890227fd",
   "metadata": {
    "slideshow": {
     "slide_type": "fragment"
    }
   },
   "source": [
    "1. Log in `scrp-login-2.econ.cuhk.edu.hk`;\n",
    "2. Upload R scripts and data to the server;\n",
    "3. In a shell, run `R --no-save <file_name.R> result_file_name.out`;\n",
    "4. To run a command in the background, add \"`&`\" at the end of the above command."
   ]
  },
  {
   "cell_type": "markdown",
   "id": "9a8bd6fe",
   "metadata": {
    "slideshow": {
     "slide_type": "subslide"
    }
   },
   "source": [
    "* This example comes from Lin, Shi, Wang and Yan (2023)\n",
    "* Only use 15% of the data and a sparse grid of tuning parameters\n",
    "\n",
    "\n",
    "* It takes about 9 minutes with 24 cores on `econsuper` (17 min on `SCRP`)"
   ]
  },
  {
   "cell_type": "markdown",
   "id": "054f32ef",
   "metadata": {
    "slideshow": {
     "slide_type": "slide"
    }
   },
   "source": [
    "R packages `caret`, `doParallel`, and `gbm` are needed for the following script.\n",
    "```\n",
    "ssh zhentao.shi@scrp-login-2.econ.cuhk.edu.hk\n",
    "cd data_example\n",
    "R --no-save <Beijing_housing_gbm.R> GBM_BJ.out & \n",
    "```"
   ]
  },
  {
   "cell_type": "markdown",
   "id": "69ec5434",
   "metadata": {
    "slideshow": {
     "slide_type": "slide"
    }
   },
   "source": [
    "### Long jobs\n",
    "\n",
    "* Keep jobs running on the background \n",
    "* Terminal can be freed for other task\n",
    "\n",
    "* Disconnect with the server and the task is still running\n",
    "* Otherwise, the task will be terminated immediately once we close window, disconnect with the server, or lose Internet or VPN connection."
   ]
  },
  {
   "cell_type": "markdown",
   "id": "46e71735",
   "metadata": {
    "slideshow": {
     "slide_type": "slide"
    }
   },
   "source": [
    "### Prepare in Advance\n",
    "\n",
    "* Test the input and output in small scale on  local computer or graphic cloud server\n",
    "  * Work in CLI means no interaction with intermediate results\n",
    "  * Don't debug in CLI\n",
    "* Think in advance how to retrieve the results\n",
    "* Export key results as data files (Rdata or csv...) or graph files (pdf, jpeg, png). \n"
   ]
  },
  {
   "cell_type": "markdown",
   "id": "93685a22",
   "metadata": {
    "slideshow": {
     "slide_type": "slide"
    }
   },
   "source": [
    "## Reproducibility\n",
    "\n",
    "* Keep the same environment across local computers and remote clusters\n",
    "\n",
    "* Virtual machine\n",
    "* [Docker](https://hub.docker.com/repository/docker/ztshi/econ_data_sci/general)\n",
    "* [Gitpod](https://gitpod.io/#https://github.com/zhentaoshi/econ_data_science)"
   ]
  },
  {
   "cell_type": "markdown",
   "id": "8b2cfdf7",
   "metadata": {
    "slideshow": {
     "slide_type": "slide"
    }
   },
   "source": [
    "## Exercises\n",
    "\n",
    "* Write a simple R script \n",
    "* Run it on SCRP with CLI"
   ]
  }
 ],
 "metadata": {
  "celltoolbar": "Slideshow",
  "kernelspec": {
   "display_name": "R",
   "language": "R",
   "name": "ir"
  },
  "language_info": {
   "codemirror_mode": "r",
   "file_extension": ".r",
   "mimetype": "text/x-r-source",
   "name": "R",
   "pygments_lexer": "r",
   "version": "4.3.1"
  },
  "rise": {
   "enable_chalkboard": true,
   "scroll": true,
   "theme": "serif"
  }
 },
 "nbformat": 4,
 "nbformat_minor": 5
}
